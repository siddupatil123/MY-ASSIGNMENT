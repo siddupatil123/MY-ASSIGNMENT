{
  "nbformat": 4,
  "nbformat_minor": 0,
  "metadata": {
    "colab": {
      "provenance": []
    },
    "kernelspec": {
      "name": "python3",
      "display_name": "Python 3"
    },
    "language_info": {
      "name": "python"
    }
  },
  "cells": [
    {
      "cell_type": "markdown",
      "source": [
        "1.How many seconds are in an hour? Use the interactive interpreter as a calculator and multiply the\n",
        "number of seconds in a minute (60) by the number of minutes in an hour (also 60)."
      ],
      "metadata": {
        "id": "7TAQFs9mhu0G"
      }
    },
    {
      "cell_type": "markdown",
      "source": [
        "ANSWER:there is 3600 seconds in an hour"
      ],
      "metadata": {
        "id": "O7vmKUPxiBA7"
      }
    },
    {
      "cell_type": "code",
      "execution_count": 3,
      "metadata": {
        "colab": {
          "base_uri": "https://localhost:8080/"
        },
        "id": "W19FTk7chp0Y",
        "outputId": "294105fd-801c-4e05-c2e4-51cdd458526c"
      },
      "outputs": [
        {
          "output_type": "stream",
          "name": "stdout",
          "text": [
            "3600\n"
          ]
        }
      ],
      "source": [
        "number_of_seconds_in_a_minute=60\n",
        "number_of_minutes_in_a_hour=60\n",
        "seconds_inhour=number_of_seconds_in_a_minute*number_of_minutes_in_a_hour\n",
        "print(seconds_inhour)"
      ]
    },
    {
      "cell_type": "markdown",
      "source": [
        "Assign the result from the previous task (seconds in an hour) to a variable called\n",
        "seconds_per_hour."
      ],
      "metadata": {
        "id": "3Pf11GcJjzKW"
      }
    },
    {
      "cell_type": "code",
      "source": [
        "seconds_per_hour=3600"
      ],
      "metadata": {
        "id": "KAUEuXMzjNFq"
      },
      "execution_count": 4,
      "outputs": []
    },
    {
      "cell_type": "markdown",
      "source": [
        "3. How many seconds do you think there are in a day? Make use of the variables seconds per hour\n",
        "and minutes per hour."
      ],
      "metadata": {
        "id": "wql6oIVhj_z0"
      }
    },
    {
      "cell_type": "code",
      "source": [
        "seconds_in_a_day=seconds_per_hour*24\n",
        "print(seconds_in_a_day)"
      ],
      "metadata": {
        "colab": {
          "base_uri": "https://localhost:8080/"
        },
        "id": "DMcNr4__j6-w",
        "outputId": "8d282529-62dc-4359-f238-6aa0560098a4"
      },
      "execution_count": 5,
      "outputs": [
        {
          "output_type": "stream",
          "name": "stdout",
          "text": [
            "86400\n"
          ]
        }
      ]
    },
    {
      "cell_type": "markdown",
      "source": [
        "4. Calculate seconds per day again, but this time save the result in a variable called seconds_per_day"
      ],
      "metadata": {
        "id": "-7btjzOElPdL"
      }
    },
    {
      "cell_type": "code",
      "source": [
        "seconds_per_day=seconds_in_a_day\n",
        "print(seconds_per_day)"
      ],
      "metadata": {
        "colab": {
          "base_uri": "https://localhost:8080/"
        },
        "id": "PsCZiJ50kcLx",
        "outputId": "b2050dcd-afa1-4c34-c70a-edd8cda67df8"
      },
      "execution_count": 6,
      "outputs": [
        {
          "output_type": "stream",
          "name": "stdout",
          "text": [
            "86400\n"
          ]
        }
      ]
    },
    {
      "cell_type": "code",
      "source": [
        "seconds_per_day"
      ],
      "metadata": {
        "colab": {
          "base_uri": "https://localhost:8080/"
        },
        "id": "uW7q7HirlbDO",
        "outputId": "78cc5553-56cf-4e89-a8e0-9be117dcd3bb"
      },
      "execution_count": 7,
      "outputs": [
        {
          "output_type": "execute_result",
          "data": {
            "text/plain": [
              "86400"
            ]
          },
          "metadata": {},
          "execution_count": 7
        }
      ]
    },
    {
      "cell_type": "markdown",
      "source": [
        "5. Divide seconds_per_day by seconds_per_hour. Use floating-point (/) division."
      ],
      "metadata": {
        "id": "xwJWZ_5zlj_R"
      }
    },
    {
      "cell_type": "code",
      "source": [
        "a=float(seconds_per_day/seconds_per_hour)\n",
        "print(a)"
      ],
      "metadata": {
        "colab": {
          "base_uri": "https://localhost:8080/"
        },
        "id": "I75TY0rolfW4",
        "outputId": "01654ffd-2bdb-4fab-8778-4da448fd1b77"
      },
      "execution_count": 8,
      "outputs": [
        {
          "output_type": "stream",
          "name": "stdout",
          "text": [
            "24.0\n"
          ]
        }
      ]
    },
    {
      "cell_type": "markdown",
      "source": [
        "6. Divide seconds_per_day by seconds_per_hour, using integer (//) division. Did this number agree\n",
        "with the floating-point value from the previous question, aside from the final .0?"
      ],
      "metadata": {
        "id": "vHD375ovmN-h"
      }
    },
    {
      "cell_type": "code",
      "source": [
        "b=float(seconds_per_day//seconds_per_hour)\n",
        "print(b)"
      ],
      "metadata": {
        "colab": {
          "base_uri": "https://localhost:8080/"
        },
        "id": "h_OoomcSmFki",
        "outputId": "69012130-f3c0-480d-f505-09a44aba95f3"
      },
      "execution_count": 9,
      "outputs": [
        {
          "output_type": "stream",
          "name": "stdout",
          "text": [
            "24.0\n"
          ]
        }
      ]
    },
    {
      "cell_type": "code",
      "source": [],
      "metadata": {
        "id": "QrZYsL8wocgY"
      },
      "execution_count": null,
      "outputs": []
    }
  ]
}