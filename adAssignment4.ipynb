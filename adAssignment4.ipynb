{
 "cells": [
  {
   "cell_type": "code",
   "execution_count": null,
   "id": "ed389a22",
   "metadata": {},
   "outputs": [],
   "source": [
    "Q1. Which two operator overloading methods can you use in your classes to support iteration?"
   ]
  },
  {
   "cell_type": "code",
   "execution_count": null,
   "id": "5ad58b4c",
   "metadata": {},
   "outputs": [],
   "source": [
    "addition operator and comaparison operator"
   ]
  },
  {
   "cell_type": "code",
   "execution_count": null,
   "id": "19dc6c48",
   "metadata": {},
   "outputs": [],
   "source": [
    "Q2. In what contexts do the two operator overloading methods manage printing?"
   ]
  },
  {
   "cell_type": "code",
   "execution_count": null,
   "id": "ce8f1035",
   "metadata": {},
   "outputs": [],
   "source": [
    "by giving meaning full describe about the pre defined operators"
   ]
  },
  {
   "cell_type": "code",
   "execution_count": null,
   "id": "b439fd65",
   "metadata": {},
   "outputs": [],
   "source": [
    "Q3. In a class, how do you intercept slice operations?"
   ]
  },
  {
   "cell_type": "code",
   "execution_count": null,
   "id": "2ccd6406",
   "metadata": {},
   "outputs": [],
   "source": [
    "we use slice() function in the classes"
   ]
  },
  {
   "cell_type": "code",
   "execution_count": null,
   "id": "ae8cbf92",
   "metadata": {},
   "outputs": [],
   "source": [
    "Q4. In a class, how do you capture in-place addition?"
   ]
  },
  {
   "cell_type": "code",
   "execution_count": null,
   "id": "ba1960bc",
   "metadata": {},
   "outputs": [],
   "source": [
    "isadd() we use in place of addition operation"
   ]
  },
  {
   "cell_type": "code",
   "execution_count": null,
   "id": "27cf5cfc",
   "metadata": {},
   "outputs": [],
   "source": [
    "Q5. When is it appropriate to use operator overloading?"
   ]
  },
  {
   "cell_type": "code",
   "execution_count": null,
   "id": "3040f979",
   "metadata": {},
   "outputs": [],
   "source": [
    "when both operands are user defined class"
   ]
  }
 ],
 "metadata": {
  "kernelspec": {
   "display_name": "Python 3 (ipykernel)",
   "language": "python",
   "name": "python3"
  },
  "language_info": {
   "codemirror_mode": {
    "name": "ipython",
    "version": 3
   },
   "file_extension": ".py",
   "mimetype": "text/x-python",
   "name": "python",
   "nbconvert_exporter": "python",
   "pygments_lexer": "ipython3",
   "version": "3.9.12"
  }
 },
 "nbformat": 4,
 "nbformat_minor": 5
}
