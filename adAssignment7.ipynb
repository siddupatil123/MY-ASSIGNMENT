{
 "cells": [
  {
   "cell_type": "code",
   "execution_count": null,
   "id": "be3e100b",
   "metadata": {},
   "outputs": [],
   "source": [
    "Q1. What is the purpose of the try statement?"
   ]
  },
  {
   "cell_type": "code",
   "execution_count": null,
   "id": "1efda87d",
   "metadata": {},
   "outputs": [],
   "source": [
    "try block used to catch some errors during the execution of the program"
   ]
  },
  {
   "cell_type": "code",
   "execution_count": null,
   "id": "cd443396",
   "metadata": {},
   "outputs": [],
   "source": [
    "Q2. What are the two most popular try statement variations?"
   ]
  },
  {
   "cell_type": "code",
   "execution_count": null,
   "id": "a95b3149",
   "metadata": {},
   "outputs": [],
   "source": [
    "else and finally are the two most popular statement"
   ]
  },
  {
   "cell_type": "code",
   "execution_count": null,
   "id": "a511bf81",
   "metadata": {},
   "outputs": [],
   "source": [
    "Q3. What is the purpose of the raise statement?"
   ]
  },
  {
   "cell_type": "code",
   "execution_count": null,
   "id": "24a995dc",
   "metadata": {},
   "outputs": [],
   "source": [
    "it is used to raise custom exception error"
   ]
  },
  {
   "cell_type": "code",
   "execution_count": null,
   "id": "e902a554",
   "metadata": {},
   "outputs": [],
   "source": [
    "Q4. What does the assert statement do, and what other statement is it like?"
   ]
  },
  {
   "cell_type": "code",
   "execution_count": null,
   "id": "9160d55d",
   "metadata": {},
   "outputs": [],
   "source": [
    "assert staement will check the condition if it is not it will throws an assertion error"
   ]
  },
  {
   "cell_type": "code",
   "execution_count": null,
   "id": "acb91cc2",
   "metadata": {},
   "outputs": [],
   "source": [
    "Q5. What is the purpose of the with/as argument, and what other statement is it like?"
   ]
  },
  {
   "cell_type": "code",
   "execution_count": null,
   "id": "360ddcd4",
   "metadata": {},
   "outputs": [],
   "source": [
    "it is used in exception handling and makes code more readble"
   ]
  }
 ],
 "metadata": {
  "kernelspec": {
   "display_name": "Python 3 (ipykernel)",
   "language": "python",
   "name": "python3"
  },
  "language_info": {
   "codemirror_mode": {
    "name": "ipython",
    "version": 3
   },
   "file_extension": ".py",
   "mimetype": "text/x-python",
   "name": "python",
   "nbconvert_exporter": "python",
   "pygments_lexer": "ipython3",
   "version": "3.9.12"
  }
 },
 "nbformat": 4,
 "nbformat_minor": 5
}
