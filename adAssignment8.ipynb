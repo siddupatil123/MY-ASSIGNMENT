{
 "cells": [
  {
   "cell_type": "code",
   "execution_count": null,
   "id": "1630aba6",
   "metadata": {},
   "outputs": [],
   "source": [
    "Q1. What are the two latest user-defined exception constraints in Python 3.X?"
   ]
  },
  {
   "cell_type": "code",
   "execution_count": null,
   "id": "b25c89c1",
   "metadata": {},
   "outputs": [],
   "source": [
    "user defined exception are used customise the error and foe that we use the raise block"
   ]
  },
  {
   "cell_type": "code",
   "execution_count": null,
   "id": "a50e1645",
   "metadata": {},
   "outputs": [],
   "source": [
    "Q2. How are class-based exceptions that have been raised matched to handlers?"
   ]
  },
  {
   "cell_type": "code",
   "execution_count": null,
   "id": "52921512",
   "metadata": {},
   "outputs": [],
   "source": [
    "class based exception is declared inthe interface itself by usig catch class it is matched to handlers"
   ]
  },
  {
   "cell_type": "code",
   "execution_count": null,
   "id": "03f6c397",
   "metadata": {},
   "outputs": [],
   "source": [
    "Q3. Describe two methods for attaching context information to exception artefacts."
   ]
  },
  {
   "cell_type": "code",
   "execution_count": null,
   "id": "5d46675b",
   "metadata": {},
   "outputs": [],
   "source": [
    "by user-defined exception and built in exception"
   ]
  },
  {
   "cell_type": "code",
   "execution_count": null,
   "id": "93b930fc",
   "metadata": {},
   "outputs": [],
   "source": [
    "Q4. Describe two methods for specifying the text of an exception object&#39;s error message."
   ]
  },
  {
   "cell_type": "code",
   "execution_count": null,
   "id": "e5c1be6f",
   "metadata": {},
   "outputs": [],
   "source": [
    "get()message is use for text message error"
   ]
  },
  {
   "cell_type": "code",
   "execution_count": null,
   "id": "9f4c1702",
   "metadata": {},
   "outputs": [],
   "source": [
    "Q5. Why do you no longer use string-based exceptions?"
   ]
  },
  {
   "cell_type": "code",
   "execution_count": null,
   "id": "00a18897",
   "metadata": {},
   "outputs": [],
   "source": [
    "because sring is a sequence where exception will be different for different values"
   ]
  }
 ],
 "metadata": {
  "kernelspec": {
   "display_name": "Python 3 (ipykernel)",
   "language": "python",
   "name": "python3"
  },
  "language_info": {
   "codemirror_mode": {
    "name": "ipython",
    "version": 3
   },
   "file_extension": ".py",
   "mimetype": "text/x-python",
   "name": "python",
   "nbconvert_exporter": "python",
   "pygments_lexer": "ipython3",
   "version": "3.9.12"
  }
 },
 "nbformat": 4,
 "nbformat_minor": 5
}
