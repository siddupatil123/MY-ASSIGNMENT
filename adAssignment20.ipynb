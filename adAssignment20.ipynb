{
 "cells": [
  {
   "cell_type": "code",
   "execution_count": null,
   "id": "8e5aa629",
   "metadata": {},
   "outputs": [],
   "source": [
    "1. Compare and contrast the float and Decimal classes&#39; benefits and drawbacks."
   ]
  },
  {
   "cell_type": "code",
   "execution_count": null,
   "id": "186ed992",
   "metadata": {},
   "outputs": [],
   "source": [
    "float stores the approximate value and decimal stores exact value"
   ]
  },
  {
   "cell_type": "code",
   "execution_count": null,
   "id": "a0ec45f1",
   "metadata": {},
   "outputs": [],
   "source": [
    "2. Decimal(&#39;1.200&#39;) and Decimal(&#39;1.2&#39;) are two objects to consider. In what sense are these the same\n",
    "object? Are these just two ways of representing the exact same value, or do they correspond to\n",
    "different internal states?"
   ]
  },
  {
   "cell_type": "code",
   "execution_count": null,
   "id": "7b45ac77",
   "metadata": {},
   "outputs": [],
   "source": [
    "in the function wise these are the same object\n",
    "yes they are representing the same value"
   ]
  },
  {
   "cell_type": "code",
   "execution_count": null,
   "id": "7f30360f",
   "metadata": {},
   "outputs": [],
   "source": [
    "3. What happens if the equality of Decimal(&#39;1.200&#39;) and Decimal(&#39;1.2&#39;) is checked?"
   ]
  },
  {
   "cell_type": "code",
   "execution_count": null,
   "id": "625e2896",
   "metadata": {},
   "outputs": [],
   "source": [
    "no they are not same "
   ]
  },
  {
   "cell_type": "code",
   "execution_count": null,
   "id": "9864f112",
   "metadata": {},
   "outputs": [],
   "source": [
    "4. Why is it preferable to start a Decimal object with a string rather than a floating-point value?"
   ]
  },
  {
   "cell_type": "code",
   "execution_count": null,
   "id": "abcabedb",
   "metadata": {},
   "outputs": [],
   "source": [
    "because it gives the excat value not the approximate value"
   ]
  },
  {
   "cell_type": "code",
   "execution_count": null,
   "id": "30982d52",
   "metadata": {},
   "outputs": [],
   "source": [
    "5. In an arithmetic phrase, how simple is it to combine Decimal objects with integers?"
   ]
  },
  {
   "cell_type": "code",
   "execution_count": null,
   "id": "dacb080b",
   "metadata": {},
   "outputs": [],
   "source": [
    "just adding the number having decimal  values"
   ]
  },
  {
   "cell_type": "code",
   "execution_count": null,
   "id": "fedb956c",
   "metadata": {},
   "outputs": [],
   "source": [
    "6. Can Decimal objects and floating-point values be combined easily?"
   ]
  },
  {
   "cell_type": "code",
   "execution_count": null,
   "id": "eec56688",
   "metadata": {},
   "outputs": [],
   "source": [
    "Decimal objects cannot generally be combined with float"
   ]
  },
  {
   "cell_type": "code",
   "execution_count": null,
   "id": "2fd62370",
   "metadata": {},
   "outputs": [],
   "source": [
    "7. Using the Fraction class but not the Decimal class, give an example of a quantity that can be\n",
    "expressed with absolute precision."
   ]
  },
  {
   "cell_type": "code",
   "execution_count": null,
   "id": "19ad5f45",
   "metadata": {},
   "outputs": [],
   "source": [
    "absolute precision is the number of digits in the numbers \n",
    "For example, the number 123.45 has a precision of 5 and a scale of 2"
   ]
  },
  {
   "cell_type": "code",
   "execution_count": null,
   "id": "a2d6244a",
   "metadata": {},
   "outputs": [],
   "source": [
    "Q10. How do the Fraction class and the integer type (int) relate to each other? Containment or\n",
    "inheritance?"
   ]
  },
  {
   "cell_type": "code",
   "execution_count": null,
   "id": "b392bb72",
   "metadata": {},
   "outputs": [],
   "source": [
    "inheritance"
   ]
  }
 ],
 "metadata": {
  "kernelspec": {
   "display_name": "Python 3 (ipykernel)",
   "language": "python",
   "name": "python3"
  },
  "language_info": {
   "codemirror_mode": {
    "name": "ipython",
    "version": 3
   },
   "file_extension": ".py",
   "mimetype": "text/x-python",
   "name": "python",
   "nbconvert_exporter": "python",
   "pygments_lexer": "ipython3",
   "version": "3.9.12"
  }
 },
 "nbformat": 4,
 "nbformat_minor": 5
}
