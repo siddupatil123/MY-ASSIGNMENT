{
  "nbformat": 4,
  "nbformat_minor": 0,
  "metadata": {
    "colab": {
      "provenance": []
    },
    "kernelspec": {
      "name": "python3",
      "display_name": "Python 3"
    },
    "language_info": {
      "name": "python"
    }
  },
  "cells": [
    {
      "cell_type": "markdown",
      "source": [
        "1. What are escape characters, and how do you use them?\n",
        "\n",
        "ANSWER:escape character is backslash\\ we use near the single or double quotes where this provide literal representation of non printing characters"
      ],
      "metadata": {
        "id": "P0oxLpJvdlYR"
      }
    },
    {
      "cell_type": "markdown",
      "source": [
        "2. What do the escape characters n and t stand for?\n",
        "\n",
        "ANSWER: \n",
        "\n",
        " n stands for new line\n",
        "\n",
        " t stands for tab"
      ],
      "metadata": {
        "id": "wQE5ZTr3fI5t"
      }
    },
    {
      "cell_type": "markdown",
      "source": [
        "3. What is the way to include backslash characters in a string?\n",
        "\n",
        "ANSWER: A balckslash is follwed by the character we want to insert\n"
      ],
      "metadata": {
        "id": "Anrc8Hvsf4Z_"
      }
    },
    {
      "cell_type": "markdown",
      "source": [
        "4. The string Howl&#39;s Moving Castle& is a correct value. Why isn&#39;t the single quote character in the\n",
        "word Howl&#39;s not escaped a problem?"
      ],
      "metadata": {
        "id": "4TZ_zbvEgUzP"
      }
    },
    {
      "cell_type": "markdown",
      "source": [
        "ANSWER: the rue is that we should not write a single quote in a single quote becuase the user thinks the next letter from that is another string and throes error"
      ],
      "metadata": {
        "id": "arniVzcshkBj"
      }
    },
    {
      "cell_type": "markdown",
      "source": [
        "ANSWER FOR 06\n",
        "\n",
        "\n"
      ],
      "metadata": {
        "id": "hjMuKzk6jbgm"
      }
    },
    {
      "cell_type": "code",
      "source": [
        "t='Hello, world!'\n",
        "t[1]"
      ],
      "metadata": {
        "colab": {
          "base_uri": "https://localhost:8080/",
          "height": 35
        },
        "id": "J8dBzaDTie5p",
        "outputId": "e7b8dad4-a6fe-45ce-8bbb-dbddb176e52e"
      },
      "execution_count": 8,
      "outputs": [
        {
          "output_type": "execute_result",
          "data": {
            "text/plain": [
              "'e'"
            ],
            "application/vnd.google.colaboratory.intrinsic+json": {
              "type": "string"
            }
          },
          "metadata": {},
          "execution_count": 8
        }
      ]
    },
    {
      "cell_type": "code",
      "source": [
        "t[0:5]"
      ],
      "metadata": {
        "colab": {
          "base_uri": "https://localhost:8080/",
          "height": 35
        },
        "id": "Y5rDNOIJj3Fc",
        "outputId": "cdb3adc7-f332-4bf8-9720-287a616315c8"
      },
      "execution_count": 9,
      "outputs": [
        {
          "output_type": "execute_result",
          "data": {
            "text/plain": [
              "'Hello'"
            ],
            "application/vnd.google.colaboratory.intrinsic+json": {
              "type": "string"
            }
          },
          "metadata": {},
          "execution_count": 9
        }
      ]
    },
    {
      "cell_type": "code",
      "source": [
        "t[:5]"
      ],
      "metadata": {
        "colab": {
          "base_uri": "https://localhost:8080/",
          "height": 35
        },
        "id": "pOGYN900j645",
        "outputId": "2603001d-3428-4475-c4f3-c42cd61480c6"
      },
      "execution_count": 10,
      "outputs": [
        {
          "output_type": "execute_result",
          "data": {
            "text/plain": [
              "'Hello'"
            ],
            "application/vnd.google.colaboratory.intrinsic+json": {
              "type": "string"
            }
          },
          "metadata": {},
          "execution_count": 10
        }
      ]
    },
    {
      "cell_type": "code",
      "source": [
        "t[3:]"
      ],
      "metadata": {
        "colab": {
          "base_uri": "https://localhost:8080/",
          "height": 35
        },
        "id": "GJd0xlNlj_bn",
        "outputId": "bc8848af-5341-4a58-bb14-e3bd570a7ff1"
      },
      "execution_count": 11,
      "outputs": [
        {
          "output_type": "execute_result",
          "data": {
            "text/plain": [
              "'lo, world!'"
            ],
            "application/vnd.google.colaboratory.intrinsic+json": {
              "type": "string"
            }
          },
          "metadata": {},
          "execution_count": 11
        }
      ]
    },
    {
      "cell_type": "markdown",
      "source": [
        "ANSWER FOR 07"
      ],
      "metadata": {
        "id": "Vlg24a6qkHhR"
      }
    },
    {
      "cell_type": "code",
      "source": [
        "f='Hello'\n",
        "f.upper()"
      ],
      "metadata": {
        "colab": {
          "base_uri": "https://localhost:8080/",
          "height": 35
        },
        "id": "8V_5M_0VkC7a",
        "outputId": "38a1dd9f-e573-4c46-804c-e262e9d96a23"
      },
      "execution_count": 12,
      "outputs": [
        {
          "output_type": "execute_result",
          "data": {
            "text/plain": [
              "'HELLO'"
            ],
            "application/vnd.google.colaboratory.intrinsic+json": {
              "type": "string"
            }
          },
          "metadata": {},
          "execution_count": 12
        }
      ]
    },
    {
      "cell_type": "code",
      "source": [
        "f.isupper()"
      ],
      "metadata": {
        "colab": {
          "base_uri": "https://localhost:8080/"
        },
        "id": "2C7G-JUPkURj",
        "outputId": "293ed3b0-e641-48ae-ca5d-58abad73abc3"
      },
      "execution_count": 13,
      "outputs": [
        {
          "output_type": "execute_result",
          "data": {
            "text/plain": [
              "False"
            ]
          },
          "metadata": {},
          "execution_count": 13
        }
      ]
    },
    {
      "cell_type": "code",
      "source": [
        "f.upper().lower()"
      ],
      "metadata": {
        "colab": {
          "base_uri": "https://localhost:8080/",
          "height": 35
        },
        "id": "09trP6N9kYaz",
        "outputId": "b22edece-d3d1-426e-90ce-806de137dff4"
      },
      "execution_count": 14,
      "outputs": [
        {
          "output_type": "execute_result",
          "data": {
            "text/plain": [
              "'hello'"
            ],
            "application/vnd.google.colaboratory.intrinsic+json": {
              "type": "string"
            }
          },
          "metadata": {},
          "execution_count": 14
        }
      ]
    },
    {
      "cell_type": "markdown",
      "source": [
        "ANSWER FOR 08"
      ],
      "metadata": {
        "id": "0iHLOZJ5lFJo"
      }
    },
    {
      "cell_type": "code",
      "source": [
        "k='Remember,remember,the fifth july'\n",
        "k.split()"
      ],
      "metadata": {
        "colab": {
          "base_uri": "https://localhost:8080/"
        },
        "id": "VGOk_gJ9kek8",
        "outputId": "29858668-f879-41e4-c710-45aab443c60e"
      },
      "execution_count": 15,
      "outputs": [
        {
          "output_type": "execute_result",
          "data": {
            "text/plain": [
              "['Remember,remember,the', 'fifth', 'july']"
            ]
          },
          "metadata": {},
          "execution_count": 15
        }
      ]
    },
    {
      "cell_type": "code",
      "source": [
        "\"_\".join(k)"
      ],
      "metadata": {
        "colab": {
          "base_uri": "https://localhost:8080/",
          "height": 35
        },
        "id": "l7j-mKrNk8N9",
        "outputId": "924340d5-5518-43fe-d499-c87b74acbbcf"
      },
      "execution_count": 16,
      "outputs": [
        {
          "output_type": "execute_result",
          "data": {
            "text/plain": [
              "'R_e_m_e_m_b_e_r_,_r_e_m_e_m_b_e_r_,_t_h_e_ _f_i_f_t_h_ _j_u_l_y'"
            ],
            "application/vnd.google.colaboratory.intrinsic+json": {
              "type": "string"
            }
          },
          "metadata": {},
          "execution_count": 16
        }
      ]
    },
    {
      "cell_type": "markdown",
      "source": [
        "ANSWER 09"
      ],
      "metadata": {
        "id": "-TmNcdcslWh8"
      }
    },
    {
      "cell_type": "markdown",
      "source": [
        "methods to justifying a string are\n",
        "\n",
        "rjust()------ right\n",
        "\n",
        "ljust()--------left\n",
        "\n",
        "\n",
        "centre()-------middle"
      ],
      "metadata": {
        "id": "O5CK4L7xlZa3"
      }
    },
    {
      "cell_type": "markdown",
      "source": [
        "ANSWER FOR 10"
      ],
      "metadata": {
        "id": "NujodVE8lrtZ"
      }
    },
    {
      "cell_type": "markdown",
      "source": [
        "variablename.strip()"
      ],
      "metadata": {
        "id": "AKwb0X5mlvnQ"
      }
    },
    {
      "cell_type": "code",
      "source": [],
      "metadata": {
        "id": "tfhKAz6Vl2gI"
      },
      "execution_count": null,
      "outputs": []
    }
  ]
}