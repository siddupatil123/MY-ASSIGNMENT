{
 "cells": [
  {
   "cell_type": "code",
   "execution_count": null,
   "id": "cd8777a6",
   "metadata": {},
   "outputs": [],
   "source": [
    "1. What does RGBA stand for?"
   ]
  },
  {
   "cell_type": "code",
   "execution_count": null,
   "id": "bbb63a77",
   "metadata": {},
   "outputs": [],
   "source": [
    "red green blue and alpha"
   ]
  },
  {
   "cell_type": "code",
   "execution_count": null,
   "id": "b3fabcb8",
   "metadata": {},
   "outputs": [],
   "source": [
    "2. From the Pillow module, how do you get the RGBA value of any images?"
   ]
  },
  {
   "cell_type": "code",
   "execution_count": null,
   "id": "18de0a1b",
   "metadata": {},
   "outputs": [],
   "source": [
    "import the module and adda the image inside and by using show method we can get"
   ]
  },
  {
   "cell_type": "code",
   "execution_count": null,
   "id": "4b6c5bed",
   "metadata": {},
   "outputs": [],
   "source": [
    "3. What is a box tuple, and how does it work?"
   ]
  },
  {
   "cell_type": "code",
   "execution_count": null,
   "id": "fa9ac809",
   "metadata": {},
   "outputs": [],
   "source": [
    "provides read-only access for the tuple userdata type"
   ]
  },
  {
   "cell_type": "code",
   "execution_count": null,
   "id": "9ddf7085",
   "metadata": {},
   "outputs": [],
   "source": [
    "4. Use your image and load in notebook then, How can you find out the width and height of an\n",
    "Image object?"
   ]
  },
  {
   "cell_type": "code",
   "execution_count": null,
   "id": "b2a50d27",
   "metadata": {},
   "outputs": [],
   "source": [
    "image.width and image.height"
   ]
  },
  {
   "cell_type": "code",
   "execution_count": null,
   "id": "456f33a2",
   "metadata": {},
   "outputs": [],
   "source": [
    "5. What method would you call to get Image object for a 100×100 image, excluding the lower-left\n",
    "quarter of it?"
   ]
  },
  {
   "cell_type": "code",
   "execution_count": null,
   "id": "6821b49d",
   "metadata": {},
   "outputs": [],
   "source": [
    "by using crop() method"
   ]
  },
  {
   "cell_type": "code",
   "execution_count": null,
   "id": "a5c3671a",
   "metadata": {},
   "outputs": [],
   "source": [
    "6. After making changes to an Image object, how could you save it as an image file?"
   ]
  },
  {
   "cell_type": "code",
   "execution_count": null,
   "id": "14c48480",
   "metadata": {},
   "outputs": [],
   "source": [
    "PIL.save()"
   ]
  },
  {
   "cell_type": "code",
   "execution_count": null,
   "id": "4999f958",
   "metadata": {},
   "outputs": [],
   "source": [
    "7. What module contains Pillow’s shape-drawing code?"
   ]
  },
  {
   "cell_type": "code",
   "execution_count": null,
   "id": "4bb805fe",
   "metadata": {},
   "outputs": [],
   "source": [
    "image draw"
   ]
  }
 ],
 "metadata": {
  "kernelspec": {
   "display_name": "Python 3 (ipykernel)",
   "language": "python",
   "name": "python3"
  },
  "language_info": {
   "codemirror_mode": {
    "name": "ipython",
    "version": 3
   },
   "file_extension": ".py",
   "mimetype": "text/x-python",
   "name": "python",
   "nbconvert_exporter": "python",
   "pygments_lexer": "ipython3",
   "version": "3.9.12"
  }
 },
 "nbformat": 4,
 "nbformat_minor": 5
}
