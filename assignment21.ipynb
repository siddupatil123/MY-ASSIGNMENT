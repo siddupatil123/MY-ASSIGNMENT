{
 "cells": [
  {
   "cell_type": "code",
   "execution_count": null,
   "id": "a223bb77",
   "metadata": {},
   "outputs": [],
   "source": [
    "1. Add the current date to the text file today.txt as a string."
   ]
  },
  {
   "cell_type": "code",
   "execution_count": 12,
   "id": "98d11c0b",
   "metadata": {},
   "outputs": [
    {
     "data": {
      "text/plain": [
       "10"
      ]
     },
     "execution_count": 12,
     "metadata": {},
     "output_type": "execute_result"
    }
   ],
   "source": [
    "from datetime import date\n",
    "today=date.today()\n",
    "file=open('today.txt','w')\n",
    "a=str(today)\n",
    "b=file.write(a)\n",
    "b\n"
   ]
  },
  {
   "cell_type": "code",
   "execution_count": null,
   "id": "ffe80e53",
   "metadata": {},
   "outputs": [],
   "source": [
    "2. Read the text file today.txt into the string today_string"
   ]
  },
  {
   "cell_type": "code",
   "execution_count": 17,
   "id": "7f228a7a",
   "metadata": {},
   "outputs": [],
   "source": [
    "file2=open('today.txt','r')\n",
    "today_string=file2.readline()"
   ]
  },
  {
   "cell_type": "code",
   "execution_count": 18,
   "id": "0c60015c",
   "metadata": {},
   "outputs": [
    {
     "data": {
      "text/plain": [
       "'2022-12-21'"
      ]
     },
     "execution_count": 18,
     "metadata": {},
     "output_type": "execute_result"
    }
   ],
   "source": [
    "today_string"
   ]
  },
  {
   "cell_type": "code",
   "execution_count": null,
   "id": "f700c97e",
   "metadata": {},
   "outputs": [],
   "source": [
    "3. Parse the date from today_string."
   ]
  },
  {
   "cell_type": "code",
   "execution_count": 24,
   "id": "8157c7db",
   "metadata": {},
   "outputs": [
    {
     "data": {
      "text/plain": [
       "'21'"
      ]
     },
     "execution_count": 24,
     "metadata": {},
     "output_type": "execute_result"
    }
   ],
   "source": [
    "today_string[-2:]"
   ]
  },
  {
   "cell_type": "code",
   "execution_count": null,
   "id": "d7d0232d",
   "metadata": {},
   "outputs": [],
   "source": [
    "4. List the files in your current directory"
   ]
  },
  {
   "cell_type": "code",
   "execution_count": 25,
   "id": "07c14110",
   "metadata": {},
   "outputs": [
    {
     "name": "stdout",
     "output_type": "stream",
     "text": [
      " Volume in drive C is OS\n",
      " Volume Serial Number is 9807-65D6\n",
      "\n",
      " Directory of C:\\Users\\admin-1\n",
      "\n",
      "12/21/2022  02:21 PM    <DIR>          .\n",
      "12/21/2022  02:21 PM    <DIR>          ..\n",
      "12/21/2022  02:07 PM    <DIR>          .ipynb_checkpoints\n",
      "11/22/2022  09:18 AM    <DIR>          .ipython\n",
      "11/22/2022  01:05 PM    <DIR>          .jupyter\n",
      "10/19/2022  11:46 AM    <DIR>          .vscode\n",
      "11/26/2022  10:14 AM             3,724 ASSIGNMENT08.ipynb\n",
      "12/20/2022  02:56 PM             2,427 assignment10.ipynb\n",
      "12/20/2022  03:35 PM             6,033 assignment11.ipynb\n",
      "12/20/2022  04:05 PM             5,673 assignment12.ipynb\n",
      "11/26/2022  10:34 AM             3,530 ASSIGNMENT13.ipynb\n",
      "12/20/2022  06:37 PM             3,407 assignment18.ipynb\n",
      "12/21/2022  12:20 PM             5,017 assignment20.ipynb\n",
      "12/21/2022  02:21 PM             2,573 assignment21.ipynb\n",
      "12/21/2022  10:54 AM             5,560 assignment22.ipynb\n",
      "12/21/2022  10:32 AM             5,061 assignment23.ipynb\n",
      "12/21/2022  10:00 AM             3,527 assignment24.ipynb\n",
      "12/21/2022  09:45 AM             2,877 assignment25.ipynb\n",
      "12/21/2022  12:05 PM               207 books.csv\n",
      "12/21/2022  12:14 PM             8,192 books.db\n",
      "10/19/2022  06:11 PM    <DIR>          Contacts\n",
      "12/08/2022  08:47 AM    <DIR>          Desktop\n",
      "10/19/2022  06:11 PM    <DIR>          Documents\n",
      "12/21/2022  12:20 PM    <DIR>          Downloads\n",
      "10/19/2022  06:11 PM    <DIR>          Favorites\n",
      "11/25/2022  11:58 AM             8,192 ineuron.db\n",
      "11/25/2022  12:31 PM            12,288 jobdb.db\n",
      "11/03/2022  12:37 PM    <DIR>          Links\n",
      "12/08/2022  10:56 AM            18,015 locations.csv\n",
      "12/08/2022  11:46 AM           161,651 LUSID Excel - Business Agility - Making Simple Changes Quickly & Easily.xlsx\n",
      "10/19/2022  11:56 AM    <DIR>          Miniconda3\n",
      "10/19/2022  06:11 PM    <DIR>          Music\n",
      "12/08/2022  02:06 PM            76,146 nba.csv\n",
      "12/08/2022  08:55 AM           615,313 ohana-api-master.zip\n",
      "12/08/2022  07:40 PM             9,088 pandas libray.ipynb\n",
      "11/25/2022  11:47 AM             8,192 person.db\n",
      "10/28/2022  02:40 PM    <DIR>          Pictures\n",
      "12/15/2022  11:28 AM             5,458 programming assignment07.ipynb\n",
      "12/15/2022  12:07 PM             2,936 programming assignment08.ipynb\n",
      "12/06/2022  02:14 PM               927 programming assignment15.ipynb\n",
      "12/06/2022  03:13 PM             4,510 programming assignment16.ipynb\n",
      "12/05/2022  04:19 PM             6,359 programming assignment17.ipynb\n",
      "11/28/2022  02:33 PM             5,874 programming assignment18.ipynb\n",
      "11/26/2022  12:01 PM             6,093 programming assignment20.ipynb\n",
      "11/26/2022  02:17 PM             6,459 programming assignment21.ipynb\n",
      "11/28/2022  11:40 AM             6,136 programming assignment22.ipynb\n",
      "11/28/2022  12:39 PM             5,204 programming assignment23.ipynb\n",
      "12/17/2022  11:50 AM             3,883 programming assignment24.ipynb\n",
      "12/17/2022  11:11 AM             6,120 programming assignment25.ipynb\n",
      "12/07/2022  11:57 AM            11,055 python questions practice.ipynb\n",
      "12/04/2022  09:53 AM                23 sample.csv\n",
      "10/19/2022  06:11 PM    <DIR>          Saved Games\n",
      "10/19/2022  06:11 PM    <DIR>          Searches\n",
      "12/21/2022  12:08 PM                43 test.txt\n",
      "12/21/2022  02:15 PM                10 today.txt\n",
      "11/22/2022  09:20 AM               589 Untitled.ipynb\n",
      "11/22/2022  01:45 PM             4,089 Untitled1.ipynb\n",
      "12/02/2022  08:47 AM               619 Untitled10.ipynb\n",
      "12/02/2022  08:57 AM             1,416 Untitled11.ipynb\n",
      "12/04/2022  09:38 AM             1,093 Untitled12.ipynb\n",
      "12/04/2022  10:21 AM             6,666 Untitled13.ipynb\n",
      "12/06/2022  11:29 AM            11,186 Untitled14.ipynb\n",
      "12/06/2022  01:56 PM               589 Untitled15.ipynb\n",
      "12/08/2022  03:28 PM           220,728 Untitled16.ipynb\n",
      "12/09/2022  01:56 PM            99,554 Untitled17.ipynb\n",
      "12/09/2022  02:38 PM               912 Untitled18.ipynb\n",
      "12/10/2022  03:02 PM            44,811 Untitled19.ipynb\n",
      "11/23/2022  10:10 AM             4,193 Untitled2.ipynb\n",
      "12/12/2022  09:47 AM             4,689 Untitled20.ipynb\n",
      "12/17/2022  11:20 AM                72 Untitled21.ipynb\n",
      "12/20/2022  03:38 PM               589 Untitled22.ipynb\n",
      "11/23/2022  01:05 PM            30,234 Untitled3.ipynb\n",
      "11/23/2022  02:01 PM            29,588 Untitled4.ipynb\n",
      "11/23/2022  02:52 PM            29,417 Untitled5.ipynb\n",
      "11/24/2022  03:16 PM            13,526 Untitled6.ipynb\n",
      "11/25/2022  03:23 PM            47,337 Untitled7.ipynb\n",
      "11/26/2022  02:52 PM             2,666 Untitled8.ipynb\n",
      "12/01/2022  10:19 AM               589 Untitled9.ipynb\n",
      "10/19/2022  06:11 PM    <DIR>          Videos\n",
      "              61 File(s)      1,592,935 bytes\n",
      "              18 Dir(s)  165,032,230,912 bytes free\n"
     ]
    }
   ],
   "source": [
    "ls"
   ]
  },
  {
   "cell_type": "code",
   "execution_count": null,
   "id": "e83d9fbb",
   "metadata": {},
   "outputs": [],
   "source": [
    "5. Create a list of all of the files in your parent directory (minimum five files should be available)."
   ]
  },
  {
   "cell_type": "code",
   "execution_count": 32,
   "id": "bb0a4f70",
   "metadata": {},
   "outputs": [
    {
     "data": {
      "text/plain": [
       "['__abs__',\n",
       " '__add__',\n",
       " '__and__',\n",
       " '__bool__',\n",
       " '__ceil__',\n",
       " '__class__',\n",
       " '__delattr__',\n",
       " '__dir__',\n",
       " '__divmod__',\n",
       " '__doc__',\n",
       " '__eq__',\n",
       " '__float__',\n",
       " '__floor__',\n",
       " '__floordiv__',\n",
       " '__format__',\n",
       " '__ge__',\n",
       " '__getattribute__',\n",
       " '__getnewargs__',\n",
       " '__gt__',\n",
       " '__hash__',\n",
       " '__index__',\n",
       " '__init__',\n",
       " '__init_subclass__',\n",
       " '__int__',\n",
       " '__invert__',\n",
       " '__le__',\n",
       " '__lshift__',\n",
       " '__lt__',\n",
       " '__mod__',\n",
       " '__mul__',\n",
       " '__ne__',\n",
       " '__neg__',\n",
       " '__new__',\n",
       " '__or__',\n",
       " '__pos__',\n",
       " '__pow__',\n",
       " '__radd__',\n",
       " '__rand__',\n",
       " '__rdivmod__',\n",
       " '__reduce__',\n",
       " '__reduce_ex__',\n",
       " '__repr__',\n",
       " '__rfloordiv__',\n",
       " '__rlshift__',\n",
       " '__rmod__',\n",
       " '__rmul__',\n",
       " '__ror__',\n",
       " '__round__',\n",
       " '__rpow__',\n",
       " '__rrshift__',\n",
       " '__rshift__',\n",
       " '__rsub__',\n",
       " '__rtruediv__',\n",
       " '__rxor__',\n",
       " '__setattr__',\n",
       " '__sizeof__',\n",
       " '__str__',\n",
       " '__sub__',\n",
       " '__subclasshook__',\n",
       " '__truediv__',\n",
       " '__trunc__',\n",
       " '__xor__',\n",
       " 'as_integer_ratio',\n",
       " 'bit_length',\n",
       " 'conjugate',\n",
       " 'denominator',\n",
       " 'from_bytes',\n",
       " 'imag',\n",
       " 'numerator',\n",
       " 'real',\n",
       " 'to_bytes']"
      ]
     },
     "execution_count": 32,
     "metadata": {},
     "output_type": "execute_result"
    }
   ],
   "source": [
    "list(dir(0))"
   ]
  },
  {
   "cell_type": "code",
   "execution_count": null,
   "id": "795fef90",
   "metadata": {},
   "outputs": [],
   "source": [
    "7. Create a date object of your day of birth."
   ]
  },
  {
   "cell_type": "code",
   "execution_count": 40,
   "id": "77e057e8",
   "metadata": {},
   "outputs": [
    {
     "data": {
      "text/plain": [
       "(1, 7, 1999)"
      ]
     },
     "execution_count": 40,
     "metadata": {},
     "output_type": "execute_result"
    }
   ],
   "source": [
    "from datetime import date\n",
    "date=1,7,1999\n",
    "date"
   ]
  },
  {
   "cell_type": "code",
   "execution_count": null,
   "id": "84d2b670",
   "metadata": {},
   "outputs": [],
   "source": [
    "8. What day of the week was your day of birth?"
   ]
  },
  {
   "cell_type": "code",
   "execution_count": null,
   "id": "96401b8b",
   "metadata": {},
   "outputs": [],
   "source": [
    "thursday"
   ]
  },
  {
   "cell_type": "code",
   "execution_count": null,
   "id": "adc3eb39",
   "metadata": {},
   "outputs": [],
   "source": []
  }
 ],
 "metadata": {
  "kernelspec": {
   "display_name": "Python 3 (ipykernel)",
   "language": "python",
   "name": "python3"
  },
  "language_info": {
   "codemirror_mode": {
    "name": "ipython",
    "version": 3
   },
   "file_extension": ".py",
   "mimetype": "text/x-python",
   "name": "python",
   "nbconvert_exporter": "python",
   "pygments_lexer": "ipython3",
   "version": "3.9.12"
  }
 },
 "nbformat": 4,
 "nbformat_minor": 5
}
