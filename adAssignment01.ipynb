{
 "cells": [
  {
   "cell_type": "code",
   "execution_count": null,
   "id": "fdd1c89c",
   "metadata": {},
   "outputs": [],
   "source": [
    "Q1. What is the purpose of Python&#39;s OOP?"
   ]
  },
  {
   "cell_type": "code",
   "execution_count": null,
   "id": "edb99088",
   "metadata": {},
   "outputs": [],
   "source": [
    "to implement real-world entities like inheritance, polymorphisms, encapsulation etc"
   ]
  },
  {
   "cell_type": "code",
   "execution_count": null,
   "id": "b2c22a70",
   "metadata": {},
   "outputs": [],
   "source": [
    "Q2. Where does an inheritance search look for an attribute?"
   ]
  },
  {
   "cell_type": "code",
   "execution_count": null,
   "id": "624a96ed",
   "metadata": {},
   "outputs": [],
   "source": [
    " first in the instance object, then in the class the instance was created from"
   ]
  },
  {
   "cell_type": "code",
   "execution_count": null,
   "id": "758b57fa",
   "metadata": {},
   "outputs": [],
   "source": [
    "Q3. How do you distinguish between a class object and an instance object?"
   ]
  },
  {
   "cell_type": "code",
   "execution_count": null,
   "id": "c6ffe011",
   "metadata": {},
   "outputs": [],
   "source": [
    "class is a blue print while instance is an virtual copy but not real"
   ]
  },
  {
   "cell_type": "code",
   "execution_count": null,
   "id": "b12f0016",
   "metadata": {},
   "outputs": [],
   "source": [
    "Q4. What makes the first argument in a class’s method function special?"
   ]
  },
  {
   "cell_type": "code",
   "execution_count": null,
   "id": "23d237d3",
   "metadata": {},
   "outputs": [],
   "source": [
    "is always a reference to the current instance of the class"
   ]
  },
  {
   "cell_type": "code",
   "execution_count": null,
   "id": "73fe9ebe",
   "metadata": {},
   "outputs": [],
   "source": [
    "Q5. What is the purpose of the __init__ method?"
   ]
  },
  {
   "cell_type": "code",
   "execution_count": null,
   "id": "d7a25f40",
   "metadata": {},
   "outputs": [],
   "source": [
    " it allows the class to initialize the attributes of the class."
   ]
  },
  {
   "cell_type": "code",
   "execution_count": null,
   "id": "bb440835",
   "metadata": {},
   "outputs": [],
   "source": [
    "Q6. What is the process for creating a class instance?"
   ]
  },
  {
   "cell_type": "code",
   "execution_count": null,
   "id": "f76dc1d9",
   "metadata": {},
   "outputs": [],
   "source": [
    "call the class using class name and pass in whatever arguments its __init__ method accepts"
   ]
  },
  {
   "cell_type": "code",
   "execution_count": null,
   "id": "54427fc3",
   "metadata": {},
   "outputs": [],
   "source": [
    "Q7. What is the process for creating a class?"
   ]
  },
  {
   "cell_type": "code",
   "execution_count": null,
   "id": "491c8482",
   "metadata": {},
   "outputs": [],
   "source": [
    "enter the class name and then enter the short descrption in that"
   ]
  },
  {
   "cell_type": "code",
   "execution_count": null,
   "id": "2acd9e86",
   "metadata": {},
   "outputs": [],
   "source": [
    "Q8. How would you define the superclasses of a class?"
   ]
  },
  {
   "cell_type": "code",
   "execution_count": null,
   "id": "6c73e638",
   "metadata": {},
   "outputs": [],
   "source": [
    "A superclass is the class from which many subclasses can be created"
   ]
  }
 ],
 "metadata": {
  "kernelspec": {
   "display_name": "Python 3 (ipykernel)",
   "language": "python",
   "name": "python3"
  },
  "language_info": {
   "codemirror_mode": {
    "name": "ipython",
    "version": 3
   },
   "file_extension": ".py",
   "mimetype": "text/x-python",
   "name": "python",
   "nbconvert_exporter": "python",
   "pygments_lexer": "ipython3",
   "version": "3.9.12"
  }
 },
 "nbformat": 4,
 "nbformat_minor": 5
}
