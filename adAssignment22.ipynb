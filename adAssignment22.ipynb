{
 "cells": [
  {
   "cell_type": "code",
   "execution_count": null,
   "id": "51316d4b",
   "metadata": {},
   "outputs": [],
   "source": [
    "Q1. What are the benefits of the built-in array package, if any?"
   ]
  },
  {
   "cell_type": "code",
   "execution_count": null,
   "id": "72bbca8f",
   "metadata": {},
   "outputs": [],
   "source": [
    "Arrays are useful to handle a collection of elements like a group of numbers or characters."
   ]
  },
  {
   "cell_type": "code",
   "execution_count": null,
   "id": "ffe8ac9f",
   "metadata": {},
   "outputs": [],
   "source": [
    "Q2. What are some of the array package&#39;s limitations?"
   ]
  },
  {
   "cell_type": "code",
   "execution_count": null,
   "id": "5cd9752c",
   "metadata": {},
   "outputs": [],
   "source": [
    "Insertion and deletion operations are costly in arrays as elements are stored in contiguous memory"
   ]
  },
  {
   "cell_type": "code",
   "execution_count": null,
   "id": "4c78a68b",
   "metadata": {},
   "outputs": [],
   "source": [
    "Q3. Describe the main differences between the array and numpy packages."
   ]
  },
  {
   "cell_type": "code",
   "execution_count": null,
   "id": "91fa1e5a",
   "metadata": {},
   "outputs": [],
   "source": [
    "numpy has fixed size at creation time\n",
    "array is sequence whre it behaves as list"
   ]
  },
  {
   "cell_type": "code",
   "execution_count": null,
   "id": "d5ce787c",
   "metadata": {},
   "outputs": [],
   "source": [
    "Q4. Explain the distinctions between the empty, ones, and zeros functions."
   ]
  },
  {
   "cell_type": "code",
   "execution_count": null,
   "id": "1cf087ac",
   "metadata": {},
   "outputs": [],
   "source": [
    "zeros() means it generate array of zeros\n",
    "ones means it creates array of ones\n",
    "empty means it crate an empty array"
   ]
  },
  {
   "cell_type": "code",
   "execution_count": null,
   "id": "288649bb",
   "metadata": {},
   "outputs": [],
   "source": [
    "Q5. In the fromfunction function, which is used to construct new arrays, what is the role of the callable\n",
    "argument?"
   ]
  },
  {
   "cell_type": "code",
   "execution_count": null,
   "id": "cdf7ba6c",
   "metadata": {},
   "outputs": [],
   "source": [
    "np.fromdunction used to construct an array\n",
    "checks if a passed object appears to be callable."
   ]
  },
  {
   "cell_type": "code",
   "execution_count": null,
   "id": "c52efc32",
   "metadata": {},
   "outputs": [],
   "source": [
    "Q6. What happens when a numpy array is combined with a single-value operand (a scalar, such as\n",
    "an int or a floating-point value) through addition, as in the expression A + n?"
   ]
  },
  {
   "cell_type": "code",
   "execution_count": null,
   "id": "41bbec39",
   "metadata": {},
   "outputs": [],
   "source": [
    "then it adds that value to the all variables in array"
   ]
  },
  {
   "cell_type": "code",
   "execution_count": null,
   "id": "5aff713d",
   "metadata": {},
   "outputs": [],
   "source": [
    "Q7. Can array-to-scalar operations use combined operation-assign operators (such as += or *=)?\n",
    "What is the outcome?"
   ]
  },
  {
   "cell_type": "code",
   "execution_count": null,
   "id": "cab451d7",
   "metadata": {},
   "outputs": [],
   "source": [
    "yes we can use the assign operators \n",
    "+= it adds the value  to exisiting and gives the output \n",
    "*=it multiplies the value  to exisiting and gives the output"
   ]
  },
  {
   "cell_type": "code",
   "execution_count": null,
   "id": "d13263de",
   "metadata": {},
   "outputs": [],
   "source": [
    "Q8. Does a numpy array contain fixed-length strings? What happens if you allocate a longer string to\n",
    "one of these arrays?"
   ]
  },
  {
   "cell_type": "code",
   "execution_count": null,
   "id": "1037c846",
   "metadata": {},
   "outputs": [],
   "source": [
    "yes numpy array has some fixed lenth during creation \n",
    "the sring cannot be stored "
   ]
  },
  {
   "cell_type": "code",
   "execution_count": null,
   "id": "5ee461d0",
   "metadata": {},
   "outputs": [],
   "source": [
    "Q9. What happens when you combine two numpy arrays using an operation like addition (+) or\n",
    "multiplication (*)? What are the conditions for combining two numpy arrays?"
   ]
  },
  {
   "cell_type": "code",
   "execution_count": null,
   "id": "ab1d005f",
   "metadata": {},
   "outputs": [],
   "source": [
    "it addds the values of two arrays by + operator and it multilplies two values of two arrays by* operator\n",
    "it should have same dimension "
   ]
  },
  {
   "cell_type": "code",
   "execution_count": null,
   "id": "58d38f82",
   "metadata": {},
   "outputs": [],
   "source": [
    "Q10. What is the best way to use a Boolean array to mask another array?"
   ]
  },
  {
   "cell_type": "code",
   "execution_count": null,
   "id": "472d0643",
   "metadata": {},
   "outputs": [],
   "source": [
    "Using masked_where() function"
   ]
  },
  {
   "cell_type": "code",
   "execution_count": null,
   "id": "11032b14",
   "metadata": {},
   "outputs": [],
   "source": [
    "Q11. What are three different ways to get the standard deviation of a wide collection of data using\n",
    "both standard Python and its packages? Sort the three of them by how quickly they execute."
   ]
  },
  {
   "cell_type": "code",
   "execution_count": null,
   "id": "81a38abc",
   "metadata": {},
   "outputs": [],
   "source": [
    "describe(), and also by importing the mat class"
   ]
  },
  {
   "cell_type": "code",
   "execution_count": null,
   "id": "c300d183",
   "metadata": {},
   "outputs": [],
   "source": [
    "12. What is the dimensionality of a Boolean mask-generated array?"
   ]
  },
  {
   "cell_type": "code",
   "execution_count": null,
   "id": "a1480d6f",
   "metadata": {},
   "outputs": [],
   "source": [
    "one dimensional"
   ]
  }
 ],
 "metadata": {
  "kernelspec": {
   "display_name": "Python 3 (ipykernel)",
   "language": "python",
   "name": "python3"
  },
  "language_info": {
   "codemirror_mode": {
    "name": "ipython",
    "version": 3
   },
   "file_extension": ".py",
   "mimetype": "text/x-python",
   "name": "python",
   "nbconvert_exporter": "python",
   "pygments_lexer": "ipython3",
   "version": "3.9.12"
  }
 },
 "nbformat": 4,
 "nbformat_minor": 5
}
