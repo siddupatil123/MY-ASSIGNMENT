{
 "cells": [
  {
   "cell_type": "code",
   "execution_count": null,
   "id": "ccdec316",
   "metadata": {},
   "outputs": [],
   "source": [
    "Q1. What is the relationship between classes and modules?"
   ]
  },
  {
   "cell_type": "code",
   "execution_count": null,
   "id": "c383943f",
   "metadata": {},
   "outputs": [],
   "source": [
    "modules amy mixed into classes"
   ]
  },
  {
   "cell_type": "code",
   "execution_count": null,
   "id": "f81c08df",
   "metadata": {},
   "outputs": [],
   "source": [
    "Q2. How do you make instances and classes?"
   ]
  },
  {
   "cell_type": "code",
   "execution_count": null,
   "id": "a1e72f2e",
   "metadata": {},
   "outputs": [],
   "source": [
    "To create instances of a class, you call the class using class name and pass in whatever arguments "
   ]
  },
  {
   "cell_type": "code",
   "execution_count": null,
   "id": "6ff10852",
   "metadata": {},
   "outputs": [],
   "source": [
    "Q3. Where and how should be class attributes created?"
   ]
  },
  {
   "cell_type": "code",
   "execution_count": null,
   "id": "135f72d7",
   "metadata": {},
   "outputs": [],
   "source": [
    "outside of the __init__() method."
   ]
  },
  {
   "cell_type": "code",
   "execution_count": null,
   "id": "f5c049ac",
   "metadata": {},
   "outputs": [],
   "source": [
    "Q4. Where and how are instance attributes created?"
   ]
  },
  {
   "cell_type": "code",
   "execution_count": null,
   "id": "76d56e42",
   "metadata": {},
   "outputs": [],
   "source": [
    "Instance attributes are defined in the constructor"
   ]
  },
  {
   "cell_type": "code",
   "execution_count": null,
   "id": "7ba8b0cd",
   "metadata": {},
   "outputs": [],
   "source": [
    "Q5. What does the term &quot;self&quot; in a Python class mean?"
   ]
  },
  {
   "cell_type": "code",
   "execution_count": null,
   "id": "bbf5eb54",
   "metadata": {},
   "outputs": [],
   "source": [
    "self represents the instance of class"
   ]
  },
  {
   "cell_type": "code",
   "execution_count": null,
   "id": "6f60ec1d",
   "metadata": {},
   "outputs": [],
   "source": [
    "Q6. How does a Python class handle operator overloading?"
   ]
  },
  {
   "cell_type": "code",
   "execution_count": null,
   "id": "d28c962f",
   "metadata": {},
   "outputs": [],
   "source": [
    "by using defined calss name"
   ]
  },
  {
   "cell_type": "code",
   "execution_count": null,
   "id": "edd29609",
   "metadata": {},
   "outputs": [],
   "source": [
    "Q7. When do you consider allowing operator overloading of your classes?"
   ]
  },
  {
   "cell_type": "code",
   "execution_count": null,
   "id": "a183b35b",
   "metadata": {},
   "outputs": [],
   "source": [
    " When one or both operands are of a user-defined class or structure type"
   ]
  },
  {
   "cell_type": "code",
   "execution_count": null,
   "id": "939e980b",
   "metadata": {},
   "outputs": [],
   "source": [
    "Q8. What is the most popular form of operator overloading?"
   ]
  },
  {
   "cell_type": "code",
   "execution_count": null,
   "id": "180d16b9",
   "metadata": {},
   "outputs": [],
   "source": [
    "addition operator"
   ]
  },
  {
   "cell_type": "code",
   "execution_count": null,
   "id": "6ae46be8",
   "metadata": {},
   "outputs": [],
   "source": [
    "Q9. What are the two most important concepts to grasp in order to comprehend Python OOP code?"
   ]
  },
  {
   "cell_type": "code",
   "execution_count": null,
   "id": "24229d2c",
   "metadata": {},
   "outputs": [],
   "source": [
    "Both inheritance and polymorphism "
   ]
  },
  {
   "cell_type": "code",
   "execution_count": null,
   "id": "a73634ea",
   "metadata": {},
   "outputs": [],
   "source": []
  }
 ],
 "metadata": {
  "kernelspec": {
   "display_name": "Python 3 (ipykernel)",
   "language": "python",
   "name": "python3"
  },
  "language_info": {
   "codemirror_mode": {
    "name": "ipython",
    "version": 3
   },
   "file_extension": ".py",
   "mimetype": "text/x-python",
   "name": "python",
   "nbconvert_exporter": "python",
   "pygments_lexer": "ipython3",
   "version": "3.9.12"
  }
 },
 "nbformat": 4,
 "nbformat_minor": 5
}
