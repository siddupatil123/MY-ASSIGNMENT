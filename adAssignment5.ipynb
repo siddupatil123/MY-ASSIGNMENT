{
 "cells": [
  {
   "cell_type": "code",
   "execution_count": null,
   "id": "689edc55",
   "metadata": {},
   "outputs": [],
   "source": [
    "Q1. What is the meaning of multiple inheritance?"
   ]
  },
  {
   "cell_type": "code",
   "execution_count": null,
   "id": "98c2e45d",
   "metadata": {},
   "outputs": [],
   "source": [
    " it is an object or class can inherit features from more than one parent object or parent class"
   ]
  },
  {
   "cell_type": "code",
   "execution_count": null,
   "id": "e062eb44",
   "metadata": {},
   "outputs": [],
   "source": [
    "Q2. What is the concept of delegation?"
   ]
  },
  {
   "cell_type": "code",
   "execution_count": null,
   "id": "38cd89dc",
   "metadata": {},
   "outputs": [],
   "source": [
    "delegation is an oops concept where we can change the action one object"
   ]
  },
  {
   "cell_type": "code",
   "execution_count": null,
   "id": "7bba9935",
   "metadata": {},
   "outputs": [],
   "source": [
    "Q3. What is the concept of composition?"
   ]
  },
  {
   "cell_type": "code",
   "execution_count": null,
   "id": "fb8c9232",
   "metadata": {},
   "outputs": [],
   "source": [
    " it describes a class that references one or more objects of other classes in instance variables"
   ]
  },
  {
   "cell_type": "code",
   "execution_count": null,
   "id": "7c967197",
   "metadata": {},
   "outputs": [],
   "source": [
    "Q4. What are bound methods and how do we use them?"
   ]
  },
  {
   "cell_type": "code",
   "execution_count": null,
   "id": "32ffdb6b",
   "metadata": {},
   "outputs": [],
   "source": [
    "A bound method is the one which is dependent on the instance of the class as the first argument. "
   ]
  },
  {
   "cell_type": "code",
   "execution_count": null,
   "id": "1b82969a",
   "metadata": {},
   "outputs": [],
   "source": [
    "Q5. What is the purpose of pseudoprivate attributes?"
   ]
  },
  {
   "cell_type": "code",
   "execution_count": null,
   "id": "f83545dd",
   "metadata": {},
   "outputs": [],
   "source": [
    "to implement access control of the classes"
   ]
  }
 ],
 "metadata": {
  "kernelspec": {
   "display_name": "Python 3 (ipykernel)",
   "language": "python",
   "name": "python3"
  },
  "language_info": {
   "codemirror_mode": {
    "name": "ipython",
    "version": 3
   },
   "file_extension": ".py",
   "mimetype": "text/x-python",
   "name": "python",
   "nbconvert_exporter": "python",
   "pygments_lexer": "ipython3",
   "version": "3.9.12"
  }
 },
 "nbformat": 4,
 "nbformat_minor": 5
}
