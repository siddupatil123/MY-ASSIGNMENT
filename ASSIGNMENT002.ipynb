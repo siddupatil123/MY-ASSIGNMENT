{
  "nbformat": 4,
  "nbformat_minor": 0,
  "metadata": {
    "colab": {
      "provenance": []
    },
    "kernelspec": {
      "name": "python3",
      "display_name": "Python 3"
    },
    "language_info": {
      "name": "python"
    }
  },
  "cells": [
    {
      "cell_type": "markdown",
      "source": [
        "ANSWER FOR 01\n",
        "\n",
        "the two values of boolean data type is true and false\n",
        "\n",
        "we write \"true\",True   \"false\",False\n"
      ],
      "metadata": {
        "id": "DzUbZ8UPhsKQ"
      }
    },
    {
      "cell_type": "markdown",
      "source": [
        "ANSWER FOR 02\n",
        "\n",
        "the 3 different types of boolean operators are\n",
        "\n",
        "and,or,not"
      ],
      "metadata": {
        "id": "ivg4zx_riPAR"
      }
    },
    {
      "cell_type": "code",
      "source": [],
      "metadata": {
        "id": "ttpv4DAEic2M"
      },
      "execution_count": null,
      "outputs": []
    },
    {
      "cell_type": "markdown",
      "source": [
        "ANSWER FOR 03\n",
        "\n",
        "and operator\n",
        "\n",
        "            condition 1   condition 2     result\n",
        "            true           true            true\n",
        "            true           false           false\n",
        "            false          true            false\n",
        "            false          false           false\n",
        "\n",
        "  or operator\n",
        "\n",
        "            true           true            true\n",
        "            true           false           true\n",
        "            false          true            true\n",
        "            false          false           false\n",
        "\n",
        "  not operator\n",
        "\n",
        "            not(true)=false\n",
        "            not(false)=true\n"
      ],
      "metadata": {
        "id": "WeZL6GC_ihOD"
      }
    },
    {
      "cell_type": "markdown",
      "source": [
        "ANSWER FOR 04"
      ],
      "metadata": {
        "id": "rC8PI5UfjxLE"
      }
    },
    {
      "cell_type": "code",
      "source": [
        "5>4 and 3==5"
      ],
      "metadata": {
        "colab": {
          "base_uri": "https://localhost:8080/"
        },
        "id": "me2D_xAFjzkz",
        "outputId": "133d5fb2-84f0-48e4-e4e6-3695f2b1620b"
      },
      "execution_count": 1,
      "outputs": [
        {
          "output_type": "execute_result",
          "data": {
            "text/plain": [
              "False"
            ]
          },
          "metadata": {},
          "execution_count": 1
        }
      ]
    },
    {
      "cell_type": "code",
      "source": [
        "not 5>4"
      ],
      "metadata": {
        "colab": {
          "base_uri": "https://localhost:8080/"
        },
        "id": "5CRq2T0yj80g",
        "outputId": "1a8b59c0-8e0d-4330-e004-40bfca9a7164"
      },
      "execution_count": 2,
      "outputs": [
        {
          "output_type": "execute_result",
          "data": {
            "text/plain": [
              "False"
            ]
          },
          "metadata": {},
          "execution_count": 2
        }
      ]
    },
    {
      "cell_type": "code",
      "source": [
        "5>4 or 3==5"
      ],
      "metadata": {
        "colab": {
          "base_uri": "https://localhost:8080/"
        },
        "id": "DZPWRGHNkD0Y",
        "outputId": "8d810a10-5d14-4661-f176-e48f81cf8edc"
      },
      "execution_count": 3,
      "outputs": [
        {
          "output_type": "execute_result",
          "data": {
            "text/plain": [
              "True"
            ]
          },
          "metadata": {},
          "execution_count": 3
        }
      ]
    },
    {
      "cell_type": "code",
      "source": [
        "not 5>4 or 3==5"
      ],
      "metadata": {
        "colab": {
          "base_uri": "https://localhost:8080/"
        },
        "id": "0MXewm_hkI_k",
        "outputId": "20fd1232-a4f9-4f9b-c532-0ff9d36e9f8d"
      },
      "execution_count": 4,
      "outputs": [
        {
          "output_type": "execute_result",
          "data": {
            "text/plain": [
              "False"
            ]
          },
          "metadata": {},
          "execution_count": 4
        }
      ]
    },
    {
      "cell_type": "code",
      "source": [
        "True and True and True==False"
      ],
      "metadata": {
        "colab": {
          "base_uri": "https://localhost:8080/"
        },
        "id": "jPxh2lW0kTVa",
        "outputId": "47984155-8878-434b-d78a-e04bbaf48c40"
      },
      "execution_count": 5,
      "outputs": [
        {
          "output_type": "execute_result",
          "data": {
            "text/plain": [
              "False"
            ]
          },
          "metadata": {},
          "execution_count": 5
        }
      ]
    },
    {
      "cell_type": "code",
      "source": [
        "not False or not True"
      ],
      "metadata": {
        "colab": {
          "base_uri": "https://localhost:8080/"
        },
        "id": "2ouMJ66zkcIG",
        "outputId": "240884f5-41db-4dad-bab3-f8a770c8b668"
      },
      "execution_count": 6,
      "outputs": [
        {
          "output_type": "execute_result",
          "data": {
            "text/plain": [
              "True"
            ]
          },
          "metadata": {},
          "execution_count": 6
        }
      ]
    },
    {
      "cell_type": "markdown",
      "source": [
        "ANSWER FOR 05"
      ],
      "metadata": {
        "id": "UtDABBukkpTO"
      }
    },
    {
      "cell_type": "markdown",
      "source": [
        "Six comparision operators are\n",
        "\n",
        "greater than >\n",
        "\n",
        "less than  <\n",
        "\n",
        "greater than or equal to >=\n",
        "\n",
        "less than or equal to  <=\n",
        "\n",
        "equal to ==\n",
        "\n",
        "not equal to !=\n",
        "\n",
        "\n",
        "\n"
      ],
      "metadata": {
        "id": "Jy7zP9iJk0Qk"
      }
    },
    {
      "cell_type": "markdown",
      "source": [
        "ANSWER FOR 06\n",
        "\n",
        "assignment operator we use to assign the value for any variable.\n",
        "\n",
        "this used in while giving the input for the user.\n",
        "\n",
        "equal to operator checks the whether the given operands equal or not.\n",
        "\n",
        "this is uesd in condition block."
      ],
      "metadata": {
        "id": "zdl9sDoSmA1i"
      }
    },
    {
      "cell_type": "markdown",
      "source": [
        "ANSWER FOR 07"
      ],
      "metadata": {
        "id": "2KfEmrRUn_H8"
      }
    },
    {
      "cell_type": "code",
      "source": [
        "spam=0      # 1 block\n",
        "if spam==10:\n",
        "  print(\"eggs\")\n",
        "  if spam>5:\n",
        "    print(\"bacon\") #if else is one block\n",
        "  else:\n",
        "    print(\"ham\")\n",
        "else:\n",
        "  print(\"spam\")  # main if else is one block"
      ],
      "metadata": {
        "colab": {
          "base_uri": "https://localhost:8080/"
        },
        "id": "NRsx7BxvmFYo",
        "outputId": "c67c546c-ff03-4693-ec37-ecfe2feaf10a"
      },
      "execution_count": 7,
      "outputs": [
        {
          "output_type": "stream",
          "name": "stdout",
          "text": [
            "spam\n"
          ]
        }
      ]
    },
    {
      "cell_type": "markdown",
      "source": [
        "ANSWER FOR 08"
      ],
      "metadata": {
        "id": "jbMrLuoloyU_"
      }
    },
    {
      "cell_type": "code",
      "source": [
        " spam=3\n",
        " if spam==1:\n",
        "   print(\"hello\")\n",
        "elif spam==2:\n",
        "    print(\"howdy\")\n",
        "else:\n",
        "   print(\"greetings\")"
      ],
      "metadata": {
        "colab": {
          "base_uri": "https://localhost:8080/"
        },
        "id": "GajmcRHCntvt",
        "outputId": "2db4dec4-b5dc-4ac1-9a20-84d6ba6bcd23"
      },
      "execution_count": 11,
      "outputs": [
        {
          "output_type": "stream",
          "name": "stdout",
          "text": [
            "greetings\n"
          ]
        }
      ]
    },
    {
      "cell_type": "markdown",
      "source": [
        "ANSWER FOR 09\n",
        "\n",
        "We use either cntrl+c or we use break statement in the loop\n",
        "\n"
      ],
      "metadata": {
        "id": "A4BhIs6rpdDt"
      }
    },
    {
      "cell_type": "markdown",
      "source": [
        "ANSWER FOR 10"
      ],
      "metadata": {
        "id": "UG21WaFKpx7y"
      }
    },
    {
      "cell_type": "markdown",
      "source": [
        "Break statement stops the entire loop whereas the continue stops only current iteration"
      ],
      "metadata": {
        "id": "j2D3GLCVp1in"
      }
    },
    {
      "cell_type": "markdown",
      "source": [
        "ANSWER FOR 11"
      ],
      "metadata": {
        "id": "eVqNHdoLqaB3"
      }
    },
    {
      "cell_type": "markdown",
      "source": [
        "IN FOR LOOP\n",
        "\n",
        "range(0,10)=  staring index , ending index\n",
        "\n",
        "range(0,10,1) = staring index, ending index, skip the steps \n",
        "\n",
        "range(10) = index number\n"
      ],
      "metadata": {
        "id": "O0hnKFKWqe1v"
      }
    },
    {
      "cell_type": "markdown",
      "source": [
        "ANSWER FOR 12"
      ],
      "metadata": {
        "id": "WdBT-vhnrlHM"
      }
    },
    {
      "cell_type": "code",
      "source": [
        "a=[1,2,3,4,5,6,7,8,9,10]\n",
        "for i in range(0,10):\n",
        "  print(a[i])"
      ],
      "metadata": {
        "colab": {
          "base_uri": "https://localhost:8080/"
        },
        "id": "UcJCIXHsq-qy",
        "outputId": "b4d2071d-81d2-449d-ff31-fcc6a479df8b"
      },
      "execution_count": 13,
      "outputs": [
        {
          "output_type": "stream",
          "name": "stdout",
          "text": [
            "1\n",
            "2\n",
            "3\n",
            "4\n",
            "5\n",
            "6\n",
            "7\n",
            "8\n",
            "9\n",
            "10\n"
          ]
        }
      ]
    },
    {
      "cell_type": "code",
      "source": [
        "a=[1,2,3,4,5,6,7,8,9,10]\n",
        "i=1\n",
        "while i<=10:\n",
        "  print(i)\n",
        "  i=i+1"
      ],
      "metadata": {
        "colab": {
          "base_uri": "https://localhost:8080/"
        },
        "id": "XPfrduEwrR19",
        "outputId": "bbe838b7-f75d-4190-deb9-aa637938a611"
      },
      "execution_count": 15,
      "outputs": [
        {
          "output_type": "stream",
          "name": "stdout",
          "text": [
            "1\n",
            "2\n",
            "3\n",
            "4\n",
            "5\n",
            "6\n",
            "7\n",
            "8\n",
            "9\n",
            "10\n"
          ]
        }
      ]
    },
    {
      "cell_type": "markdown",
      "source": [
        "ANSWER FOR 13"
      ],
      "metadata": {
        "id": "M3a_OBCksYMI"
      }
    },
    {
      "cell_type": "markdown",
      "source": [
        "spam.bacon()"
      ],
      "metadata": {
        "id": "IML1U6AUs7AB"
      }
    }
  ]
}