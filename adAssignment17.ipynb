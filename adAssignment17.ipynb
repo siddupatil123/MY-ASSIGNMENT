{
 "cells": [
  {
   "cell_type": "code",
   "execution_count": null,
   "id": "bab24db3",
   "metadata": {},
   "outputs": [],
   "source": [
    "Q1. Explain the difference between greedy and non-greedy syntax with visual terms in as few words\n",
    "as possible. What is the bare minimum effort required to transform a greedy pattern into a non-greedy\n",
    "one? What characters or characters can you introduce or change?"
   ]
  },
  {
   "cell_type": "code",
   "execution_count": null,
   "id": "3e12fffb",
   "metadata": {},
   "outputs": [],
   "source": [
    "greedy will try to match as much as repitation whereas non greedy will try to match few repitations"
   ]
  },
  {
   "cell_type": "code",
   "execution_count": null,
   "id": "f6195b51",
   "metadata": {},
   "outputs": [],
   "source": [
    "Q2. When exactly does greedy versus non-greedy make a difference?"
   ]
  },
  {
   "cell_type": "code",
   "execution_count": null,
   "id": "0e3e7830",
   "metadata": {},
   "outputs": [],
   "source": [
    "greedy will try to match as much as repitation whereas non greedy will try to match few repitations"
   ]
  },
  {
   "cell_type": "code",
   "execution_count": null,
   "id": "633942f4",
   "metadata": {},
   "outputs": [],
   "source": [
    "Q3. In a simple match of a string, which looks only for one match and does not do any replacement, is\n",
    "the use of a nontagged group likely to make any practical difference?"
   ]
  },
  {
   "cell_type": "code",
   "execution_count": null,
   "id": "d529b4b0",
   "metadata": {},
   "outputs": [],
   "source": [
    "no there is no difference"
   ]
  },
  {
   "cell_type": "code",
   "execution_count": null,
   "id": "3055fa9d",
   "metadata": {},
   "outputs": [],
   "source": [
    "Q6. In standard expressions, what is the difference between positive look-ahead and negative look-\n",
    "ahead?"
   ]
  },
  {
   "cell_type": "code",
   "execution_count": null,
   "id": "22cd1b2f",
   "metadata": {},
   "outputs": [],
   "source": [
    "Positive lookahead:matches if pattern matches what comes after the current location in the input string.\n",
    "Negative lookahead: matches if pattern does not match what comes after the current location in the input string."
   ]
  },
  {
   "cell_type": "code",
   "execution_count": null,
   "id": "80c0721e",
   "metadata": {},
   "outputs": [],
   "source": [
    "Q7. What is the benefit of referring to groups by name rather than by number in a standard\n",
    "expression?"
   ]
  },
  {
   "cell_type": "code",
   "execution_count": null,
   "id": "0a509f28",
   "metadata": {},
   "outputs": [],
   "source": [
    "because we acn understand easily"
   ]
  },
  {
   "cell_type": "code",
   "execution_count": null,
   "id": "25eeb1b5",
   "metadata": {},
   "outputs": [],
   "source": [
    "Q8. Can you identify repeated items within a target string using named groups, as in &quot;The cow\n",
    "jumped over the moon&quot;?"
   ]
  },
  {
   "cell_type": "code",
   "execution_count": null,
   "id": "2c919708",
   "metadata": {},
   "outputs": [],
   "source": [
    "yes we can identify the repited items"
   ]
  },
  {
   "cell_type": "code",
   "execution_count": null,
   "id": "1582af2c",
   "metadata": {},
   "outputs": [],
   "source": [
    "Q9. When parsing a string, what is at least one thing that the Scanner interface does for you that the\n",
    "re.findall feature does not?"
   ]
  },
  {
   "cell_type": "code",
   "execution_count": null,
   "id": "95254136",
   "metadata": {},
   "outputs": [],
   "source": [
    "re.findall gives the entire string value  but during parsing we would required only specified charcters"
   ]
  },
  {
   "cell_type": "code",
   "execution_count": null,
   "id": "aa748a7b",
   "metadata": {},
   "outputs": [],
   "source": [
    "Q10. Does a scanner object have to be named scanner?"
   ]
  },
  {
   "cell_type": "code",
   "execution_count": null,
   "id": "5e6468be",
   "metadata": {},
   "outputs": [],
   "source": [
    "yes we have scanner object"
   ]
  }
 ],
 "metadata": {
  "kernelspec": {
   "display_name": "Python 3 (ipykernel)",
   "language": "python",
   "name": "python3"
  },
  "language_info": {
   "codemirror_mode": {
    "name": "ipython",
    "version": 3
   },
   "file_extension": ".py",
   "mimetype": "text/x-python",
   "name": "python",
   "nbconvert_exporter": "python",
   "pygments_lexer": "ipython3",
   "version": "3.9.12"
  }
 },
 "nbformat": 4,
 "nbformat_minor": 5
}
