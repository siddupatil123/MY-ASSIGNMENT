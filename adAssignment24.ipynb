{
 "cells": [
  {
   "cell_type": "code",
   "execution_count": null,
   "id": "dfc1451d",
   "metadata": {},
   "outputs": [],
   "source": [
    "Q1. Is it permissible to use several import statements to import the same module? What would the\n",
    "goal be? Can you think of a situation where it would be beneficial?"
   ]
  },
  {
   "cell_type": "code",
   "execution_count": null,
   "id": "71fcec09",
   "metadata": {},
   "outputs": [],
   "source": [
    "yes it would import same module foer several times\n",
    "it makes easily avialbe of several module to get at one place"
   ]
  },
  {
   "cell_type": "code",
   "execution_count": null,
   "id": "76805970",
   "metadata": {},
   "outputs": [],
   "source": [
    "Q2. What are some of a module&#39;s characteristics? (Name at least one.)"
   ]
  },
  {
   "cell_type": "code",
   "execution_count": null,
   "id": "d1a9b878",
   "metadata": {},
   "outputs": [],
   "source": [
    "modues contain some data,logic and instruction "
   ]
  },
  {
   "cell_type": "code",
   "execution_count": null,
   "id": "cae19a73",
   "metadata": {},
   "outputs": [],
   "source": [
    "Q3. Circular importing, such as when two modules import each other, can lead to dependencies and\n",
    "bugs that aren&#39;t visible. How can you go about creating a program that avoids mutual importing?"
   ]
  },
  {
   "cell_type": "code",
   "execution_count": null,
   "id": "7822f57c",
   "metadata": {},
   "outputs": [],
   "source": [
    " it is done by moving the imported classes to a third file and importing them from this file."
   ]
  },
  {
   "cell_type": "code",
   "execution_count": null,
   "id": "0fbadba1",
   "metadata": {},
   "outputs": [],
   "source": [
    "Q4. Why is _ _all_ _ in Python?"
   ]
  },
  {
   "cell_type": "code",
   "execution_count": null,
   "id": "2eb545ed",
   "metadata": {},
   "outputs": [],
   "source": [
    "__all__ is used to document the public API of a Python module"
   ]
  },
  {
   "cell_type": "code",
   "execution_count": null,
   "id": "5f7212e6",
   "metadata": {},
   "outputs": [],
   "source": [
    "Q5. In what situation is it useful to refer to the _ _name_ _ attribute or the string &#39;_ _main_ _&#39;?"
   ]
  },
  {
   "cell_type": "code",
   "execution_count": null,
   "id": "c5a01aaf",
   "metadata": {},
   "outputs": [],
   "source": [
    "if the file was executed dirctly without importing then this type is used"
   ]
  },
  {
   "cell_type": "code",
   "execution_count": null,
   "id": "7acc5c31",
   "metadata": {},
   "outputs": [],
   "source": [
    "Q6. What are some of the benefits of attaching a program counter to the RPN interpreter\n",
    "application, which interprets an RPN script line by line?"
   ]
  },
  {
   "cell_type": "code",
   "execution_count": null,
   "id": "a20d31af",
   "metadata": {},
   "outputs": [],
   "source": [
    "it removes the need for parentheses that are required by infix notation"
   ]
  }
 ],
 "metadata": {
  "kernelspec": {
   "display_name": "Python 3 (ipykernel)",
   "language": "python",
   "name": "python3"
  },
  "language_info": {
   "codemirror_mode": {
    "name": "ipython",
    "version": 3
   },
   "file_extension": ".py",
   "mimetype": "text/x-python",
   "name": "python",
   "nbconvert_exporter": "python",
   "pygments_lexer": "ipython3",
   "version": "3.9.12"
  }
 },
 "nbformat": 4,
 "nbformat_minor": 5
}
