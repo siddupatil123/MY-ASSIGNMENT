{
 "cells": [
  {
   "cell_type": "code",
   "execution_count": null,
   "id": "b121c155",
   "metadata": {},
   "outputs": [],
   "source": [
    "1. What are the new features added in Python 3.8 version?"
   ]
  },
  {
   "cell_type": "code",
   "execution_count": null,
   "id": "5808cf4d",
   "metadata": {},
   "outputs": [],
   "source": [
    "assignmnet expression, improved modules,optimization,api and etc"
   ]
  },
  {
   "cell_type": "code",
   "execution_count": null,
   "id": "4c7e4501",
   "metadata": {},
   "outputs": [],
   "source": [
    "2. What is monkey patching in Python?"
   ]
  },
  {
   "cell_type": "code",
   "execution_count": null,
   "id": "4ce3025f",
   "metadata": {},
   "outputs": [],
   "source": [
    "modification of class or module during runtime"
   ]
  },
  {
   "cell_type": "code",
   "execution_count": null,
   "id": "8f806c13",
   "metadata": {},
   "outputs": [],
   "source": [
    "3. What is the difference between a shallow copy and deep copy?"
   ]
  },
  {
   "cell_type": "code",
   "execution_count": null,
   "id": "ce312402",
   "metadata": {},
   "outputs": [],
   "source": [
    "shallow copy if change in one variabel value does not change in another variable\n",
    "deep copy if change in one variable the another value also changes"
   ]
  },
  {
   "cell_type": "code",
   "execution_count": null,
   "id": "4d488d5e",
   "metadata": {},
   "outputs": [],
   "source": [
    "4. What is the maximum possible length of an identifier?"
   ]
  },
  {
   "cell_type": "code",
   "execution_count": null,
   "id": "b7b796c6",
   "metadata": {},
   "outputs": [],
   "source": [
    "79 characters"
   ]
  },
  {
   "cell_type": "code",
   "execution_count": null,
   "id": "4e3d7dbc",
   "metadata": {},
   "outputs": [],
   "source": [
    "5. What is generator comprehension?"
   ]
  },
  {
   "cell_type": "code",
   "execution_count": null,
   "id": "9e6318ce",
   "metadata": {},
   "outputs": [],
   "source": [
    "A generator comprehension is a single-line specification for defining a generator in Python"
   ]
  }
 ],
 "metadata": {
  "kernelspec": {
   "display_name": "Python 3 (ipykernel)",
   "language": "python",
   "name": "python3"
  },
  "language_info": {
   "codemirror_mode": {
    "name": "ipython",
    "version": 3
   },
   "file_extension": ".py",
   "mimetype": "text/x-python",
   "name": "python",
   "nbconvert_exporter": "python",
   "pygments_lexer": "ipython3",
   "version": "3.9.12"
  }
 },
 "nbformat": 4,
 "nbformat_minor": 5
}
