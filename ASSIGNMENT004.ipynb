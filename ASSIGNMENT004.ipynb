{
  "nbformat": 4,
  "nbformat_minor": 0,
  "metadata": {
    "colab": {
      "provenance": []
    },
    "kernelspec": {
      "name": "python3",
      "display_name": "Python 3"
    },
    "language_info": {
      "name": "python"
    }
  },
  "cells": [
    {
      "cell_type": "markdown",
      "source": [
        "ANSWER 01\n",
        "\n",
        "[] Means the list values can be entered in this ."
      ],
      "metadata": {
        "id": "gLFi_dJkmNqK"
      }
    },
    {
      "cell_type": "markdown",
      "source": [
        "ANSWER FOR 02"
      ],
      "metadata": {
        "id": "1lHCMh3Cmz4k"
      }
    },
    {
      "cell_type": "code",
      "source": [
        "spam=[2,4,6,8,10]\n",
        "spam.append(\"hello\")\n",
        "spam"
      ],
      "metadata": {
        "colab": {
          "base_uri": "https://localhost:8080/"
        },
        "id": "pLD0zLejm19-",
        "outputId": "c4010121-2556-4338-c9d2-128fd742a916"
      },
      "execution_count": 1,
      "outputs": [
        {
          "output_type": "execute_result",
          "data": {
            "text/plain": [
              "[2, 4, 6, 8, 10, 'hello']"
            ]
          },
          "metadata": {},
          "execution_count": 1
        }
      ]
    },
    {
      "cell_type": "markdown",
      "source": [
        "ANSWER FOR 03"
      ],
      "metadata": {
        "id": "d5E0RVv_oDkT"
      }
    },
    {
      "cell_type": "code",
      "source": [
        "spam=['a','b','c','d']\n",
        "spam[int(int('3'*2)/11)]"
      ],
      "metadata": {
        "colab": {
          "base_uri": "https://localhost:8080/",
          "height": 35
        },
        "id": "P2ls9c-EnJm4",
        "outputId": "f863e2b0-9204-44ed-943b-7111cf8f7217"
      },
      "execution_count": 2,
      "outputs": [
        {
          "output_type": "execute_result",
          "data": {
            "text/plain": [
              "'d'"
            ],
            "application/vnd.google.colaboratory.intrinsic+json": {
              "type": "string"
            }
          },
          "metadata": {},
          "execution_count": 2
        }
      ]
    },
    {
      "cell_type": "markdown",
      "source": [
        "ANSWER 04"
      ],
      "metadata": {
        "id": "LiaPU1NJoOqs"
      }
    },
    {
      "cell_type": "code",
      "source": [
        "spam[-1]"
      ],
      "metadata": {
        "colab": {
          "base_uri": "https://localhost:8080/",
          "height": 35
        },
        "id": "a7S8puLVnpP7",
        "outputId": "66fd2fc4-c100-423d-cec6-2c3efde8d363"
      },
      "execution_count": 3,
      "outputs": [
        {
          "output_type": "execute_result",
          "data": {
            "text/plain": [
              "'d'"
            ],
            "application/vnd.google.colaboratory.intrinsic+json": {
              "type": "string"
            }
          },
          "metadata": {},
          "execution_count": 3
        }
      ]
    },
    {
      "cell_type": "markdown",
      "source": [
        "ANSWER FOR 05"
      ],
      "metadata": {
        "id": "ciO5N1wLoaYw"
      }
    },
    {
      "cell_type": "code",
      "source": [
        "spam[:2]"
      ],
      "metadata": {
        "colab": {
          "base_uri": "https://localhost:8080/"
        },
        "id": "8PTwLAYWoMgM",
        "outputId": "656fc417-784c-42e5-da5b-9491f2494831"
      },
      "execution_count": 4,
      "outputs": [
        {
          "output_type": "execute_result",
          "data": {
            "text/plain": [
              "['a', 'b']"
            ]
          },
          "metadata": {},
          "execution_count": 4
        }
      ]
    },
    {
      "cell_type": "markdown",
      "source": [
        "ANSWER FOR 06"
      ],
      "metadata": {
        "id": "eYgux5ZSoz39"
      }
    },
    {
      "cell_type": "code",
      "source": [
        "bacon=[3.14,'cat',11,'cat',True]\n",
        "bacon.index('cat')"
      ],
      "metadata": {
        "colab": {
          "base_uri": "https://localhost:8080/"
        },
        "id": "YLQho3e6oWX-",
        "outputId": "a3a3539a-8c6e-4635-d6e0-6cf136b2089e"
      },
      "execution_count": 5,
      "outputs": [
        {
          "output_type": "execute_result",
          "data": {
            "text/plain": [
              "1"
            ]
          },
          "metadata": {},
          "execution_count": 5
        }
      ]
    },
    {
      "cell_type": "markdown",
      "source": [
        "ANSWER 07"
      ],
      "metadata": {
        "id": "nE_LJVDbporG"
      }
    },
    {
      "cell_type": "code",
      "source": [
        "bacon.append(99)"
      ],
      "metadata": {
        "id": "4Bx5ykPupqel"
      },
      "execution_count": 6,
      "outputs": []
    },
    {
      "cell_type": "code",
      "source": [
        "bacon"
      ],
      "metadata": {
        "colab": {
          "base_uri": "https://localhost:8080/"
        },
        "id": "S0gacrbfpyFO",
        "outputId": "ce092e4f-0aa5-4bd2-a95c-ceb7d861a91f"
      },
      "execution_count": 7,
      "outputs": [
        {
          "output_type": "execute_result",
          "data": {
            "text/plain": [
              "[3.14, 'cat', 11, 'cat', True, 99]"
            ]
          },
          "metadata": {},
          "execution_count": 7
        }
      ]
    },
    {
      "cell_type": "markdown",
      "source": [
        "ANSWER 08"
      ],
      "metadata": {
        "id": "mjgjd13pp2W8"
      }
    },
    {
      "cell_type": "code",
      "source": [
        "bacon.remove('cat')"
      ],
      "metadata": {
        "id": "stCEQmCSp4X0"
      },
      "execution_count": 8,
      "outputs": []
    },
    {
      "cell_type": "code",
      "source": [
        "bacon"
      ],
      "metadata": {
        "colab": {
          "base_uri": "https://localhost:8080/"
        },
        "id": "a17HJPrEp9pJ",
        "outputId": "d398988a-3414-4aee-e642-361551e93e4a"
      },
      "execution_count": 9,
      "outputs": [
        {
          "output_type": "execute_result",
          "data": {
            "text/plain": [
              "[3.14, 11, 'cat', True, 99]"
            ]
          },
          "metadata": {},
          "execution_count": 9
        }
      ]
    },
    {
      "cell_type": "markdown",
      "source": [
        "ANSWER FOR 09"
      ],
      "metadata": {
        "id": "5nd0vvU9qgX3"
      }
    },
    {
      "cell_type": "markdown",
      "source": [
        "list concatination operator is +\n",
        "\n",
        "list repilcation operator is *\n",
        "\n",
        "below code is example "
      ],
      "metadata": {
        "id": "JIUMrP4Iqlph"
      }
    },
    {
      "cell_type": "code",
      "source": [
        "a=[1,2,3,4,5,]\n",
        "b=[6,7,8,9]\n",
        "a+b"
      ],
      "metadata": {
        "colab": {
          "base_uri": "https://localhost:8080/"
        },
        "id": "SJCOtIVtq1Dd",
        "outputId": "eaa0d19d-315f-47e9-d2f1-af8e4c75ec3c"
      },
      "execution_count": 11,
      "outputs": [
        {
          "output_type": "execute_result",
          "data": {
            "text/plain": [
              "[1, 2, 3, 4, 5, 6, 7, 8, 9]"
            ]
          },
          "metadata": {},
          "execution_count": 11
        }
      ]
    },
    {
      "cell_type": "code",
      "source": [
        "a*2"
      ],
      "metadata": {
        "colab": {
          "base_uri": "https://localhost:8080/"
        },
        "id": "AFZwmHXeq8k_",
        "outputId": "7709f8fe-7725-444e-d441-5e6e44237517"
      },
      "execution_count": 12,
      "outputs": [
        {
          "output_type": "execute_result",
          "data": {
            "text/plain": [
              "[1, 2, 3, 4, 5, 1, 2, 3, 4, 5]"
            ]
          },
          "metadata": {},
          "execution_count": 12
        }
      ]
    },
    {
      "cell_type": "markdown",
      "source": [
        "ANSWER FOR 10"
      ],
      "metadata": {
        "id": "JE1B-7kZrO22"
      }
    },
    {
      "cell_type": "markdown",
      "source": [
        "append is used to insert an element at the end of the list, whereas the insert operator is used to insert two elements int list"
      ],
      "metadata": {
        "id": "G5BOw_OlrsQl"
      }
    },
    {
      "cell_type": "markdown",
      "source": [
        "ANSWER FOR 11"
      ],
      "metadata": {
        "id": "9C-3DCg7sX_Z"
      }
    },
    {
      "cell_type": "markdown",
      "source": [
        "two methods are used remove an element from the list are\n",
        "\n",
        "pop()\n",
        "\n",
        "remove()"
      ],
      "metadata": {
        "id": "HuMh3rwTsceI"
      }
    },
    {
      "cell_type": "markdown",
      "source": [
        "ANSWER FOR 12"
      ],
      "metadata": {
        "id": "jelfvhOVtIyF"
      }
    },
    {
      "cell_type": "markdown",
      "source": [
        "list and string values are same which contain some set of orderd values\n",
        "\n"
      ],
      "metadata": {
        "id": "AikoDEOetLTo"
      }
    },
    {
      "cell_type": "markdown",
      "source": [
        "ANSWER FOR 13"
      ],
      "metadata": {
        "id": "NXuF9nQWtsQE"
      }
    },
    {
      "cell_type": "markdown",
      "source": [
        "tuple are immutable that means these cannot be changed\n",
        "\n",
        "\n",
        "list are mutable it can change the value and also extend"
      ],
      "metadata": {
        "id": "SC8vzxQLtu3B"
      }
    },
    {
      "cell_type": "markdown",
      "source": [
        "ANSWER 14"
      ],
      "metadata": {
        "id": "SPRwkjkfuvw9"
      }
    },
    {
      "cell_type": "markdown",
      "source": [
        "to create this , is required at the end of value inside the parenthesis"
      ],
      "metadata": {
        "id": "bYzeTboNv4xe"
      }
    },
    {
      "cell_type": "code",
      "source": [
        "t=(42,)\n",
        "type(t)"
      ],
      "metadata": {
        "colab": {
          "base_uri": "https://localhost:8080/"
        },
        "id": "CDAPPqnhuFAq",
        "outputId": "84b0febb-f5ca-4eff-fbf7-0ff543ce1279"
      },
      "execution_count": 22,
      "outputs": [
        {
          "output_type": "execute_result",
          "data": {
            "text/plain": [
              "tuple"
            ]
          },
          "metadata": {},
          "execution_count": 22
        }
      ]
    },
    {
      "cell_type": "markdown",
      "source": [
        "ANSWER FOR 15"
      ],
      "metadata": {
        "id": "AkMO4ZbTwE-Z"
      }
    },
    {
      "cell_type": "code",
      "source": [
        "c=[1,2,3,4,5,6]\n",
        "type(c)"
      ],
      "metadata": {
        "colab": {
          "base_uri": "https://localhost:8080/"
        },
        "id": "gYGGaEMawGr2",
        "outputId": "62b5ea23-0bd3-4beb-9766-12eff939b781"
      },
      "execution_count": 25,
      "outputs": [
        {
          "output_type": "execute_result",
          "data": {
            "text/plain": [
              "list"
            ]
          },
          "metadata": {},
          "execution_count": 25
        }
      ]
    },
    {
      "cell_type": "code",
      "source": [
        "tuple(c)"
      ],
      "metadata": {
        "colab": {
          "base_uri": "https://localhost:8080/"
        },
        "id": "-l9vA0Uiwplw",
        "outputId": "f694061e-a28e-4b83-a552-a840a0c1ab03"
      },
      "execution_count": 26,
      "outputs": [
        {
          "output_type": "execute_result",
          "data": {
            "text/plain": [
              "(1, 2, 3, 4, 5, 6)"
            ]
          },
          "metadata": {},
          "execution_count": 26
        }
      ]
    },
    {
      "cell_type": "code",
      "source": [
        "f=(1,2,3,4,5)\n",
        "type(f)"
      ],
      "metadata": {
        "colab": {
          "base_uri": "https://localhost:8080/"
        },
        "id": "3We5gtX6wy_c",
        "outputId": "9d0d285c-0109-4842-af07-194a865a86da"
      },
      "execution_count": 28,
      "outputs": [
        {
          "output_type": "execute_result",
          "data": {
            "text/plain": [
              "tuple"
            ]
          },
          "metadata": {},
          "execution_count": 28
        }
      ]
    },
    {
      "cell_type": "code",
      "source": [
        "list(f)"
      ],
      "metadata": {
        "colab": {
          "base_uri": "https://localhost:8080/"
        },
        "id": "l6XGm8_Zw51n",
        "outputId": "185e8daa-f62d-45bd-c854-851b7647c095"
      },
      "execution_count": 29,
      "outputs": [
        {
          "output_type": "execute_result",
          "data": {
            "text/plain": [
              "[1, 2, 3, 4, 5]"
            ]
          },
          "metadata": {},
          "execution_count": 29
        }
      ]
    },
    {
      "cell_type": "markdown",
      "source": [
        "ANSWER FOR 16\n",
        "\n",
        "variables contain references to the list values"
      ],
      "metadata": {
        "id": "2TIoCUCLxZuk"
      }
    }
  ]
}