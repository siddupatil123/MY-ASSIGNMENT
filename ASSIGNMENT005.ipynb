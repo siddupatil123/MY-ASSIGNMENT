{
  "nbformat": 4,
  "nbformat_minor": 0,
  "metadata": {
    "colab": {
      "provenance": []
    },
    "kernelspec": {
      "name": "python3",
      "display_name": "Python 3"
    },
    "language_info": {
      "name": "python"
    }
  },
  "cells": [
    {
      "cell_type": "markdown",
      "source": [
        "ANSWER 01\n",
        "\n",
        "empty dictionary code looks like a set "
      ],
      "metadata": {
        "id": "zMHMVHeHg90J"
      }
    },
    {
      "cell_type": "markdown",
      "source": [
        "ANSWER 02"
      ],
      "metadata": {
        "id": "dr71n0OPhNww"
      }
    },
    {
      "cell_type": "code",
      "execution_count": 6,
      "metadata": {
        "colab": {
          "base_uri": "https://localhost:8080/"
        },
        "id": "SYc28hQhgraf",
        "outputId": "b7329bb2-c05a-4386-93a1-babae6690bf8"
      },
      "outputs": [
        {
          "output_type": "execute_result",
          "data": {
            "text/plain": [
              "dict_values([42])"
            ]
          },
          "metadata": {},
          "execution_count": 6
        }
      ],
      "source": [
        "d={'foo':42}\n",
        "d.values()"
      ]
    },
    {
      "cell_type": "markdown",
      "source": [
        "ANSWER FOR 03"
      ],
      "metadata": {
        "id": "mTtoqterhu6o"
      }
    },
    {
      "cell_type": "markdown",
      "source": [
        "List is a collection of different data type whereas dictionary is collection of set keys having a definite values.\n",
        "\n",
        "list is written in square brackets whereas dictionary are written in curly brackets."
      ],
      "metadata": {
        "id": "rcTW_XylhzL0"
      }
    },
    {
      "cell_type": "markdown",
      "source": [
        "ANSWER 04"
      ],
      "metadata": {
        "id": "Wz7XHqXhpRX-"
      }
    },
    {
      "cell_type": "code",
      "source": [
        "spam={'bar':100}\n"
      ],
      "metadata": {
        "id": "qUKwyh5dpUaW"
      },
      "execution_count": 25,
      "outputs": []
    },
    {
      "cell_type": "code",
      "source": [
        "spam.get('foo')"
      ],
      "metadata": {
        "id": "Cbg3BYqhpycv"
      },
      "execution_count": 26,
      "outputs": []
    },
    {
      "cell_type": "markdown",
      "source": [
        "it takes but it does not print anything output"
      ],
      "metadata": {
        "id": "YYxFdsiNp3WT"
      }
    },
    {
      "cell_type": "markdown",
      "source": [
        "ANSWER FOR 05"
      ],
      "metadata": {
        "id": "j4_8w9joievA"
      }
    },
    {
      "cell_type": "markdown",
      "source": [
        "'cat' in spam checks wether the word cat is in the dictionary or not\n",
        "\n",
        "'cat' in spam.keys() is to check wether cat is the one of the key or not\n",
        "\n",
        "below follows example"
      ],
      "metadata": {
        "id": "Oq_PfkSZn_RD"
      }
    },
    {
      "cell_type": "code",
      "source": [
        "spam={1:2,'cat':23}\n",
        "'cat' in spam"
      ],
      "metadata": {
        "colab": {
          "base_uri": "https://localhost:8080/"
        },
        "id": "BxGeDtLuhTbu",
        "outputId": "d901115c-cb08-473d-bd3c-4b33ba591ca7"
      },
      "execution_count": 21,
      "outputs": [
        {
          "output_type": "execute_result",
          "data": {
            "text/plain": [
              "True"
            ]
          },
          "metadata": {},
          "execution_count": 21
        }
      ]
    },
    {
      "cell_type": "code",
      "source": [
        "spam.keys()"
      ],
      "metadata": {
        "colab": {
          "base_uri": "https://localhost:8080/"
        },
        "id": "qhpuAMxXjKtC",
        "outputId": "dbaee9ec-45ab-4ab7-a989-ce553fce90f2"
      },
      "execution_count": 10,
      "outputs": [
        {
          "output_type": "execute_result",
          "data": {
            "text/plain": [
              "dict_keys([1, 'cat'])"
            ]
          },
          "metadata": {},
          "execution_count": 10
        }
      ]
    },
    {
      "cell_type": "markdown",
      "source": [
        "ANSWER 06"
      ],
      "metadata": {
        "id": "Y_mB4MrLoh9g"
      }
    },
    {
      "cell_type": "markdown",
      "source": [
        "\n",
        "'cat' in spam checks wether the word cat is in the dictionary or not\n",
        "\n",
        "'cat' in spam.values() it gives value assigned to that particular key"
      ],
      "metadata": {
        "id": "bo7p9ip8ol-0"
      }
    },
    {
      "cell_type": "markdown",
      "source": [
        "ANSWER FOR 07"
      ],
      "metadata": {
        "id": "CYZGRnn5kGm5"
      }
    },
    {
      "cell_type": "markdown",
      "source": [
        "this can be done by update method"
      ],
      "metadata": {
        "id": "Pke_xovilZUm"
      }
    },
    {
      "cell_type": "code",
      "source": [
        "s={1:2,4:2,'cat':45}"
      ],
      "metadata": {
        "id": "zl0jpu0KjO7V"
      },
      "execution_count": 11,
      "outputs": []
    },
    {
      "cell_type": "code",
      "source": [
        "d={'color':'black'}"
      ],
      "metadata": {
        "id": "gBG0OE3Vkdw2"
      },
      "execution_count": 16,
      "outputs": []
    },
    {
      "cell_type": "code",
      "source": [
        "s.update(d)"
      ],
      "metadata": {
        "id": "_P4ejI8fkqla"
      },
      "execution_count": 17,
      "outputs": []
    },
    {
      "cell_type": "code",
      "source": [
        "s"
      ],
      "metadata": {
        "colab": {
          "base_uri": "https://localhost:8080/"
        },
        "id": "jAvMILTKlFGm",
        "outputId": "d165acc1-e66e-4c9f-93b6-68c085f891a7"
      },
      "execution_count": 19,
      "outputs": [
        {
          "output_type": "execute_result",
          "data": {
            "text/plain": [
              "{1: 2, 4: 2, 'cat': 45, 'color': 'black'}"
            ]
          },
          "metadata": {},
          "execution_count": 19
        }
      ]
    },
    {
      "cell_type": "markdown",
      "source": [
        "ANSWER FOR 08\n"
      ],
      "metadata": {
        "id": "_Uh1aq3Nqm1p"
      }
    },
    {
      "cell_type": "markdown",
      "source": [
        "we use pretty print insted of normal print and in this we should provide all user input during the preety print if the data type are matched it prints or else it not"
      ],
      "metadata": {
        "id": "YEkqFktfqrub"
      }
    },
    {
      "cell_type": "code",
      "source": [],
      "metadata": {
        "id": "bO7YTprDqpJp"
      },
      "execution_count": null,
      "outputs": []
    }
  ]
}