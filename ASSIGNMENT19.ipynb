{
  "nbformat": 4,
  "nbformat_minor": 0,
  "metadata": {
    "colab": {
      "provenance": []
    },
    "kernelspec": {
      "name": "python3",
      "display_name": "Python 3"
    },
    "language_info": {
      "name": "python"
    }
  },
  "cells": [
    {
      "cell_type": "markdown",
      "source": [
        "1. Make a class called Thing with no contents and print it. Then, create an object called example\n",
        "from this class and also print it. Are the printed values the same or different?"
      ],
      "metadata": {
        "id": "QoW6GC0Y9WqQ"
      }
    },
    {
      "cell_type": "code",
      "execution_count": null,
      "metadata": {
        "colab": {
          "base_uri": "https://localhost:8080/"
        },
        "id": "ITaK500F9Qq2",
        "outputId": "3d228336-edda-403d-9e0b-752b2a0b01dc"
      },
      "outputs": [
        {
          "output_type": "stream",
          "name": "stdout",
          "text": [
            "<class '__main__.thing'>\n"
          ]
        }
      ],
      "source": [
        "class thing:\n",
        "  pass\n",
        "  print(thing)"
      ]
    },
    {
      "cell_type": "code",
      "source": [
        "example=thing()\n",
        "print(example)"
      ],
      "metadata": {
        "colab": {
          "base_uri": "https://localhost:8080/"
        },
        "id": "r7ocaHdR9hox",
        "outputId": "8e7d18e2-c4fc-4858-ba53-0ab2582fb06d"
      },
      "execution_count": null,
      "outputs": [
        {
          "output_type": "stream",
          "name": "stdout",
          "text": [
            "<__main__.thing object at 0x7f9787da9b90>\n"
          ]
        }
      ]
    },
    {
      "cell_type": "markdown",
      "source": [
        "2. Create a new class called Thing2 and add the value &#39;abc&#39; to the letters class attribute. Letters\n",
        "should be printed."
      ],
      "metadata": {
        "id": "_4i5Etmz-D33"
      }
    },
    {
      "cell_type": "code",
      "source": [
        "class thing2:\n",
        "  letters=\"abc\"\n",
        "print(thing2.letters)"
      ],
      "metadata": {
        "colab": {
          "base_uri": "https://localhost:8080/"
        },
        "id": "cikxAryI9vvi",
        "outputId": "d549c77c-5a92-4357-cbf2-5da44809f699"
      },
      "execution_count": null,
      "outputs": [
        {
          "output_type": "stream",
          "name": "stdout",
          "text": [
            "abc\n"
          ]
        }
      ]
    },
    {
      "cell_type": "markdown",
      "source": [
        "3. Make yet another class called, of course, Thing3. This time, assign the value &#39;xyz&#39; to an instance\n",
        "(object) attribute called letters. Print letters. Do you need to make an object from the class to do\n",
        "this?"
      ],
      "metadata": {
        "id": "Vwzuuutw-YdD"
      }
    },
    {
      "cell_type": "code",
      "source": [
        "class thing3:\n",
        "  letters=\"xyz\"\n",
        "print(thing3.letters)"
      ],
      "metadata": {
        "colab": {
          "base_uri": "https://localhost:8080/"
        },
        "id": "La5EaKKy-NMn",
        "outputId": "bb85bf5c-0eda-4a74-9834-a2c580fa6089"
      },
      "execution_count": null,
      "outputs": [
        {
          "output_type": "stream",
          "name": "stdout",
          "text": [
            "xyz\n"
          ]
        }
      ]
    },
    {
      "cell_type": "markdown",
      "source": [
        "4. Create an Element class with the instance attributes name, symbol, and number. Create a class\n",
        "object with the values &#39;Hydrogen,&#39; &#39;H,&#39; and 1."
      ],
      "metadata": {
        "id": "T5D74iq0AEjx"
      }
    },
    {
      "cell_type": "code",
      "source": [
        "class element:\n",
        "  def __init__(self,name,symbol,number):\n",
        "    self.name=name\n",
        "    self.symbol=symbol\n",
        "    self.number=number\n",
        "u=element(\"hydrogen\",\"H\",1)"
      ],
      "metadata": {
        "id": "TyNF6evc_thq"
      },
      "execution_count": null,
      "outputs": []
    },
    {
      "cell_type": "markdown",
      "source": [
        "5. Make a dictionary with these keys and values: &#39;name&#39;: &#39;Hydrogen&#39;, &#39;symbol&#39;: &#39;H&#39;, &#39;number&#39;: 1. Then,\n",
        "create an object called hydrogen from class Element using this dictionary."
      ],
      "metadata": {
        "id": "Er2h9UhtA4ZI"
      }
    },
    {
      "cell_type": "code",
      "source": [
        "d={\"name\":\"hydrogen\",\"symbol\":\"H\",\"number\":1}\n",
        "hydrogen=element(d[\"name\"],d[\"symbol\"],d[\"number\"])"
      ],
      "metadata": {
        "id": "9TYATKuPApbl"
      },
      "execution_count": null,
      "outputs": []
    },
    {
      "cell_type": "markdown",
      "source": [
        "6. For the Element class, define a method called dump() that prints the values of the object’s\n",
        "attributes (name, symbol, and number). Create the hydrogen object from this new definition and\n",
        "use dump() to print its attributes."
      ],
      "metadata": {
        "id": "Bf7C4ii_Bnyu"
      }
    },
    {
      "cell_type": "code",
      "source": [
        "class element:\n",
        "  def __init__(self,name,symbol,number):\n",
        "    self.name=name\n",
        "    self.symbol=symbol\n",
        "    self.number=number\n",
        "  def dump(self):\n",
        "    print(f\"name={self.name},symbol={self.symbol},number={self.number}\")\n"
      ],
      "metadata": {
        "id": "LZZuFE-UBQZX"
      },
      "execution_count": null,
      "outputs": []
    },
    {
      "cell_type": "code",
      "source": [
        "hydrogen=element(\"hydrogrn\",\"H\",1)"
      ],
      "metadata": {
        "id": "tNBuUjWTCFqg"
      },
      "execution_count": null,
      "outputs": []
    },
    {
      "cell_type": "code",
      "source": [
        "hydrogen.dump()"
      ],
      "metadata": {
        "colab": {
          "base_uri": "https://localhost:8080/"
        },
        "id": "tLGX1piVCIV6",
        "outputId": "3d0558f5-1b86-460c-a006-30f99fb8c8a1"
      },
      "execution_count": null,
      "outputs": [
        {
          "output_type": "stream",
          "name": "stdout",
          "text": [
            "name=hydrogrn,symbol=H,number=1\n"
          ]
        }
      ]
    },
    {
      "cell_type": "markdown",
      "source": [
        "7. Call print(hydrogen). In the definition of Element, change the name of method dump to __str__,\n",
        "create a new hydrogen object, and call print(hydrogen) again."
      ],
      "metadata": {
        "id": "VXJztJ-xDYQc"
      }
    },
    {
      "cell_type": "code",
      "source": [
        "print(hydrogen)"
      ],
      "metadata": {
        "colab": {
          "base_uri": "https://localhost:8080/"
        },
        "id": "eZYVRuGQDQmE",
        "outputId": "8a68f897-6c2f-4ebb-82a1-2303d7ee23fc"
      },
      "execution_count": null,
      "outputs": [
        {
          "output_type": "stream",
          "name": "stdout",
          "text": [
            "<__main__.element object at 0x7f9787cf4250>\n"
          ]
        }
      ]
    },
    {
      "cell_type": "code",
      "source": [
        "class element:\n",
        "  def __init__(self,name,symbol,number):\n",
        "    self.name=name\n",
        "    self.symbol=symbol\n",
        "    self.number=number\n",
        "  def __str__(self):\n",
        "    return f\"name={self.name},symbol={self.symbol},number={self.number}\""
      ],
      "metadata": {
        "id": "dJHv5nRaDl4Q"
      },
      "execution_count": null,
      "outputs": []
    },
    {
      "cell_type": "code",
      "source": [
        "hydrogen=element(\"hydrogen\",\"H\",\"1\")"
      ],
      "metadata": {
        "id": "Raod_aNpD5st"
      },
      "execution_count": null,
      "outputs": []
    },
    {
      "cell_type": "code",
      "source": [
        "print(hydrogen)"
      ],
      "metadata": {
        "colab": {
          "base_uri": "https://localhost:8080/"
        },
        "id": "KD9rEzsuD-o_",
        "outputId": "d8ab6cac-8fff-4341-c057-c5452ed6c9f4"
      },
      "execution_count": null,
      "outputs": [
        {
          "output_type": "stream",
          "name": "stdout",
          "text": [
            "name=hydrogen,symbol=H,number=1\n"
          ]
        }
      ]
    },
    {
      "cell_type": "markdown",
      "source": [
        "8. Modify Element to make the attributes name, symbol, and number private. Define a getter\n",
        "property for each to return its value."
      ],
      "metadata": {
        "id": "wKNXtqPEEjfN"
      }
    },
    {
      "cell_type": "code",
      "source": [
        "class element:\n",
        "  def __init__(self,name,symbol,number):\n",
        "    self.__name=name\n",
        "    self.__symbol=symbol\n",
        "    self.__number=number\n",
        "  def test(self):\n",
        "    return f\"name={self.__name},symbol={self.__symbol},number={self.__number}\""
      ],
      "metadata": {
        "id": "OyT7xDQ5EH_A"
      },
      "execution_count": null,
      "outputs": []
    },
    {
      "cell_type": "code",
      "source": [
        "u=element(\"hydrogen\",\"H\",1)"
      ],
      "metadata": {
        "id": "FPyM-bYPFgAV"
      },
      "execution_count": null,
      "outputs": []
    },
    {
      "cell_type": "code",
      "source": [
        "u.test()"
      ],
      "metadata": {
        "colab": {
          "base_uri": "https://localhost:8080/",
          "height": 36
        },
        "id": "8cgfVRD3Fmnr",
        "outputId": "8106bcba-6655-4654-cf62-fb6170640e3e"
      },
      "execution_count": null,
      "outputs": [
        {
          "output_type": "execute_result",
          "data": {
            "text/plain": [
              "'name=hydrogen,symbol=H,number=1'"
            ],
            "application/vnd.google.colaboratory.intrinsic+json": {
              "type": "string"
            }
          },
          "metadata": {},
          "execution_count": 57
        }
      ]
    },
    {
      "cell_type": "markdown",
      "source": [
        "9. Define three classes: Bear, Rabbit, and Octothorpe. For each, define only one method: eats(). This\n",
        "should return &#39;berries&#39; (Bear), &#39;clover&#39; (Rabbit), or &#39;campers&#39; (Octothorpe). Create one object from\n",
        "each and print what it eats.\n"
      ],
      "metadata": {
        "id": "HYdhYjUnHwcq"
      }
    },
    {
      "cell_type": "code",
      "source": [
        "class bear:\n",
        "  def eats(self):\n",
        "    return \"berries\"\n",
        "class rabbit:\n",
        "  def eats(self):\n",
        "    return \"clover\"\n",
        "class octothorpe:\n",
        "  def eats(self):\n",
        "    return \"campers\"\n"
      ],
      "metadata": {
        "id": "GUUdKM9qFwlf"
      },
      "execution_count": null,
      "outputs": []
    },
    {
      "cell_type": "code",
      "source": [
        "u=bear()\n",
        "v=rabbit()\n",
        "w=octothorpe()"
      ],
      "metadata": {
        "id": "Q-oR64WaIaK5"
      },
      "execution_count": null,
      "outputs": []
    },
    {
      "cell_type": "code",
      "source": [
        "print(u.eats())\n",
        "print(v.eats())\n",
        "print(w.eats())\n"
      ],
      "metadata": {
        "colab": {
          "base_uri": "https://localhost:8080/"
        },
        "id": "vDKzU2krIjSv",
        "outputId": "946bba8d-fb2f-4a57-886b-da5034d2b686"
      },
      "execution_count": null,
      "outputs": [
        {
          "output_type": "stream",
          "name": "stdout",
          "text": [
            "berries\n",
            "clover\n",
            "campers\n"
          ]
        }
      ]
    },
    {
      "cell_type": "markdown",
      "source": [
        "10. Define these classes: Laser, Claw, and SmartPhone. Each has only one method: does(). This\n",
        "returns &#39;disintegrate&#39; (Laser), &#39;crush&#39; (Claw), or &#39;ring&#39; (SmartPhone). Then, define the class Robot that\n",
        "has one instance (object) of each of these. Define a does() method for the Robot that prints what its\n",
        "component objects do."
      ],
      "metadata": {
        "id": "CRSXEDXoJssu"
      }
    },
    {
      "cell_type": "code",
      "source": [
        "class laser:\n",
        "  def does(self):\n",
        "    return 'disintegrate'\n",
        "class claw:\n",
        "  def does(self):\n",
        "    return 'crush'\n",
        "class smartphone:\n",
        "  def does(self):\n",
        "    return 'ring'\n",
        "class robot:\n",
        "  def __init__(self):\n",
        "    self.laser=laser()\n",
        "    self.claw=claw()\n",
        "    self.smartphone=smartphone()\n",
        "  def does(self):\n",
        "    return   f'{self.laser},{self.claw},{self.smartphone}'\n"
      ],
      "metadata": {
        "id": "U5PJQJraIoNg"
      },
      "execution_count": null,
      "outputs": []
    },
    {
      "cell_type": "code",
      "source": [
        "r=robot()"
      ],
      "metadata": {
        "id": "1pb5CZrYMDv-"
      },
      "execution_count": null,
      "outputs": []
    },
    {
      "cell_type": "code",
      "source": [
        "r.does()"
      ],
      "metadata": {
        "colab": {
          "base_uri": "https://localhost:8080/",
          "height": 53
        },
        "id": "wTl5Os44MGVk",
        "outputId": "7ba4c0fa-942b-4c75-b503-d7ecf62c650a"
      },
      "execution_count": null,
      "outputs": [
        {
          "output_type": "execute_result",
          "data": {
            "text/plain": [
              "'<__main__.laser object at 0x7f9787cb2e50>,<__main__.claw object at 0x7f9787cb2c10>,<__main__.smartphone object at 0x7f9787cb2fd0>'"
            ],
            "application/vnd.google.colaboratory.intrinsic+json": {
              "type": "string"
            }
          },
          "metadata": {},
          "execution_count": 88
        }
      ]
    },
    {
      "cell_type": "code",
      "source": [],
      "metadata": {
        "id": "Za31wyfDMY8t"
      },
      "execution_count": null,
      "outputs": []
    }
  ]
}