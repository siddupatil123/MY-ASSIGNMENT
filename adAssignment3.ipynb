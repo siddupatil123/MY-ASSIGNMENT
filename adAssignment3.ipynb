{
 "cells": [
  {
   "cell_type": "code",
   "execution_count": null,
   "id": "1172839b",
   "metadata": {},
   "outputs": [],
   "source": [
    "1. What is the concept of an abstract superclass?"
   ]
  },
  {
   "cell_type": "code",
   "execution_count": null,
   "id": "d141ce72",
   "metadata": {},
   "outputs": [],
   "source": [
    "abstact superclass is one way to provide reuseable code"
   ]
  },
  {
   "cell_type": "code",
   "execution_count": null,
   "id": "1a6d4109",
   "metadata": {},
   "outputs": [],
   "source": [
    "2. What happens when a class statement&#39;s top level contains a basic assignment statement?"
   ]
  },
  {
   "cell_type": "code",
   "execution_count": null,
   "id": "4b6f2227",
   "metadata": {},
   "outputs": [],
   "source": [
    "variable value cannpot be changed"
   ]
  },
  {
   "cell_type": "code",
   "execution_count": null,
   "id": "c875ee98",
   "metadata": {},
   "outputs": [],
   "source": [
    "3. Why does a class need to manually call a superclass&#39;s __init__ method?"
   ]
  },
  {
   "cell_type": "code",
   "execution_count": null,
   "id": "b6503581",
   "metadata": {},
   "outputs": [],
   "source": [
    "one needs to define something that is NOT done in the base-class' __init__ ,"
   ]
  },
  {
   "cell_type": "code",
   "execution_count": null,
   "id": "c2b16dde",
   "metadata": {},
   "outputs": [],
   "source": [
    "4. How can you augment, instead of completely replacing, an inherited method?"
   ]
  },
  {
   "cell_type": "code",
   "execution_count": null,
   "id": "65fb3066",
   "metadata": {},
   "outputs": [],
   "source": [
    "we can use multiple inheritance"
   ]
  },
  {
   "cell_type": "code",
   "execution_count": null,
   "id": "75407040",
   "metadata": {},
   "outputs": [],
   "source": [
    "5. How is the local scope of a class different from that of a function?"
   ]
  },
  {
   "cell_type": "code",
   "execution_count": null,
   "id": "7f058462",
   "metadata": {},
   "outputs": [],
   "source": [
    "if you assign a value to a name inside a function, then that name will have a local Python scope"
   ]
  }
 ],
 "metadata": {
  "kernelspec": {
   "display_name": "Python 3 (ipykernel)",
   "language": "python",
   "name": "python3"
  },
  "language_info": {
   "codemirror_mode": {
    "name": "ipython",
    "version": 3
   },
   "file_extension": ".py",
   "mimetype": "text/x-python",
   "name": "python",
   "nbconvert_exporter": "python",
   "pygments_lexer": "ipython3",
   "version": "3.9.12"
  }
 },
 "nbformat": 4,
 "nbformat_minor": 5
}
