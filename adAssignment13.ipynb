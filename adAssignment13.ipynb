{
 "cells": [
  {
   "cell_type": "code",
   "execution_count": null,
   "id": "6184c0b2",
   "metadata": {},
   "outputs": [],
   "source": [
    "Q1. Can you create a programme or function that employs both positive and negative indexing? Is\n",
    "there any repercussion if you do so?"
   ]
  },
  {
   "cell_type": "code",
   "execution_count": null,
   "id": "b94efa02",
   "metadata": {},
   "outputs": [],
   "source": [
    "yes we can do both positive and negative indexing"
   ]
  },
  {
   "cell_type": "code",
   "execution_count": null,
   "id": "ce4650d3",
   "metadata": {},
   "outputs": [],
   "source": [
    "Q2. What is the most effective way of starting with 1,000 elements in a Python list? Assume that all\n",
    "elements should be set to the same value."
   ]
  },
  {
   "cell_type": "code",
   "execution_count": null,
   "id": "b063c790",
   "metadata": {},
   "outputs": [],
   "source": [
    "using for loop and then append into the list"
   ]
  },
  {
   "cell_type": "code",
   "execution_count": null,
   "id": "d8be0e2c",
   "metadata": {},
   "outputs": [],
   "source": [
    "Q3. How do you slice a list to get any other part while missing the rest? (For example, suppose you\n",
    "want to make a new list with the elements first, third, fifth, seventh, and so on.)"
   ]
  },
  {
   "cell_type": "code",
   "execution_count": null,
   "id": "53853588",
   "metadata": {},
   "outputs": [],
   "source": [
    "by using slicing operation and in that entering jump value by 1"
   ]
  },
  {
   "cell_type": "code",
   "execution_count": null,
   "id": "976f06d8",
   "metadata": {},
   "outputs": [],
   "source": [
    "Q4. Explain the distinctions between indexing and slicing."
   ]
  },
  {
   "cell_type": "code",
   "execution_count": null,
   "id": "0ab1abc5",
   "metadata": {},
   "outputs": [],
   "source": [
    "Indexing means referring to an element of an iterable by its position within the iterable.\n",
    "Slicing means getting a subset of elements from an iterable based on their indices."
   ]
  },
  {
   "cell_type": "code",
   "execution_count": null,
   "id": "0829bf54",
   "metadata": {},
   "outputs": [],
   "source": [
    "Q5. What happens if one of the slicing expression&#39;s indexes is out of range?"
   ]
  },
  {
   "cell_type": "code",
   "execution_count": null,
   "id": "2d3ea0ad",
   "metadata": {},
   "outputs": [],
   "source": [
    "then it throws an error that indexout of range"
   ]
  },
  {
   "cell_type": "code",
   "execution_count": null,
   "id": "5db6430e",
   "metadata": {},
   "outputs": [],
   "source": [
    "Q6. If you pass a list to a function, and if you want the function to be able to change the values of the\n",
    "list—so that the list is different after the function returns—what action should you avoid?"
   ]
  },
  {
   "cell_type": "code",
   "execution_count": null,
   "id": "2375cba3",
   "metadata": {},
   "outputs": [],
   "source": [
    "during the pasing the list into function then itself we can change the values as it takes waht is passed inside the function"
   ]
  },
  {
   "cell_type": "code",
   "execution_count": null,
   "id": "ef49ec2c",
   "metadata": {},
   "outputs": [],
   "source": [
    "Q7. What is the concept of an unbalanced matrix?"
   ]
  },
  {
   "cell_type": "code",
   "execution_count": null,
   "id": "25de12fc",
   "metadata": {},
   "outputs": [],
   "source": [
    "whenever the number of sources is not equal to the number of destinations then it is called unbalanced matrix"
   ]
  },
  {
   "cell_type": "code",
   "execution_count": null,
   "id": "3766acc0",
   "metadata": {},
   "outputs": [],
   "source": [
    "Q8. Why is it necessary to use either list comprehension or a loop to create arbitrarily large matrices?"
   ]
  },
  {
   "cell_type": "code",
   "execution_count": null,
   "id": "0a8d6649",
   "metadata": {},
   "outputs": [],
   "source": [
    "because it simplifies the code and makes easy"
   ]
  },
  {
   "cell_type": "code",
   "execution_count": null,
   "id": "9f61684f",
   "metadata": {},
   "outputs": [],
   "source": []
  },
  {
   "cell_type": "code",
   "execution_count": null,
   "id": "6666ac35",
   "metadata": {},
   "outputs": [],
   "source": []
  },
  {
   "cell_type": "code",
   "execution_count": null,
   "id": "87c9e1ec",
   "metadata": {},
   "outputs": [],
   "source": []
  }
 ],
 "metadata": {
  "kernelspec": {
   "display_name": "Python 3 (ipykernel)",
   "language": "python",
   "name": "python3"
  },
  "language_info": {
   "codemirror_mode": {
    "name": "ipython",
    "version": 3
   },
   "file_extension": ".py",
   "mimetype": "text/x-python",
   "name": "python",
   "nbconvert_exporter": "python",
   "pygments_lexer": "ipython3",
   "version": "3.9.12"
  }
 },
 "nbformat": 4,
 "nbformat_minor": 5
}
