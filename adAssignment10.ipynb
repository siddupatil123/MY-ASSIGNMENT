{
 "cells": [
  {
   "cell_type": "code",
   "execution_count": null,
   "id": "300b8109",
   "metadata": {},
   "outputs": [],
   "source": [
    "Q1. What is the difference between __getattr__ and __getattribute__?"
   ]
  },
  {
   "cell_type": "code",
   "execution_count": null,
   "id": "d0c0ec3a",
   "metadata": {},
   "outputs": [],
   "source": [
    "__getattr__  it does not have an default implementation\n",
    "__getattribute__ it has default implementation"
   ]
  },
  {
   "cell_type": "code",
   "execution_count": null,
   "id": "8de7033c",
   "metadata": {},
   "outputs": [],
   "source": [
    "Q2. What is the difference between properties and descriptors?"
   ]
  },
  {
   "cell_type": "code",
   "execution_count": null,
   "id": "89f2e377",
   "metadata": {},
   "outputs": [],
   "source": [
    "descriptors are low-level mechanism whreas as properties are high-level mechanism\n",
    "properties are implemented using descriptors"
   ]
  },
  {
   "cell_type": "code",
   "execution_count": null,
   "id": "42acf27f",
   "metadata": {},
   "outputs": [],
   "source": [
    "Q3. What are the key differences in functionality between __getattr__ and __getattribute__, as well as\n",
    "properties and descriptors?"
   ]
  },
  {
   "cell_type": "code",
   "execution_count": null,
   "id": "38328e72",
   "metadata": {},
   "outputs": [],
   "source": [
    "A key difference between __getattr__ and __getattribute__ is that\n",
    "__getattr__ is only invoked if the attribute was not found the usual ways."
   ]
  },
  {
   "cell_type": "code",
   "execution_count": null,
   "id": "e0d467a4",
   "metadata": {},
   "outputs": [],
   "source": [
    "A descriptor is a mechanism behind properties\n",
    "The property function builds descriptors for you"
   ]
  }
 ],
 "metadata": {
  "kernelspec": {
   "display_name": "Python 3 (ipykernel)",
   "language": "python",
   "name": "python3"
  },
  "language_info": {
   "codemirror_mode": {
    "name": "ipython",
    "version": 3
   },
   "file_extension": ".py",
   "mimetype": "text/x-python",
   "name": "python",
   "nbconvert_exporter": "python",
   "pygments_lexer": "ipython3",
   "version": "3.9.12"
  }
 },
 "nbformat": 4,
 "nbformat_minor": 5
}
