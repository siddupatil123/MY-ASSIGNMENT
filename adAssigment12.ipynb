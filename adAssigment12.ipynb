{
 "cells": [
  {
   "cell_type": "code",
   "execution_count": null,
   "id": "e6178d59",
   "metadata": {},
   "outputs": [],
   "source": [
    "Q1. Does assigning a value to a string&#39;s indexed character violate Python&#39;s string immutability?"
   ]
  },
  {
   "cell_type": "code",
   "execution_count": null,
   "id": "05c1e60e",
   "metadata": {},
   "outputs": [],
   "source": [
    "assigning new value to the exisiting string value can change "
   ]
  },
  {
   "cell_type": "code",
   "execution_count": null,
   "id": "2e8d446e",
   "metadata": {},
   "outputs": [],
   "source": [
    "Q2. Does using the += operator to concatenate strings violate Python&#39;s string immutability? Why or\n",
    "why not?"
   ]
  },
  {
   "cell_type": "code",
   "execution_count": null,
   "id": "3c833e9d",
   "metadata": {},
   "outputs": [],
   "source": [
    "yes it changes the string mutability but using of these is prohobited and sring is made mutable beacuse it should not change"
   ]
  },
  {
   "cell_type": "code",
   "execution_count": null,
   "id": "bcdf9c5a",
   "metadata": {},
   "outputs": [],
   "source": [
    "Q3. In Python, how many different ways are there to index a character?"
   ]
  },
  {
   "cell_type": "code",
   "execution_count": null,
   "id": "98f3df41",
   "metadata": {},
   "outputs": [],
   "source": [
    "two ways by positive indexing and negative indexing"
   ]
  },
  {
   "cell_type": "code",
   "execution_count": null,
   "id": "798d3a51",
   "metadata": {},
   "outputs": [],
   "source": [
    "Q4. What is the relationship between indexing and slicing?"
   ]
  },
  {
   "cell_type": "code",
   "execution_count": null,
   "id": "14ab783f",
   "metadata": {},
   "outputs": [],
   "source": [
    "Indexing means referring to an element of an iterable by its position within the iterable. \n",
    "Slicing means getting a subset of elements from an iterable based on their indice"
   ]
  },
  {
   "cell_type": "code",
   "execution_count": null,
   "id": "f625f46f",
   "metadata": {},
   "outputs": [],
   "source": [
    "Q5. What is an indexed character&#39;s exact data type? What is the data form of a slicing-generated\n",
    "substring?"
   ]
  },
  {
   "cell_type": "code",
   "execution_count": null,
   "id": "644a8fd6",
   "metadata": {},
   "outputs": [],
   "source": [
    "it has no data type for a single character"
   ]
  },
  {
   "cell_type": "code",
   "execution_count": null,
   "id": "b1dc1442",
   "metadata": {},
   "outputs": [],
   "source": [
    "Q6. What is the relationship between string and character &quot;types&quot; in Python?"
   ]
  },
  {
   "cell_type": "code",
   "execution_count": null,
   "id": "02341b13",
   "metadata": {},
   "outputs": [],
   "source": [
    "string is squence of characters form a string in python"
   ]
  },
  {
   "cell_type": "code",
   "execution_count": null,
   "id": "d6a4e895",
   "metadata": {},
   "outputs": [],
   "source": [
    "Q7. Identify at least two operators and one method that allow you to combine one or more smaller\n",
    "strings to create a larger string."
   ]
  },
  {
   "cell_type": "code",
   "execution_count": null,
   "id": "dba323a9",
   "metadata": {},
   "outputs": [],
   "source": [
    "one is + concatenation operater and another one is concat() method "
   ]
  },
  {
   "cell_type": "code",
   "execution_count": null,
   "id": "0c0e1566",
   "metadata": {},
   "outputs": [],
   "source": [
    "Q8. What is the benefit of first checking the target string with in or not in before using the index\n",
    "method to find a substring?"
   ]
  },
  {
   "cell_type": "code",
   "execution_count": null,
   "id": "ff51844a",
   "metadata": {},
   "outputs": [],
   "source": [
    "we check first the string is in it or not by using find() method hence then it can be solved easily"
   ]
  },
  {
   "cell_type": "code",
   "execution_count": null,
   "id": "8815ed9b",
   "metadata": {},
   "outputs": [],
   "source": [
    "Q9. Which operators and built-in string methods produce simple Boolean (true/false) results?"
   ]
  },
  {
   "cell_type": "code",
   "execution_count": null,
   "id": "a359da51",
   "metadata": {},
   "outputs": [],
   "source": [
    "comparison operator and logica operator"
   ]
  }
 ],
 "metadata": {
  "kernelspec": {
   "display_name": "Python 3 (ipykernel)",
   "language": "python",
   "name": "python3"
  },
  "language_info": {
   "codemirror_mode": {
    "name": "ipython",
    "version": 3
   },
   "file_extension": ".py",
   "mimetype": "text/x-python",
   "name": "python",
   "nbconvert_exporter": "python",
   "pygments_lexer": "ipython3",
   "version": "3.9.12"
  }
 },
 "nbformat": 4,
 "nbformat_minor": 5
}
