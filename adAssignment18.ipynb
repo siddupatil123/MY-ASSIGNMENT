{
 "cells": [
  {
   "cell_type": "code",
   "execution_count": null,
   "id": "f1f55be9",
   "metadata": {},
   "outputs": [],
   "source": [
    "Q1. Describe the differences between text and binary files in a single paragraph."
   ]
  },
  {
   "cell_type": "code",
   "execution_count": null,
   "id": "47a060ff",
   "metadata": {},
   "outputs": [],
   "source": [
    "text file is sored in the lines and ends with new line character \n",
    "binary file is stored as the amin file contains"
   ]
  },
  {
   "cell_type": "code",
   "execution_count": null,
   "id": "06dcb428",
   "metadata": {},
   "outputs": [],
   "source": [
    "Q2. What are some scenarios where using text files will be the better option? When would you like to\n",
    "use binary files instead of text files?"
   ]
  },
  {
   "cell_type": "code",
   "execution_count": null,
   "id": "ae1b6cea",
   "metadata": {},
   "outputs": [],
   "source": [
    "text files can be eaily transferred from one computer to the another computer\n",
    "when we want to store the data more compactly"
   ]
  },
  {
   "cell_type": "code",
   "execution_count": null,
   "id": "47fd4ed3",
   "metadata": {},
   "outputs": [],
   "source": [
    "Q3. What are some of the issues with using binary operations to read and write a Python integer\n",
    "directly to disc?"
   ]
  },
  {
   "cell_type": "code",
   "execution_count": null,
   "id": "1b5ebbba",
   "metadata": {},
   "outputs": [],
   "source": [
    "if the data is in the decimal value then it should be convert into binary then can do the binary operation"
   ]
  },
  {
   "cell_type": "code",
   "execution_count": null,
   "id": "68d78b30",
   "metadata": {},
   "outputs": [],
   "source": [
    "Q4. Describe a benefit of using the with keyword instead of explicitly opening a file."
   ]
  },
  {
   "cell_type": "code",
   "execution_count": null,
   "id": "1f8790cb",
   "metadata": {},
   "outputs": [],
   "source": [
    "makes the code more tidy as we can easily separate between code block by difference in indents"
   ]
  },
  {
   "cell_type": "code",
   "execution_count": null,
   "id": "b960056a",
   "metadata": {},
   "outputs": [],
   "source": [
    "Q5. Does Python have the trailing newline while reading a line of text? Does Python append a\n",
    "newline when you write a line of text?"
   ]
  },
  {
   "cell_type": "code",
   "execution_count": null,
   "id": "b45e5e12",
   "metadata": {},
   "outputs": [],
   "source": [
    "yes we can trail the new line  and also we can append  the new line"
   ]
  },
  {
   "cell_type": "code",
   "execution_count": null,
   "id": "cbf70caf",
   "metadata": {},
   "outputs": [],
   "source": [
    "Q6. What file operations enable for random-access operation?"
   ]
  },
  {
   "cell_type": "code",
   "execution_count": null,
   "id": "4e442dc8",
   "metadata": {},
   "outputs": [],
   "source": [
    "tell(),seek() are the operation enabled for access operation"
   ]
  },
  {
   "cell_type": "code",
   "execution_count": null,
   "id": "36d88663",
   "metadata": {},
   "outputs": [],
   "source": [
    "Q7. When do you think you&#39;ll use the struct package the most?"
   ]
  },
  {
   "cell_type": "code",
   "execution_count": null,
   "id": "243fc374",
   "metadata": {},
   "outputs": [],
   "source": [
    "when we want to convert string values into bytes"
   ]
  },
  {
   "cell_type": "code",
   "execution_count": null,
   "id": "8d07d1fa",
   "metadata": {},
   "outputs": [],
   "source": [
    "Q8. When is pickling the best option?"
   ]
  },
  {
   "cell_type": "code",
   "execution_count": null,
   "id": "18d23fcf",
   "metadata": {},
   "outputs": [],
   "source": [
    "when coverting python object into byte form"
   ]
  },
  {
   "cell_type": "code",
   "execution_count": null,
   "id": "1b663900",
   "metadata": {},
   "outputs": [],
   "source": [
    "Q10. What is a special restriction when using the shelve package, as opposed to using other data\n",
    "dictionaries?"
   ]
  },
  {
   "cell_type": "code",
   "execution_count": null,
   "id": "88a14c33",
   "metadata": {},
   "outputs": [],
   "source": [
    "Only string data type can be used as key"
   ]
  }
 ],
 "metadata": {
  "kernelspec": {
   "display_name": "Python 3 (ipykernel)",
   "language": "python",
   "name": "python3"
  },
  "language_info": {
   "codemirror_mode": {
    "name": "ipython",
    "version": 3
   },
   "file_extension": ".py",
   "mimetype": "text/x-python",
   "name": "python",
   "nbconvert_exporter": "python",
   "pygments_lexer": "ipython3",
   "version": "3.9.12"
  }
 },
 "nbformat": 4,
 "nbformat_minor": 5
}
