{
 "cells": [
  {
   "cell_type": "code",
   "execution_count": null,
   "id": "e5a9d44e",
   "metadata": {},
   "outputs": [],
   "source": [
    "1) . What is the difference between enclosing a list comprehension in square brackets and\n",
    "parentheses?"
   ]
  },
  {
   "cell_type": "code",
   "execution_count": null,
   "id": "c414a129",
   "metadata": {},
   "outputs": [],
   "source": [
    "ANSWER:square brackets are list while parentheses are tupel"
   ]
  },
  {
   "cell_type": "code",
   "execution_count": null,
   "id": "f7049582",
   "metadata": {},
   "outputs": [],
   "source": [
    "2) What is the relationship between generators and iterators?"
   ]
  },
  {
   "cell_type": "code",
   "execution_count": null,
   "id": "cd059bb0",
   "metadata": {},
   "outputs": [],
   "source": [
    "ANSWER:generator function uses yield to get the value while iterator uses next()function to return the value\n",
    "in iterator it iterates through the loop and obtains the value while in generator first it executes the loop and then returns the value"
   ]
  },
  {
   "cell_type": "code",
   "execution_count": null,
   "id": "3118880e",
   "metadata": {},
   "outputs": [],
   "source": [
    "3) What are the signs that a function is a generator function?"
   ]
  },
  {
   "cell_type": "code",
   "execution_count": null,
   "id": "87704396",
   "metadata": {},
   "outputs": [],
   "source": [
    "it should contain atleast one yield staement"
   ]
  },
  {
   "cell_type": "code",
   "execution_count": null,
   "id": "79018dbf",
   "metadata": {},
   "outputs": [],
   "source": [
    "4) What is the purpose of a yield statement?"
   ]
  },
  {
   "cell_type": "code",
   "execution_count": null,
   "id": "dc56ab79",
   "metadata": {},
   "outputs": [],
   "source": [
    "it return the generator object when function called and then returns the value"
   ]
  },
  {
   "cell_type": "code",
   "execution_count": null,
   "id": "1af341ee",
   "metadata": {},
   "outputs": [],
   "source": [
    "5) What is the relationship between map calls and list comprehensions? Make a comparison and\n",
    "contrast between the two."
   ]
  },
  {
   "cell_type": "code",
   "execution_count": null,
   "id": "b40b576b",
   "metadata": {},
   "outputs": [],
   "source": [
    "list comprehension is more easier than the map \n",
    "map function is more useful when the content is huge u=in structure"
   ]
  }
 ],
 "metadata": {
  "kernelspec": {
   "display_name": "Python 3 (ipykernel)",
   "language": "python",
   "name": "python3"
  },
  "language_info": {
   "codemirror_mode": {
    "name": "ipython",
    "version": 3
   },
   "file_extension": ".py",
   "mimetype": "text/x-python",
   "name": "python",
   "nbconvert_exporter": "python",
   "pygments_lexer": "ipython3",
   "version": "3.9.12"
  }
 },
 "nbformat": 4,
 "nbformat_minor": 5
}
