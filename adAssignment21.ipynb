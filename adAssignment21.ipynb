{
 "cells": [
  {
   "cell_type": "code",
   "execution_count": null,
   "id": "21c16725",
   "metadata": {},
   "outputs": [],
   "source": [
    "Q1. What is a probability distribution, exactly? If the values are meant to be random, how can you\n",
    "predict them at all?"
   ]
  },
  {
   "cell_type": "code",
   "execution_count": null,
   "id": "bbb4c67c",
   "metadata": {},
   "outputs": [],
   "source": [
    "A probability distribution is a list of all of the possible outcomes of a random variable, \n",
    "along with its corresponding probability values"
   ]
  },
  {
   "cell_type": "code",
   "execution_count": null,
   "id": "b3689c61",
   "metadata": {},
   "outputs": [],
   "source": [
    "Q2. Is there a distinction between true random numbers and pseudo-random numbers, if there is\n",
    "one? Why are the latter considered “good enough”?"
   ]
  },
  {
   "cell_type": "code",
   "execution_count": null,
   "id": "39a64b39",
   "metadata": {},
   "outputs": [],
   "source": [
    "random numbers cannot be predicted wheras pseudo numbers can be predicted"
   ]
  },
  {
   "cell_type": "code",
   "execution_count": null,
   "id": "37f3acd5",
   "metadata": {},
   "outputs": [],
   "source": [
    "Q3. What are the two main factors that influence the behaviour of a &quot;normal&quot; probability distribution?"
   ]
  },
  {
   "cell_type": "code",
   "execution_count": null,
   "id": "8cf641ef",
   "metadata": {},
   "outputs": [],
   "source": [
    "(1) must be nonnegative for each value of the random variable, and\n",
    "    (2) the sum of the probabilities for each value of the random variable must equal one."
   ]
  },
  {
   "cell_type": "code",
   "execution_count": null,
   "id": "bc7783be",
   "metadata": {},
   "outputs": [],
   "source": [
    "Q4. Provide a real-life example of a normal distribution."
   ]
  },
  {
   "cell_type": "code",
   "execution_count": null,
   "id": "2a8a93af",
   "metadata": {},
   "outputs": [],
   "source": [
    "rolling of dice"
   ]
  },
  {
   "cell_type": "code",
   "execution_count": null,
   "id": "6cb59107",
   "metadata": {},
   "outputs": [],
   "source": [
    "Q5. In the short term, how can you expect a probability distribution to behave? What do you think will\n",
    "happen as the number of trials grows?"
   ]
  },
  {
   "cell_type": "code",
   "execution_count": null,
   "id": "2a23566d",
   "metadata": {},
   "outputs": [],
   "source": [
    "as the number trail grows the frequency between  it reduces"
   ]
  },
  {
   "cell_type": "code",
   "execution_count": null,
   "id": "487ccfd7",
   "metadata": {},
   "outputs": [],
   "source": [
    "Q6. What kind of object can be shuffled by using random.shuffle\n"
   ]
  },
  {
   "cell_type": "code",
   "execution_count": null,
   "id": "f7a7efc2",
   "metadata": {},
   "outputs": [],
   "source": [
    "multi dimensional array"
   ]
  },
  {
   "cell_type": "code",
   "execution_count": null,
   "id": "4d51dc6f",
   "metadata": {},
   "outputs": [],
   "source": [
    "Q7. Describe the math packages general categories of functions."
   ]
  },
  {
   "cell_type": "code",
   "execution_count": null,
   "id": "289ebe44",
   "metadata": {},
   "outputs": [],
   "source": [
    "linear function ,one function ,onto function etc"
   ]
  },
  {
   "cell_type": "code",
   "execution_count": null,
   "id": "053d28d6",
   "metadata": {},
   "outputs": [],
   "source": [
    "Q8. What is the relationship between exponentiation and logarithms?"
   ]
  },
  {
   "cell_type": "code",
   "execution_count": null,
   "id": "fd2a6b35",
   "metadata": {},
   "outputs": [],
   "source": [
    "Logarithmic functions are the inverses of exponential functions"
   ]
  },
  {
   "cell_type": "code",
   "execution_count": null,
   "id": "14055bba",
   "metadata": {},
   "outputs": [],
   "source": [
    "Q9. What are the three logarithmic functions that Python supports?"
   ]
  },
  {
   "cell_type": "code",
   "execution_count": null,
   "id": "48724583",
   "metadata": {},
   "outputs": [],
   "source": [
    "binary,base10 log,natural logarithm"
   ]
  }
 ],
 "metadata": {
  "kernelspec": {
   "display_name": "Python 3 (ipykernel)",
   "language": "python",
   "name": "python3"
  },
  "language_info": {
   "codemirror_mode": {
    "name": "ipython",
    "version": 3
   },
   "file_extension": ".py",
   "mimetype": "text/x-python",
   "name": "python",
   "nbconvert_exporter": "python",
   "pygments_lexer": "ipython3",
   "version": "3.9.12"
  }
 },
 "nbformat": 4,
 "nbformat_minor": 5
}
