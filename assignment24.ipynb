{
 "cells": [
  {
   "cell_type": "code",
   "execution_count": null,
   "id": "56cd2cbd",
   "metadata": {},
   "outputs": [],
   "source": [
    "1. What is the relationship between def statements and lambda expressions ?"
   ]
  },
  {
   "cell_type": "code",
   "execution_count": null,
   "id": "dbe08581",
   "metadata": {},
   "outputs": [],
   "source": [
    "The def defined functions do not return anything if not explicitly returned whereas the lambda function does return an object"
   ]
  },
  {
   "cell_type": "code",
   "execution_count": null,
   "id": "92b56c33",
   "metadata": {},
   "outputs": [],
   "source": [
    "2. What is the benefit of lambda?"
   ]
  },
  {
   "cell_type": "code",
   "execution_count": null,
   "id": "c5636d2f",
   "metadata": {},
   "outputs": [],
   "source": [
    "it provides shortcut for large process"
   ]
  },
  {
   "cell_type": "code",
   "execution_count": null,
   "id": "4768b780",
   "metadata": {},
   "outputs": [],
   "source": [
    "3. Compare and contrast map, filter, and reduce."
   ]
  },
  {
   "cell_type": "code",
   "execution_count": null,
   "id": "43a44919",
   "metadata": {},
   "outputs": [],
   "source": [
    "map and filter no need of importing while reduce should be imported\n",
    "reduce always takes two arguments in function\n",
    "filter needs function in boolean in nature"
   ]
  },
  {
   "cell_type": "code",
   "execution_count": null,
   "id": "e012ff19",
   "metadata": {},
   "outputs": [],
   "source": [
    "4. What are function annotations, and how are they used?"
   ]
  },
  {
   "cell_type": "code",
   "execution_count": null,
   "id": "32eebe18",
   "metadata": {},
   "outputs": [],
   "source": [
    "function annotations are the expression associated with the various functions\n",
    "the are used before the function as decorators and so on"
   ]
  },
  {
   "cell_type": "code",
   "execution_count": null,
   "id": "9e38f1ea",
   "metadata": {},
   "outputs": [],
   "source": [
    "5. What are recursive functions, and how are they used?"
   ]
  },
  {
   "cell_type": "code",
   "execution_count": null,
   "id": "4af166f3",
   "metadata": {},
   "outputs": [],
   "source": [
    "recursive function in code taht refers to itself for ececution"
   ]
  },
  {
   "cell_type": "code",
   "execution_count": null,
   "id": "411793b0",
   "metadata": {},
   "outputs": [],
   "source": [
    "6. What are some general design guidelines for coding functions?"
   ]
  },
  {
   "cell_type": "code",
   "execution_count": null,
   "id": "1bddfd51",
   "metadata": {},
   "outputs": [],
   "source": [
    "safe,secure ,testable,"
   ]
  },
  {
   "cell_type": "code",
   "execution_count": null,
   "id": "8e7812d5",
   "metadata": {},
   "outputs": [],
   "source": [
    "7. Name three or more ways that functions can communicate results to a caller."
   ]
  },
  {
   "cell_type": "code",
   "execution_count": null,
   "id": "3fccbea7",
   "metadata": {},
   "outputs": [],
   "source": [
    "variable arguument,required argument,defalut and keyword"
   ]
  }
 ],
 "metadata": {
  "kernelspec": {
   "display_name": "Python 3 (ipykernel)",
   "language": "python",
   "name": "python3"
  },
  "language_info": {
   "codemirror_mode": {
    "name": "ipython",
    "version": 3
   },
   "file_extension": ".py",
   "mimetype": "text/x-python",
   "name": "python",
   "nbconvert_exporter": "python",
   "pygments_lexer": "ipython3",
   "version": "3.9.12"
  }
 },
 "nbformat": 4,
 "nbformat_minor": 5
}
