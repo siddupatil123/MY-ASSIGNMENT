{
 "cells": [
  {
   "cell_type": "code",
   "execution_count": null,
   "id": "f4fd3eb9",
   "metadata": {},
   "outputs": [],
   "source": [
    "1. What is the result of the code, and explain?"
   ]
  },
  {
   "cell_type": "code",
   "execution_count": 1,
   "id": "89be6b5a",
   "metadata": {},
   "outputs": [],
   "source": [
    "x='ineuron'\n",
    "def func():\n",
    "    print(x)"
   ]
  },
  {
   "cell_type": "code",
   "execution_count": 3,
   "id": "c97e7e47",
   "metadata": {},
   "outputs": [
    {
     "name": "stdout",
     "output_type": "stream",
     "text": [
      "ineuron\n"
     ]
    }
   ],
   "source": [
    "func()"
   ]
  },
  {
   "cell_type": "code",
   "execution_count": null,
   "id": "55ed7667",
   "metadata": {},
   "outputs": [],
   "source": [
    "2. What is the result of the code, and explain?"
   ]
  },
  {
   "cell_type": "code",
   "execution_count": 6,
   "id": "d61bdf5a",
   "metadata": {},
   "outputs": [],
   "source": [
    "x='ineuron'\n",
    "def func():\n",
    "    x='NI!'\n"
   ]
  },
  {
   "cell_type": "code",
   "execution_count": 7,
   "id": "dbe36f3e",
   "metadata": {},
   "outputs": [],
   "source": [
    "func()"
   ]
  },
  {
   "cell_type": "code",
   "execution_count": 8,
   "id": "7dbecc16",
   "metadata": {},
   "outputs": [
    {
     "name": "stdout",
     "output_type": "stream",
     "text": [
      "ineuron\n"
     ]
    }
   ],
   "source": [
    "print(x)##because nothing is returned inside the function and when it call x it takes outside the function"
   ]
  },
  {
   "cell_type": "code",
   "execution_count": null,
   "id": "954ad5f6",
   "metadata": {},
   "outputs": [],
   "source": [
    "3. What does this code print, and why?"
   ]
  },
  {
   "cell_type": "code",
   "execution_count": 9,
   "id": "07063c99",
   "metadata": {},
   "outputs": [],
   "source": [
    "x='ineuron'\n",
    "def func():\n",
    "    x='NI!'\n",
    "    print(x)"
   ]
  },
  {
   "cell_type": "code",
   "execution_count": 10,
   "id": "406f9411",
   "metadata": {},
   "outputs": [
    {
     "name": "stdout",
     "output_type": "stream",
     "text": [
      "NI!\n"
     ]
    }
   ],
   "source": [
    "func()##because x is overwritten inside the function "
   ]
  },
  {
   "cell_type": "code",
   "execution_count": 11,
   "id": "ce316344",
   "metadata": {},
   "outputs": [
    {
     "name": "stdout",
     "output_type": "stream",
     "text": [
      "ineuron\n"
     ]
    }
   ],
   "source": [
    "print(x)"
   ]
  },
  {
   "cell_type": "code",
   "execution_count": null,
   "id": "80a1880e",
   "metadata": {},
   "outputs": [],
   "source": [
    "4. What output does this code produce? Why?"
   ]
  },
  {
   "cell_type": "code",
   "execution_count": 12,
   "id": "f2c0e44d",
   "metadata": {},
   "outputs": [],
   "source": [
    "x='ineuron'\n",
    "def func():\n",
    "    global x\n",
    "    x='NI!'\n",
    "    "
   ]
  },
  {
   "cell_type": "code",
   "execution_count": 13,
   "id": "1bd8552e",
   "metadata": {},
   "outputs": [],
   "source": [
    "func()"
   ]
  },
  {
   "cell_type": "code",
   "execution_count": 14,
   "id": "438fd54c",
   "metadata": {},
   "outputs": [
    {
     "name": "stdout",
     "output_type": "stream",
     "text": [
      "NI!\n"
     ]
    }
   ],
   "source": [
    "print(x) ## it alwaysb takes global variable not local varible"
   ]
  },
  {
   "cell_type": "code",
   "execution_count": null,
   "id": "85a31442",
   "metadata": {},
   "outputs": [],
   "source": [
    "5. What about this code—what’s the output, and why?"
   ]
  },
  {
   "cell_type": "code",
   "execution_count": 15,
   "id": "6805bcb4",
   "metadata": {},
   "outputs": [],
   "source": [
    "x='ineuron'\n",
    "def func():\n",
    "    x='NI!'\n",
    "def nested():\n",
    "    print(x)\n",
    "    nested()"
   ]
  },
  {
   "cell_type": "code",
   "execution_count": 16,
   "id": "e1c75108",
   "metadata": {},
   "outputs": [],
   "source": [
    "func()"
   ]
  },
  {
   "cell_type": "code",
   "execution_count": 17,
   "id": "16c25bd9",
   "metadata": {},
   "outputs": [
    {
     "data": {
      "text/plain": [
       "'ineuron'"
      ]
     },
     "execution_count": 17,
     "metadata": {},
     "output_type": "execute_result"
    }
   ],
   "source": [
    "x"
   ]
  },
  {
   "cell_type": "code",
   "execution_count": null,
   "id": "409053c7",
   "metadata": {},
   "outputs": [],
   "source": [
    "6. How about this code: what is its output in Python 3, and explain?"
   ]
  },
  {
   "cell_type": "code",
   "execution_count": 25,
   "id": "b82ddf84",
   "metadata": {},
   "outputs": [],
   "source": [
    "def func():\n",
    "    x='NI!'\n",
    "def nested():\n",
    "    \n",
    "    x='spam'\n",
    "    nested()\n",
    "    print(x)"
   ]
  },
  {
   "cell_type": "code",
   "execution_count": 26,
   "id": "a4a796cb",
   "metadata": {},
   "outputs": [],
   "source": [
    "func()"
   ]
  },
  {
   "cell_type": "code",
   "execution_count": null,
   "id": "dde934df",
   "metadata": {},
   "outputs": [],
   "source": []
  }
 ],
 "metadata": {
  "kernelspec": {
   "display_name": "Python 3 (ipykernel)",
   "language": "python",
   "name": "python3"
  },
  "language_info": {
   "codemirror_mode": {
    "name": "ipython",
    "version": 3
   },
   "file_extension": ".py",
   "mimetype": "text/x-python",
   "name": "python",
   "nbconvert_exporter": "python",
   "pygments_lexer": "ipython3",
   "version": "3.9.12"
  }
 },
 "nbformat": 4,
 "nbformat_minor": 5
}
