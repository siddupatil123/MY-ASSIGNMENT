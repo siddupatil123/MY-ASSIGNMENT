{
 "cells": [
  {
   "cell_type": "code",
   "execution_count": null,
   "id": "59384bba",
   "metadata": {},
   "outputs": [],
   "source": [
    "Q1. Is an assignment operator like += only for show? Is it possible that it would lead to faster results\n",
    "at the runtime?"
   ]
  },
  {
   "cell_type": "code",
   "execution_count": null,
   "id": "209c667a",
   "metadata": {},
   "outputs": [],
   "source": [
    "it gives the faster result during the runtime"
   ]
  },
  {
   "cell_type": "code",
   "execution_count": null,
   "id": "c212d2a1",
   "metadata": {},
   "outputs": [],
   "source": [
    "Q2. What is the smallest number of statements you&#39;d have to write in most programming languages to\n",
    "replace the Python expression a, b = a + b, a?"
   ]
  },
  {
   "cell_type": "code",
   "execution_count": null,
   "id": "b7a5d7cf",
   "metadata": {},
   "outputs": [],
   "source": [
    "variable.replace(a,b)"
   ]
  },
  {
   "cell_type": "code",
   "execution_count": null,
   "id": "dca8267d",
   "metadata": {},
   "outputs": [],
   "source": [
    "Q3. In Python, what is the most effective way to set a list of 100 integers to 0?"
   ]
  },
  {
   "cell_type": "code",
   "execution_count": null,
   "id": "4d413d7c",
   "metadata": {},
   "outputs": [],
   "source": [
    "by using list(range(100,0,-1))"
   ]
  },
  {
   "cell_type": "code",
   "execution_count": null,
   "id": "6230b5eb",
   "metadata": {},
   "outputs": [],
   "source": [
    "Q4. What is the most effective way to initialise a list of 99 integers that repeats the sequence 1, 2, 3?\n",
    "S If necessary, show step-by-step instructions on how to accomplish this."
   ]
  },
  {
   "cell_type": "code",
   "execution_count": null,
   "id": "0db40c8e",
   "metadata": {},
   "outputs": [],
   "source": [
    "Q5. If you&#39;re using IDLE to run a Python application, explain how to print a multidimensional list as\n",
    "efficiently?"
   ]
  },
  {
   "cell_type": "code",
   "execution_count": null,
   "id": "a04aa45d",
   "metadata": {},
   "outputs": [],
   "source": [
    "by using the for loop"
   ]
  },
  {
   "cell_type": "code",
   "execution_count": null,
   "id": "a4a852aa",
   "metadata": {},
   "outputs": [],
   "source": [
    "Q6. Is it possible to use list comprehension with a string? If so, how can you go about doing it?"
   ]
  },
  {
   "cell_type": "code",
   "execution_count": 15,
   "id": "0eccf817",
   "metadata": {},
   "outputs": [
    {
     "name": "stdout",
     "output_type": "stream",
     "text": [
      "['i', 'n', 'e', 'u', 'r', 'o', 'n']\n"
     ]
    }
   ],
   "source": [
    "a=\"ineuron\"\n",
    "print([i for i in a])"
   ]
  },
  {
   "cell_type": "code",
   "execution_count": null,
   "id": "aac77d5e",
   "metadata": {},
   "outputs": [],
   "source": [
    "Q7. From the command line, how do you get support with a user-written Python programme? Is this\n",
    "possible from inside IDLE?"
   ]
  },
  {
   "cell_type": "code",
   "execution_count": null,
   "id": "fd860a95",
   "metadata": {},
   "outputs": [],
   "source": [
    "by cretaing a py file "
   ]
  },
  {
   "cell_type": "code",
   "execution_count": null,
   "id": "52a35867",
   "metadata": {},
   "outputs": [],
   "source": [
    "Q9. How do you distinguish between a wrapper, a wrapped feature, and a decorator?"
   ]
  },
  {
   "cell_type": "code",
   "execution_count": null,
   "id": "1f38dc42",
   "metadata": {},
   "outputs": [],
   "source": [
    "Decorators allow us to wrap another function in order to extend the behavior of the wrapped function,\n",
    "without permanently modifying it"
   ]
  },
  {
   "cell_type": "code",
   "execution_count": null,
   "id": "e09a58c4",
   "metadata": {},
   "outputs": [],
   "source": [
    "Q10. If a function is a generator function, what does it return?"
   ]
  },
  {
   "cell_type": "code",
   "execution_count": null,
   "id": "4f7896ce",
   "metadata": {},
   "outputs": [],
   "source": [
    "it returns generator objects"
   ]
  },
  {
   "cell_type": "code",
   "execution_count": null,
   "id": "7f686cdd",
   "metadata": {},
   "outputs": [],
   "source": [
    "Q12. Identify at least one benefit of generators."
   ]
  },
  {
   "cell_type": "code",
   "execution_count": null,
   "id": "3682cb93",
   "metadata": {},
   "outputs": [],
   "source": [
    " it allow you to create iterators in a very pythonic manner."
   ]
  }
 ],
 "metadata": {
  "kernelspec": {
   "display_name": "Python 3 (ipykernel)",
   "language": "python",
   "name": "python3"
  },
  "language_info": {
   "codemirror_mode": {
    "name": "ipython",
    "version": 3
   },
   "file_extension": ".py",
   "mimetype": "text/x-python",
   "name": "python",
   "nbconvert_exporter": "python",
   "pygments_lexer": "ipython3",
   "version": "3.9.12"
  }
 },
 "nbformat": 4,
 "nbformat_minor": 5
}
