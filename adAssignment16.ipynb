{
 "cells": [
  {
   "cell_type": "code",
   "execution_count": null,
   "id": "583425a2",
   "metadata": {},
   "outputs": [],
   "source": [
    "Q1. What is the benefit of regular expressions?"
   ]
  },
  {
   "cell_type": "code",
   "execution_count": null,
   "id": "dcd12241",
   "metadata": {},
   "outputs": [],
   "source": [
    "Regular expressions are useful in search and replace operations"
   ]
  },
  {
   "cell_type": "code",
   "execution_count": null,
   "id": "f06d5b4d",
   "metadata": {},
   "outputs": [],
   "source": [
    "Q2. Describe the difference between the effects of &quot;(ab)c+&quot; and &quot;a(bc)+.&quot; Which of these, if any, is the\n",
    "unqualified pattern &quot;abc+&quot;?"
   ]
  },
  {
   "cell_type": "code",
   "execution_count": null,
   "id": "9678cffe",
   "metadata": {},
   "outputs": [],
   "source": [
    "a=1\n",
    "b=2\n",
    "c=3\n"
   ]
  },
  {
   "cell_type": "code",
   "execution_count": null,
   "id": "49679ad4",
   "metadata": {},
   "outputs": [],
   "source": [
    "Q3. How much do you need to use the following sentence while using regular expressions?"
   ]
  },
  {
   "cell_type": "code",
   "execution_count": null,
   "id": "52b859d4",
   "metadata": {},
   "outputs": [],
   "source": [
    "import re"
   ]
  },
  {
   "cell_type": "code",
   "execution_count": null,
   "id": "53b742ba",
   "metadata": {},
   "outputs": [],
   "source": [
    "Q4. Which characters have special significance in square brackets when expressing a range, and\n",
    "under what circumstances?"
   ]
  },
  {
   "cell_type": "code",
   "execution_count": null,
   "id": "cff88f12",
   "metadata": {},
   "outputs": [],
   "source": [
    "when we are including or excluding the variable"
   ]
  },
  {
   "cell_type": "code",
   "execution_count": null,
   "id": "59983485",
   "metadata": {},
   "outputs": [],
   "source": [
    "Q5. How does compiling a regular-expression object benefit you?"
   ]
  },
  {
   "cell_type": "code",
   "execution_count": null,
   "id": "04be94bd",
   "metadata": {},
   "outputs": [],
   "source": [
    "it helps to search a pattern again without rewriting it"
   ]
  },
  {
   "cell_type": "code",
   "execution_count": null,
   "id": "e77b0754",
   "metadata": {},
   "outputs": [],
   "source": [
    "Q6. What are some examples of how to use the match object returned by re.match and re.search?"
   ]
  },
  {
   "cell_type": "code",
   "execution_count": null,
   "id": "85870577",
   "metadata": {},
   "outputs": [],
   "source": [
    " re match search the regular expression pattern and return the first occurrence.\n",
    "re.search it searches the required parameter"
   ]
  },
  {
   "cell_type": "code",
   "execution_count": null,
   "id": "e41e523b",
   "metadata": {},
   "outputs": [],
   "source": [
    "Q7. What is the difference between using a vertical bar (|) as an alteration and using square brackets\n",
    "as a character set?"
   ]
  },
  {
   "cell_type": "code",
   "execution_count": null,
   "id": "36316f2f",
   "metadata": {},
   "outputs": [],
   "source": [
    "it is used as  OR opertaor"
   ]
  },
  {
   "cell_type": "code",
   "execution_count": null,
   "id": "534afbed",
   "metadata": {},
   "outputs": [],
   "source": [
    "Q8. In regular-expression search patterns, why is it necessary to use the raw-string indicator (r)? In  \n",
    "replacement strings?"
   ]
  },
  {
   "cell_type": "code",
   "execution_count": null,
   "id": "71f2b004",
   "metadata": {},
   "outputs": [],
   "source": [
    "raw string helps us get source code"
   ]
  }
 ],
 "metadata": {
  "kernelspec": {
   "display_name": "Python 3 (ipykernel)",
   "language": "python",
   "name": "python3"
  },
  "language_info": {
   "codemirror_mode": {
    "name": "ipython",
    "version": 3
   },
   "file_extension": ".py",
   "mimetype": "text/x-python",
   "name": "python",
   "nbconvert_exporter": "python",
   "pygments_lexer": "ipython3",
   "version": "3.9.12"
  }
 },
 "nbformat": 4,
 "nbformat_minor": 5
}
