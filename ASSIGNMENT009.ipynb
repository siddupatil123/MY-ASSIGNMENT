{
  "nbformat": 4,
  "nbformat_minor": 0,
  "metadata": {
    "colab": {
      "provenance": []
    },
    "kernelspec": {
      "name": "python3",
      "display_name": "Python 3"
    },
    "language_info": {
      "name": "python"
    }
  },
  "cells": [
    {
      "cell_type": "markdown",
      "source": [
        "1. To what does a relative path refer?"
      ],
      "metadata": {
        "id": "vup72tzylIGR"
      }
    },
    {
      "cell_type": "markdown",
      "source": [
        "ANSWER: location of the relative current working directory"
      ],
      "metadata": {
        "id": "yIQK6D3wlWKA"
      }
    },
    {
      "cell_type": "markdown",
      "source": [
        "2. What does an absolute path start with your operating system?"
      ],
      "metadata": {
        "id": "0dbBE7Tmlj5i"
      }
    },
    {
      "cell_type": "markdown",
      "source": [
        "ANSWER: it is an home directory of our computer"
      ],
      "metadata": {
        "id": "yrndi9tGlp1P"
      }
    },
    {
      "cell_type": "markdown",
      "source": [
        "3. What do the functions os.getcwd() and os.chdir() do?"
      ],
      "metadata": {
        "id": "C48krJu-ly0s"
      }
    },
    {
      "cell_type": "markdown",
      "source": [
        "ANSWER: getcwd() it shows current working directory location\n",
        "\n",
        "chdir() it helps to change the directory"
      ],
      "metadata": {
        "id": "8iwDkJz9l6Kb"
      }
    },
    {
      "cell_type": "markdown",
      "source": [
        "4. What are the . and .. folders?"
      ],
      "metadata": {
        "id": "CitscqMimRij"
      }
    },
    {
      "cell_type": "markdown",
      "source": [
        " a dot folder (\".\") refers to the current folder name and a dot dot folder name (\"..\") refers to the parent folder name of the current folder"
      ],
      "metadata": {
        "id": "KCWpTvodm3Q4"
      }
    },
    {
      "cell_type": "markdown",
      "source": [
        "5. In C:\\bacon\\eggs\\spam.txt, which part is the dir name, and which part is the base name?"
      ],
      "metadata": {
        "id": "L3WbZ9f5nP_3"
      }
    },
    {
      "cell_type": "markdown",
      "source": [
        "ANSWER:c:\\bacon\\eggs is the  dir name\n",
        "\n",
        "spam.txt is base name"
      ],
      "metadata": {
        "id": "69KYQdqXnVRn"
      }
    },
    {
      "cell_type": "markdown",
      "source": [
        "6. What are the three “mode” arguments that can be passed to the open() function?"
      ],
      "metadata": {
        "id": "v0f504g4nk83"
      }
    },
    {
      "cell_type": "markdown",
      "source": [
        "ANSWER:read mode ,write mode,both read and write"
      ],
      "metadata": {
        "id": "JlxZK3jdnmL2"
      }
    },
    {
      "cell_type": "markdown",
      "source": [
        "7. What happens if an existing file is opened in write mode?"
      ],
      "metadata": {
        "id": "bKKOc2XgoLi9"
      }
    },
    {
      "cell_type": "markdown",
      "source": [
        "ANSWER:WE can only write but we cannot read it"
      ],
      "metadata": {
        "id": "c_YXjZ2poNxo"
      }
    },
    {
      "cell_type": "markdown",
      "source": [
        "8. How do you tell the difference between read() and readlines()?"
      ],
      "metadata": {
        "id": "n72claJbopU1"
      }
    },
    {
      "cell_type": "markdown",
      "source": [
        "ANSWER:read(): it reads the entire input at a time \n",
        "\n",
        "\n",
        "it gives output in string format\n",
        "\n",
        "readlines():it reads line by line \n",
        "\n",
        "it gives always returns in list form\n",
        "\n"
      ],
      "metadata": {
        "id": "9RWVLo5Goq_O"
      }
    },
    {
      "cell_type": "markdown",
      "source": [
        "9. What data structure does a shelf value resemble?"
      ],
      "metadata": {
        "id": "7HSd-MgIppE1"
      }
    },
    {
      "cell_type": "markdown",
      "source": [
        "ANSWER: it resembles a dictionary value"
      ],
      "metadata": {
        "id": "t0-GgPFRpqhg"
      }
    },
    {
      "cell_type": "code",
      "source": [],
      "metadata": {
        "id": "50jTjNAZlCdg"
      },
      "execution_count": null,
      "outputs": []
    }
  ]
}