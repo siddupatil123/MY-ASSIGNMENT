{
 "cells": [
  {
   "cell_type": "code",
   "execution_count": null,
   "id": "fe977ba6",
   "metadata": {},
   "outputs": [],
   "source": [
    "Q1. Define the relationship between a class and its instances. Is it a one-to-one or a one-to-many\n",
    "partnership, for example?"
   ]
  },
  {
   "cell_type": "code",
   "execution_count": null,
   "id": "809d75cf",
   "metadata": {},
   "outputs": [],
   "source": [
    "an object is an element (or instance) of a class; objects have the behaviors of their class"
   ]
  },
  {
   "cell_type": "code",
   "execution_count": null,
   "id": "6a7bf8e0",
   "metadata": {},
   "outputs": [],
   "source": [
    "Q2. What kind of data is held only in an instance?"
   ]
  },
  {
   "cell_type": "code",
   "execution_count": null,
   "id": "7cfaad18",
   "metadata": {},
   "outputs": [],
   "source": [
    "variable containig within the class constructor"
   ]
  },
  {
   "cell_type": "code",
   "execution_count": null,
   "id": "56c721d5",
   "metadata": {},
   "outputs": [],
   "source": [
    "Q3. What kind of knowledge is stored in a class?"
   ]
  },
  {
   "cell_type": "code",
   "execution_count": null,
   "id": "66f5bded",
   "metadata": {},
   "outputs": [],
   "source": [
    "implicit knowledge"
   ]
  },
  {
   "cell_type": "code",
   "execution_count": null,
   "id": "7a69df24",
   "metadata": {},
   "outputs": [],
   "source": [
    "Q4. What exactly is a method, and how is it different from a regular function?"
   ]
  },
  {
   "cell_type": "code",
   "execution_count": null,
   "id": "27fc8633",
   "metadata": {},
   "outputs": [],
   "source": [
    "method is an function in a oops it is independent"
   ]
  },
  {
   "cell_type": "code",
   "execution_count": null,
   "id": "879098db",
   "metadata": {},
   "outputs": [],
   "source": [
    "Q5. Is inheritance supported in Python, and if so, what is the syntax?"
   ]
  },
  {
   "cell_type": "code",
   "execution_count": null,
   "id": "151cf2eb",
   "metadata": {},
   "outputs": [],
   "source": [
    "yes subclass name(main class)"
   ]
  },
  {
   "cell_type": "code",
   "execution_count": null,
   "id": "5ef3afa9",
   "metadata": {},
   "outputs": [],
   "source": [
    "Q6. How much encapsulation (making instance or class variables private) does Python support?"
   ]
  },
  {
   "cell_type": "code",
   "execution_count": null,
   "id": "cbbb5ebf",
   "metadata": {},
   "outputs": [],
   "source": [
    "private ,public.protected"
   ]
  },
  {
   "cell_type": "code",
   "execution_count": null,
   "id": "69ecc35c",
   "metadata": {},
   "outputs": [],
   "source": [
    "Q7. How do you distinguish between a class variable and an instance variable?"
   ]
  },
  {
   "cell_type": "code",
   "execution_count": null,
   "id": "14b388e3",
   "metadata": {},
   "outputs": [],
   "source": [
    "class variable defined outside  the calss and instance variable is created when object is created"
   ]
  },
  {
   "cell_type": "code",
   "execution_count": null,
   "id": "40f7ec5c",
   "metadata": {},
   "outputs": [],
   "source": [
    "Q8. When, if ever, can self be included in a class&#39;s method definitions?"
   ]
  },
  {
   "cell_type": "code",
   "execution_count": null,
   "id": "c46dab56",
   "metadata": {},
   "outputs": [],
   "source": [
    "it reprents the instance of the class"
   ]
  },
  {
   "cell_type": "code",
   "execution_count": null,
   "id": "e71db55a",
   "metadata": {},
   "outputs": [],
   "source": [
    "Q9. What is the difference between the _ _add_ _ and the _ _radd_ _ methods?"
   ]
  },
  {
   "cell_type": "code",
   "execution_count": null,
   "id": "2fd53122",
   "metadata": {},
   "outputs": [],
   "source": [
    "no difference both does same operation of addition"
   ]
  },
  {
   "cell_type": "code",
   "execution_count": null,
   "id": "7813296c",
   "metadata": {},
   "outputs": [],
   "source": [
    "Q11. What is the _ _iadd_ _ method called?"
   ]
  },
  {
   "cell_type": "code",
   "execution_count": null,
   "id": "23d99245",
   "metadata": {},
   "outputs": [],
   "source": [
    "it reurns the addition of new value to the operand"
   ]
  },
  {
   "cell_type": "code",
   "execution_count": null,
   "id": "50f5d18b",
   "metadata": {},
   "outputs": [],
   "source": [
    "Q12. Is the _ _init_ _ method inherited by subclasses? What do you do if you need to customize its\n",
    "behavior within a subclass?"
   ]
  },
  {
   "cell_type": "code",
   "execution_count": null,
   "id": "3798fa3b",
   "metadata": {},
   "outputs": [],
   "source": [
    "no then we have to place the pointer inside the sub class"
   ]
  }
 ],
 "metadata": {
  "kernelspec": {
   "display_name": "Python 3 (ipykernel)",
   "language": "python",
   "name": "python3"
  },
  "language_info": {
   "codemirror_mode": {
    "name": "ipython",
    "version": 3
   },
   "file_extension": ".py",
   "mimetype": "text/x-python",
   "name": "python",
   "nbconvert_exporter": "python",
   "pygments_lexer": "ipython3",
   "version": "3.9.12"
  }
 },
 "nbformat": 4,
 "nbformat_minor": 5
}
