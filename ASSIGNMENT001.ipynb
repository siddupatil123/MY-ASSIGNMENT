{
  "nbformat": 4,
  "nbformat_minor": 0,
  "metadata": {
    "colab": {
      "provenance": []
    },
    "kernelspec": {
      "name": "python3",
      "display_name": "Python 3"
    },
    "language_info": {
      "name": "python"
    }
  },
  "cells": [
    {
      "cell_type": "markdown",
      "source": [
        "ANSWER FOR 1\n",
        "\n",
        "1.   *=  expression\n",
        "2.   \"hello\"=value\n",
        "3.    -87.8=value\n",
        "4.     -  =expression\n",
        "5.     /  =expression\n",
        "6.     +    =expression\n",
        "7.     6  = value\n",
        "\n",
        "\n",
        "\n",
        "\n",
        "\n",
        "\n",
        "\n",
        "\n"
      ],
      "metadata": {
        "id": "N_-Y4WkQWVFh"
      }
    },
    {
      "cell_type": "markdown",
      "source": [
        "ANSWER FOR 02\n",
        "\n",
        "variables are the words used to store the data value ,whereas  the string is itself is a data and these are used to fill in any variable name.\n"
      ],
      "metadata": {
        "id": "-o3sb1CvX3X-"
      }
    },
    {
      "cell_type": "markdown",
      "source": [
        "ANSWER FOR 03\n",
        "\n",
        "\n",
        "integer(int):it is a numeric data type.\n",
        "\n",
        "  string(str):it is alphabet type data type\n",
        "\n",
        "float(float):it is also allow decimal values \n",
        "\n",
        "  boolean(bool):either True or False "
      ],
      "metadata": {
        "id": "2ySk9M-HYHB2"
      }
    },
    {
      "cell_type": "markdown",
      "source": [
        "ANSWER FOR 04\n",
        "\n",
        "An expression is a combination of operators and variables\n",
        "\n",
        "an expression is used to interpret the values based on the opertaors used in the expresssion"
      ],
      "metadata": {
        "id": "lEMHF9pWYwhP"
      }
    },
    {
      "cell_type": "markdown",
      "source": [
        "ANSWER FOR 05\n",
        "\n",
        "expression is combination of variables and operators\n",
        "\n",
        "it works on the operators given\n",
        "\n",
        "statement is used to represent the action of the command\n",
        "\n",
        "it gives the output of the expression"
      ],
      "metadata": {
        "id": "gld1EdH9aD6X"
      }
    },
    {
      "cell_type": "markdown",
      "source": [
        "ANSWER FOR 06"
      ],
      "metadata": {
        "id": "CZf5VNYRbq2c"
      }
    },
    {
      "cell_type": "code",
      "source": [
        "bacon=22"
      ],
      "metadata": {
        "id": "XfAVpMqpa5O4"
      },
      "execution_count": 1,
      "outputs": []
    },
    {
      "cell_type": "code",
      "source": [
        "bacon+1"
      ],
      "metadata": {
        "colab": {
          "base_uri": "https://localhost:8080/"
        },
        "id": "8_9KsZ15bFVl",
        "outputId": "8f59c35a-91c2-4d4e-b969-49ab2e7c2b33"
      },
      "execution_count": 2,
      "outputs": [
        {
          "output_type": "execute_result",
          "data": {
            "text/plain": [
              "23"
            ]
          },
          "metadata": {},
          "execution_count": 2
        }
      ]
    },
    {
      "cell_type": "code",
      "source": [
        "bacon"
      ],
      "metadata": {
        "colab": {
          "base_uri": "https://localhost:8080/"
        },
        "id": "QjTVZKrNbU2s",
        "outputId": "94c3604e-fae6-4fb1-a38b-3342067401b0"
      },
      "execution_count": 3,
      "outputs": [
        {
          "output_type": "execute_result",
          "data": {
            "text/plain": [
              "22"
            ]
          },
          "metadata": {},
          "execution_count": 3
        }
      ]
    },
    {
      "cell_type": "markdown",
      "source": [
        "bacon contain 22 because we did not assign the bacon+1 hence it displays 22 only"
      ],
      "metadata": {
        "id": "oYApWHoMbbXm"
      }
    },
    {
      "cell_type": "markdown",
      "source": [
        "ANSWER FOR 07"
      ],
      "metadata": {
        "id": "E8LfdSuqcIAU"
      }
    },
    {
      "cell_type": "code",
      "source": [
        "'spam'+'spamspam'"
      ],
      "metadata": {
        "colab": {
          "base_uri": "https://localhost:8080/",
          "height": 35
        },
        "id": "ZTIHt88tbpG7",
        "outputId": "0e1f2f0e-0576-49be-a24b-4e36373bdaa2"
      },
      "execution_count": 4,
      "outputs": [
        {
          "output_type": "execute_result",
          "data": {
            "text/plain": [
              "'spamspamspam'"
            ],
            "application/vnd.google.colaboratory.intrinsic+json": {
              "type": "string"
            }
          },
          "metadata": {},
          "execution_count": 4
        }
      ]
    },
    {
      "cell_type": "code",
      "source": [
        "'spam'*3"
      ],
      "metadata": {
        "colab": {
          "base_uri": "https://localhost:8080/",
          "height": 35
        },
        "id": "N-5F3Ks8b8vN",
        "outputId": "4d450463-6880-4490-ab32-cb736c913e7b"
      },
      "execution_count": 5,
      "outputs": [
        {
          "output_type": "execute_result",
          "data": {
            "text/plain": [
              "'spamspamspam'"
            ],
            "application/vnd.google.colaboratory.intrinsic+json": {
              "type": "string"
            }
          },
          "metadata": {},
          "execution_count": 5
        }
      ]
    },
    {
      "cell_type": "markdown",
      "source": [
        "In 1st case concatination takes palce and 2nd it just duplicate for 3 times"
      ],
      "metadata": {
        "id": "jLvLv8uHcLdI"
      }
    },
    {
      "cell_type": "markdown",
      "source": [
        "ANSWER FOR 08\n",
        "\n",
        "because a variable name does not start with the number but it contain the number"
      ],
      "metadata": {
        "id": "Fz4cekT8chSY"
      }
    },
    {
      "cell_type": "markdown",
      "source": [
        "ANSWER FOR 09\n",
        "\n",
        "for integer =int()\n",
        "\n",
        "for float=float()\n",
        "\n",
        "for string=str()"
      ],
      "metadata": {
        "id": "7isElRhLdMrM"
      }
    },
    {
      "cell_type": "markdown",
      "source": [
        "ANSWER FOR 10"
      ],
      "metadata": {
        "id": "5WNnhRLpeJZy"
      }
    },
    {
      "cell_type": "code",
      "source": [
        "'i have eaten'+99+'burritos'"
      ],
      "metadata": {
        "colab": {
          "base_uri": "https://localhost:8080/",
          "height": 165
        },
        "id": "WGVvc6DYdb9X",
        "outputId": "2a9547aa-9222-4c2f-a33b-b9b79cf40ac7"
      },
      "execution_count": 6,
      "outputs": [
        {
          "output_type": "error",
          "ename": "TypeError",
          "evalue": "ignored",
          "traceback": [
            "\u001b[0;31m---------------------------------------------------------------------------\u001b[0m",
            "\u001b[0;31mTypeError\u001b[0m                                 Traceback (most recent call last)",
            "\u001b[0;32m<ipython-input-6-787a23c01f4d>\u001b[0m in \u001b[0;36m<module>\u001b[0;34m\u001b[0m\n\u001b[0;32m----> 1\u001b[0;31m \u001b[0;34m'i have eaten'\u001b[0m\u001b[0;34m+\u001b[0m\u001b[0;36m99\u001b[0m\u001b[0;34m+\u001b[0m\u001b[0;34m'burritos'\u001b[0m\u001b[0;34m\u001b[0m\u001b[0;34m\u001b[0m\u001b[0m\n\u001b[0m",
            "\u001b[0;31mTypeError\u001b[0m: can only concatenate str (not \"int\") to str"
          ]
        }
      ]
    },
    {
      "cell_type": "markdown",
      "source": [
        "it shows error because we can concatinate only same data types we cannnot concatinate different datatype"
      ],
      "metadata": {
        "id": "8HNNzK0fdr9h"
      }
    },
    {
      "cell_type": "code",
      "source": [
        "'i have eaten'+'99'+'burritos'"
      ],
      "metadata": {
        "colab": {
          "base_uri": "https://localhost:8080/",
          "height": 35
        },
        "id": "Xu0Wdzdbdpun",
        "outputId": "4fe9745e-57c6-4441-f41d-8ec2bc82e754"
      },
      "execution_count": 7,
      "outputs": [
        {
          "output_type": "execute_result",
          "data": {
            "text/plain": [
              "'i have eaten99burritos'"
            ],
            "application/vnd.google.colaboratory.intrinsic+json": {
              "type": "string"
            }
          },
          "metadata": {},
          "execution_count": 7
        }
      ]
    },
    {
      "cell_type": "code",
      "source": [],
      "metadata": {
        "id": "6XwCxxgNeF5l"
      },
      "execution_count": null,
      "outputs": []
    }
  ]
}