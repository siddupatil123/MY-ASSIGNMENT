{
 "cells": [
  {
   "cell_type": "code",
   "execution_count": null,
   "id": "a5978087",
   "metadata": {},
   "outputs": [],
   "source": [
    "Q1. Describe three applications for exception processing."
   ]
  },
  {
   "cell_type": "code",
   "execution_count": null,
   "id": "f87e106d",
   "metadata": {},
   "outputs": [],
   "source": [
    "try block that encloses the code which throws an exception\n",
    "catch block it handle the exception \n",
    "finally which executes after the try block executed successfully"
   ]
  },
  {
   "cell_type": "code",
   "execution_count": null,
   "id": "3dd2f2dd",
   "metadata": {},
   "outputs": [],
   "source": [
    "Q2. What happens if you don&#39;t do something extra to treat an exception?"
   ]
  },
  {
   "cell_type": "code",
   "execution_count": null,
   "id": "988002a9",
   "metadata": {},
   "outputs": [],
   "source": [
    "the code stops automatically and the output does not execute"
   ]
  },
  {
   "cell_type": "code",
   "execution_count": null,
   "id": "78d4790e",
   "metadata": {},
   "outputs": [],
   "source": [
    "Q3. What are your options for recovering from an exception in your script?"
   ]
  },
  {
   "cell_type": "code",
   "execution_count": null,
   "id": "e6b76ced",
   "metadata": {},
   "outputs": [],
   "source": [
    "provide the code inside excpect class"
   ]
  },
  {
   "cell_type": "code",
   "execution_count": null,
   "id": "fe4759a3",
   "metadata": {},
   "outputs": [],
   "source": [
    "Q4. Describe two methods for triggering exceptions in your script."
   ]
  },
  {
   "cell_type": "code",
   "execution_count": null,
   "id": "c6779b51",
   "metadata": {},
   "outputs": [],
   "source": [
    "try it catches the exception and throws error\n",
    "raise it shows the manually wriiten error"
   ]
  },
  {
   "cell_type": "code",
   "execution_count": null,
   "id": "528d509a",
   "metadata": {},
   "outputs": [],
   "source": [
    "Q5. Identify two methods for specifying actions to be executed at termination time, regardless of\n",
    "whether or not an exception exists."
   ]
  },
  {
   "cell_type": "code",
   "execution_count": null,
   "id": "f830d8b5",
   "metadata": {},
   "outputs": [],
   "source": [
    "by using finally block and exit()method"
   ]
  }
 ],
 "metadata": {
  "kernelspec": {
   "display_name": "Python 3 (ipykernel)",
   "language": "python",
   "name": "python3"
  },
  "language_info": {
   "codemirror_mode": {
    "name": "ipython",
    "version": 3
   },
   "file_extension": ".py",
   "mimetype": "text/x-python",
   "name": "python",
   "nbconvert_exporter": "python",
   "pygments_lexer": "ipython3",
   "version": "3.9.12"
  }
 },
 "nbformat": 4,
 "nbformat_minor": 5
}
