{
  "nbformat": 4,
  "nbformat_minor": 0,
  "metadata": {
    "colab": {
      "provenance": []
    },
    "kernelspec": {
      "name": "python3",
      "display_name": "Python 3"
    },
    "language_info": {
      "name": "python"
    }
  },
  "cells": [
    {
      "cell_type": "markdown",
      "source": [
        "1. Create a list called years_list, starting with the year of your birth, and each year thereafter until\n",
        "the year of your fifth birthday. For example, if you were born in 1980. the list would be years_list =\n",
        "[1980, 1981, 1982, 1983, 1984, 1985]."
      ],
      "metadata": {
        "id": "-Y4dyIvqvsZ1"
      }
    },
    {
      "cell_type": "code",
      "execution_count": 1,
      "metadata": {
        "id": "vMmXqspUvZO6"
      },
      "outputs": [],
      "source": [
        "years_list=[1999,2000,2001,2002,2003,2004]"
      ]
    },
    {
      "cell_type": "markdown",
      "source": [
        "2. In which year in years_list was your third birthday? Remember, you were 0 years of age for your\n",
        "first year."
      ],
      "metadata": {
        "id": "JHdgJjcDwMh1"
      }
    },
    {
      "cell_type": "code",
      "source": [
        "my_third_birthday =years_list[3]\n",
        "print(my_third_birthday)"
      ],
      "metadata": {
        "colab": {
          "base_uri": "https://localhost:8080/"
        },
        "id": "rvEnSlokwFYI",
        "outputId": "aadec80b-4dab-4654-d95e-97b5e93eb391"
      },
      "execution_count": 2,
      "outputs": [
        {
          "output_type": "stream",
          "name": "stdout",
          "text": [
            "2002\n"
          ]
        }
      ]
    },
    {
      "cell_type": "markdown",
      "source": [
        "3.In the years list, which year were you the oldest?"
      ],
      "metadata": {
        "id": "VaFx-QOPw1Dt"
      }
    },
    {
      "cell_type": "code",
      "source": [
        "oldest=years_list[5]\n",
        "print(oldest)"
      ],
      "metadata": {
        "colab": {
          "base_uri": "https://localhost:8080/"
        },
        "id": "YPmJRCdowZIg",
        "outputId": "06d3d7a4-6d9a-4817-c35e-067ec2b6ae73"
      },
      "execution_count": 3,
      "outputs": [
        {
          "output_type": "stream",
          "name": "stdout",
          "text": [
            "2004\n"
          ]
        }
      ]
    },
    {
      "cell_type": "markdown",
      "source": [
        "4. Make a list called things with these three strings as elements: &quot;mozzarella&quot;, &quot;cinderella&quot;,\n",
        "&quot;salmonella&quot;."
      ],
      "metadata": {
        "id": "At5UOy9Ew61z"
      }
    },
    {
      "cell_type": "code",
      "source": [
        "things=[\"mozzarella\",\"cindrella\",\"salmonella\"]"
      ],
      "metadata": {
        "id": "bV9VQC_xwv7_"
      },
      "execution_count": 4,
      "outputs": []
    },
    {
      "cell_type": "markdown",
      "source": [
        "5. Capitalize the element in things that refers to a person and then print the list. Did it change the\n",
        "element in the list? "
      ],
      "metadata": {
        "id": "GDcdFPivxUL4"
      }
    },
    {
      "cell_type": "code",
      "source": [
        "things[1].capitalize()"
      ],
      "metadata": {
        "colab": {
          "base_uri": "https://localhost:8080/",
          "height": 36
        },
        "id": "HjlwpxU1xR2a",
        "outputId": "f2040158-c673-4912-ef76-fcbae054a31a"
      },
      "execution_count": 7,
      "outputs": [
        {
          "output_type": "execute_result",
          "data": {
            "text/plain": [
              "'Cindrella'"
            ],
            "application/vnd.google.colaboratory.intrinsic+json": {
              "type": "string"
            }
          },
          "metadata": {},
          "execution_count": 7
        }
      ]
    },
    {
      "cell_type": "code",
      "source": [
        "print(things)"
      ],
      "metadata": {
        "colab": {
          "base_uri": "https://localhost:8080/"
        },
        "id": "dvFYFdI60xPW",
        "outputId": "4c1a3e25-329f-4d23-e35d-e4fff3a29c41"
      },
      "execution_count": 8,
      "outputs": [
        {
          "output_type": "stream",
          "name": "stdout",
          "text": [
            "['mozzarella', 'cindrella', 'salmonella']\n"
          ]
        }
      ]
    },
    {
      "cell_type": "markdown",
      "source": [
        "6. Make a surprise list with the elements &quot;Groucho,&quot; &quot;Chico,&quot; and &quot;Harpo.&quot;"
      ],
      "metadata": {
        "id": "YUwFq4Joy338"
      }
    },
    {
      "cell_type": "code",
      "source": [
        "k=[\"Groucho\",\"Chico\",\"Harpo\"]"
      ],
      "metadata": {
        "id": "aM1ak39Nxffx"
      },
      "execution_count": null,
      "outputs": []
    },
    {
      "cell_type": "markdown",
      "source": [
        "7. Lowercase the last element of the surprise list, reverse it, and then capitalize it."
      ],
      "metadata": {
        "id": "80Ady7Ep06XI"
      }
    },
    {
      "cell_type": "code",
      "source": [
        "k[2].lower()"
      ],
      "metadata": {
        "colab": {
          "base_uri": "https://localhost:8080/",
          "height": 35
        },
        "id": "_XNc7rH_zgaF",
        "outputId": "7c88d972-d0db-48db-9835-3c2791deb856"
      },
      "execution_count": null,
      "outputs": [
        {
          "output_type": "execute_result",
          "data": {
            "text/plain": [
              "'harpo'"
            ],
            "application/vnd.google.colaboratory.intrinsic+json": {
              "type": "string"
            }
          },
          "metadata": {},
          "execution_count": 21
        }
      ]
    },
    {
      "cell_type": "code",
      "source": [
        "k[2][::-1]"
      ],
      "metadata": {
        "colab": {
          "base_uri": "https://localhost:8080/",
          "height": 35
        },
        "id": "Je6R9l46z77W",
        "outputId": "77447b77-cdda-4790-9530-d6d486db93f2"
      },
      "execution_count": null,
      "outputs": [
        {
          "output_type": "execute_result",
          "data": {
            "text/plain": [
              "'opraH'"
            ],
            "application/vnd.google.colaboratory.intrinsic+json": {
              "type": "string"
            }
          },
          "metadata": {},
          "execution_count": 24
        }
      ]
    },
    {
      "cell_type": "code",
      "source": [
        "k[2].capitalize()"
      ],
      "metadata": {
        "colab": {
          "base_uri": "https://localhost:8080/",
          "height": 35
        },
        "id": "39XkWFJL0FAv",
        "outputId": "74941a3c-b3b6-4470-83b9-6f49216e1bee"
      },
      "execution_count": null,
      "outputs": [
        {
          "output_type": "execute_result",
          "data": {
            "text/plain": [
              "'Harpo'"
            ],
            "application/vnd.google.colaboratory.intrinsic+json": {
              "type": "string"
            }
          },
          "metadata": {},
          "execution_count": 26
        }
      ]
    },
    {
      "cell_type": "markdown",
      "source": [
        "8. Make an English-to-French dictionary called e2f and print it. Here are your starter words: dog is\n",
        "chien, cat is chat, and walrus is morse."
      ],
      "metadata": {
        "id": "YXwRDt7LzejY"
      }
    },
    {
      "cell_type": "code",
      "source": [
        "e2f={\"dog\":\"chien\",\"cat\":\"chat\",\"walrus\":\"morse\"}\n",
        "print(e2f)"
      ],
      "metadata": {
        "colab": {
          "base_uri": "https://localhost:8080/"
        },
        "id": "KuJ1hy4VzgUY",
        "outputId": "f8cade6a-c2e4-4449-8f59-76047a32a730"
      },
      "execution_count": 23,
      "outputs": [
        {
          "output_type": "stream",
          "name": "stdout",
          "text": [
            "{'dog': 'chien', 'cat': 'chat', 'walrus': 'morse'}\n"
          ]
        }
      ]
    },
    {
      "cell_type": "markdown",
      "source": [
        "9. Write the French word for walrus in your three-word dictionary e2f."
      ],
      "metadata": {
        "id": "Wi85WwoS1i5v"
      }
    },
    {
      "cell_type": "code",
      "source": [
        "e2f[\"walrus\"]"
      ],
      "metadata": {
        "colab": {
          "base_uri": "https://localhost:8080/",
          "height": 36
        },
        "id": "09IqJWTF1mC2",
        "outputId": "c9c03daf-925f-4b27-db89-f6a8558593c1"
      },
      "execution_count": 28,
      "outputs": [
        {
          "output_type": "execute_result",
          "data": {
            "text/plain": [
              "'morse'"
            ],
            "application/vnd.google.colaboratory.intrinsic+json": {
              "type": "string"
            }
          },
          "metadata": {},
          "execution_count": 28
        }
      ]
    },
    {
      "cell_type": "markdown",
      "source": [
        "10. Make a French-to-English dictionary called f2e from e2f. Use the items method."
      ],
      "metadata": {
        "id": "up5h8Vbq0iiJ"
      }
    },
    {
      "cell_type": "code",
      "source": [
        "f2e={}\n",
        "for key in e2f:\n",
        "  value=e2f[key]\n",
        "  f2e[value]=key\n",
        "  print(f2e)"
      ],
      "metadata": {
        "colab": {
          "base_uri": "https://localhost:8080/"
        },
        "id": "EMTNq3NG2PPD",
        "outputId": "d34aae03-0bca-47f7-8881-016849f02e8d"
      },
      "execution_count": 31,
      "outputs": [
        {
          "output_type": "stream",
          "name": "stdout",
          "text": [
            "{'chien': 'dog'}\n",
            "{'chien': 'dog', 'chat': 'cat'}\n",
            "{'chien': 'dog', 'chat': 'cat', 'morse': 'walrus'}\n"
          ]
        }
      ]
    },
    {
      "cell_type": "code",
      "source": [
        "f2e"
      ],
      "metadata": {
        "colab": {
          "base_uri": "https://localhost:8080/"
        },
        "id": "LxPEerpd3JXC",
        "outputId": "4373f47b-4c94-418b-b456-83651690c47c"
      },
      "execution_count": 32,
      "outputs": [
        {
          "output_type": "execute_result",
          "data": {
            "text/plain": [
              "{'chien': 'dog', 'chat': 'cat', 'morse': 'walrus'}"
            ]
          },
          "metadata": {},
          "execution_count": 32
        }
      ]
    },
    {
      "cell_type": "markdown",
      "source": [
        "11. Print the English version of the French word chien using f2e."
      ],
      "metadata": {
        "id": "rtbMhYG93WjD"
      }
    },
    {
      "cell_type": "code",
      "source": [
        "f2e[\"chien\"]"
      ],
      "metadata": {
        "colab": {
          "base_uri": "https://localhost:8080/",
          "height": 36
        },
        "id": "vKwK2QN93X-P",
        "outputId": "f230b890-c241-4a75-8882-eed7b0930cdd"
      },
      "execution_count": 33,
      "outputs": [
        {
          "output_type": "execute_result",
          "data": {
            "text/plain": [
              "'dog'"
            ],
            "application/vnd.google.colaboratory.intrinsic+json": {
              "type": "string"
            }
          },
          "metadata": {},
          "execution_count": 33
        }
      ]
    },
    {
      "cell_type": "markdown",
      "source": [
        "12. Make and print a set of English words from the keys in e2f."
      ],
      "metadata": {
        "id": "FIPBMY1I3gRq"
      }
    },
    {
      "cell_type": "code",
      "source": [
        "list(e2f.keys())"
      ],
      "metadata": {
        "colab": {
          "base_uri": "https://localhost:8080/"
        },
        "id": "xyzJLOsk3hSB",
        "outputId": "7fc59ecb-2a27-4782-dce9-f1fec2f09a45"
      },
      "execution_count": 34,
      "outputs": [
        {
          "output_type": "execute_result",
          "data": {
            "text/plain": [
              "['dog', 'cat', 'walrus']"
            ]
          },
          "metadata": {},
          "execution_count": 34
        }
      ]
    },
    {
      "cell_type": "markdown",
      "source": [
        "13. Make a multilevel dictionary called life. Use these strings for the topmost keys: &#39;animals&#39;, &#39;plants&#39;,\n",
        "and &#39;other&#39;. Make the &#39;animals&#39; key refer to another dictionary with the keys &#39;cats&#39;, &#39;octopi&#39;, and\n",
        "&#39;emus&#39;. Make the &#39;cats&#39; key refer to a list of strings with the values &#39;Henri&#39;, &#39;Grumpy&#39;, and &#39;Lucy&#39;.\n",
        "Make all the other keys refer to empty dictionaries."
      ],
      "metadata": {
        "id": "li_AtXE30chH"
      }
    },
    {
      "cell_type": "code",
      "source": [
        "life={'animals':{'cats':[\"Henri\",\"Grumpy\",\"Lucy\"] , \"octopi\":\" \" , \"emus\":\" \"} ,'plants':\"  \",'other':\"  \"}"
      ],
      "metadata": {
        "id": "Zrn-uURF0eVm"
      },
      "execution_count": 9,
      "outputs": []
    },
    {
      "cell_type": "markdown",
      "source": [
        "14. Print the top-level keys of life."
      ],
      "metadata": {
        "id": "V6I7_D7Lximo"
      }
    },
    {
      "cell_type": "code",
      "source": [
        "list(life.keys())"
      ],
      "metadata": {
        "colab": {
          "base_uri": "https://localhost:8080/"
        },
        "id": "ea9gk_qC1FV8",
        "outputId": "82af2c0b-9cd1-4a36-ae02-66a325c1613b"
      },
      "execution_count": 10,
      "outputs": [
        {
          "output_type": "execute_result",
          "data": {
            "text/plain": [
              "['animals', 'plants', 'other']"
            ]
          },
          "metadata": {},
          "execution_count": 10
        }
      ]
    },
    {
      "cell_type": "code",
      "source": [
        "life['animals'].keys()"
      ],
      "metadata": {
        "colab": {
          "base_uri": "https://localhost:8080/"
        },
        "id": "DLCCNOhK2Rnf",
        "outputId": "9b3f1657-ec5d-429d-914c-cf067d95e8bb"
      },
      "execution_count": null,
      "outputs": [
        {
          "output_type": "execute_result",
          "data": {
            "text/plain": [
              "dict_keys(['cats'])"
            ]
          },
          "metadata": {},
          "execution_count": 13
        }
      ]
    },
    {
      "cell_type": "markdown",
      "source": [
        "15. Print the keys for life[&#39;animals&#39;]."
      ],
      "metadata": {
        "id": "Xghuz9fexwm0"
      }
    },
    {
      "cell_type": "code",
      "source": [
        "list(life[\"animals\"].keys())"
      ],
      "metadata": {
        "id": "qhe4eI1n4TL1",
        "colab": {
          "base_uri": "https://localhost:8080/"
        },
        "outputId": "7a95beb2-dd30-4275-a3ab-155c7c1c893b"
      },
      "execution_count": 11,
      "outputs": [
        {
          "output_type": "execute_result",
          "data": {
            "text/plain": [
              "['cats', 'octopi', 'emus']"
            ]
          },
          "metadata": {},
          "execution_count": 11
        }
      ]
    },
    {
      "cell_type": "markdown",
      "source": [
        "16. Print the values for life[&#39;animals&#39;][&#39;cats&#39;]"
      ],
      "metadata": {
        "id": "0-unQPYiyDtJ"
      }
    },
    {
      "cell_type": "code",
      "source": [
        "list(life['animals'].values())"
      ],
      "metadata": {
        "colab": {
          "base_uri": "https://localhost:8080/"
        },
        "id": "x-G3vL-DyNbt",
        "outputId": "3cbc126b-b531-4783-9e51-449172de0ea9"
      },
      "execution_count": 35,
      "outputs": [
        {
          "output_type": "execute_result",
          "data": {
            "text/plain": [
              "[['Henri', 'Grumpy', 'Lucy'], ' ', ' ']"
            ]
          },
          "metadata": {},
          "execution_count": 35
        }
      ]
    },
    {
      "cell_type": "code",
      "source": [],
      "metadata": {
        "id": "qOJKEpUzy_oL"
      },
      "execution_count": null,
      "outputs": []
    }
  ]
}