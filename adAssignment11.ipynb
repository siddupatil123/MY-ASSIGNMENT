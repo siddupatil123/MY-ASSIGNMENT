{
 "cells": [
  {
   "cell_type": "code",
   "execution_count": null,
   "id": "db7ca34e",
   "metadata": {},
   "outputs": [],
   "source": [
    "Q1. What is the concept of a metaclass?"
   ]
  },
  {
   "cell_type": "code",
   "execution_count": null,
   "id": "bbe874a2",
   "metadata": {},
   "outputs": [],
   "source": [
    "metaclass is a class whose instances are classes\n",
    "it defines the certain behaviour of classes and instances"
   ]
  },
  {
   "cell_type": "code",
   "execution_count": null,
   "id": "5d1b84cc",
   "metadata": {},
   "outputs": [],
   "source": [
    "Q2. What is the best way to declare a class&#39;s metaclass?"
   ]
  },
  {
   "cell_type": "code",
   "execution_count": null,
   "id": "c155ea0d",
   "metadata": {},
   "outputs": [],
   "source": [
    "When defining a class and no metaclass is defined the default type metaclass will be used"
   ]
  },
  {
   "cell_type": "code",
   "execution_count": null,
   "id": "e674b61a",
   "metadata": {},
   "outputs": [],
   "source": [
    "Q3. How do class decorators overlap with metaclasses for handling classes?"
   ]
  },
  {
   "cell_type": "code",
   "execution_count": null,
   "id": "8d2515c8",
   "metadata": {},
   "outputs": [],
   "source": [
    " Decorators can be used to manage both instances and classes, and they intersect with metaclasses "
   ]
  }
 ],
 "metadata": {
  "kernelspec": {
   "display_name": "Python 3 (ipykernel)",
   "language": "python",
   "name": "python3"
  },
  "language_info": {
   "codemirror_mode": {
    "name": "ipython",
    "version": 3
   },
   "file_extension": ".py",
   "mimetype": "text/x-python",
   "name": "python",
   "nbconvert_exporter": "python",
   "pygments_lexer": "ipython3",
   "version": "3.9.12"
  }
 },
 "nbformat": 4,
 "nbformat_minor": 5
}
