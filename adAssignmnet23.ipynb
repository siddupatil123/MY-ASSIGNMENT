{
 "cells": [
  {
   "cell_type": "code",
   "execution_count": null,
   "id": "98a87fdd",
   "metadata": {},
   "outputs": [],
   "source": [
    "Q1. If you have any, what are your choices for increasing the comparison between different figures on\n",
    "the same graph?"
   ]
  },
  {
   "cell_type": "code",
   "execution_count": null,
   "id": "59d92237",
   "metadata": {},
   "outputs": [],
   "source": [
    "by using bargraph chart we can do the comarison "
   ]
  },
  {
   "cell_type": "code",
   "execution_count": null,
   "id": "0b0bd3a6",
   "metadata": {},
   "outputs": [],
   "source": [
    "Q2. Can you explain the benefit of compound interest over a higher rate of interest that does not\n",
    "compound after reading this chapter?"
   ]
  },
  {
   "cell_type": "code",
   "execution_count": null,
   "id": "4c08c284",
   "metadata": {},
   "outputs": [],
   "source": [
    "compound intrest makes the money grow faster"
   ]
  },
  {
   "cell_type": "code",
   "execution_count": null,
   "id": "3ca0c92b",
   "metadata": {},
   "outputs": [],
   "source": [
    "Q3. What is a histogram, exactly? Name a numpy method for creating such a graph."
   ]
  },
  {
   "cell_type": "code",
   "execution_count": null,
   "id": "6da4e619",
   "metadata": {},
   "outputs": [],
   "source": [
    "the best way to visualize the frequency distribution of a dataset by splitting it into small equal-sized intervals \n",
    "by using np.histogram()"
   ]
  },
  {
   "cell_type": "code",
   "execution_count": null,
   "id": "60d0ba2e",
   "metadata": {},
   "outputs": [],
   "source": [
    "Q4. If necessary, how do you change the aspect ratios between the X and Y axes?"
   ]
  },
  {
   "cell_type": "code",
   "execution_count": null,
   "id": "c5634d29",
   "metadata": {},
   "outputs": [],
   "source": [
    " using the pbaspect function."
   ]
  },
  {
   "cell_type": "code",
   "execution_count": null,
   "id": "536da282",
   "metadata": {},
   "outputs": [],
   "source": [
    "Q5. Compare and contrast the three types of array multiplication between two numpy arrays: dot\n",
    "product, outer product, and regular multiplication of two numpy arrays."
   ]
  },
  {
   "cell_type": "code",
   "execution_count": null,
   "id": "e8080ab5",
   "metadata": {},
   "outputs": [],
   "source": [
    "dot product helps the multiplication two same sized arrays\n",
    "outer product multiply the outer product of two matrices\n",
    "regular it gives output element wise"
   ]
  },
  {
   "cell_type": "code",
   "execution_count": null,
   "id": "52bb9da0",
   "metadata": {},
   "outputs": [],
   "source": [
    "Q6. Before you buy a home, which numpy function will you use to measure your monthly mortgage\n",
    "payment?"
   ]
  },
  {
   "cell_type": "code",
   "execution_count": null,
   "id": "b6558f9e",
   "metadata": {},
   "outputs": [],
   "source": [
    "np.pmt()"
   ]
  },
  {
   "cell_type": "code",
   "execution_count": null,
   "id": "6c36f081",
   "metadata": {},
   "outputs": [],
   "source": [
    "Q7. Can string data be stored in numpy arrays? If so, list at least one restriction that applies to this\n",
    "data."
   ]
  },
  {
   "cell_type": "code",
   "execution_count": null,
   "id": "14fe8f2e",
   "metadata": {},
   "outputs": [],
   "source": [
    "yes string can be stored in numpy arrays\n",
    "it should not have more than maximum lenth during creation"
   ]
  },
  {
   "cell_type": "code",
   "execution_count": null,
   "id": "8365ac32",
   "metadata": {},
   "outputs": [],
   "source": []
  }
 ],
 "metadata": {
  "kernelspec": {
   "display_name": "Python 3 (ipykernel)",
   "language": "python",
   "name": "python3"
  },
  "language_info": {
   "codemirror_mode": {
    "name": "ipython",
    "version": 3
   },
   "file_extension": ".py",
   "mimetype": "text/x-python",
   "name": "python",
   "nbconvert_exporter": "python",
   "pygments_lexer": "ipython3",
   "version": "3.9.12"
  }
 },
 "nbformat": 4,
 "nbformat_minor": 5
}
