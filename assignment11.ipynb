{
 "cells": [
  {
   "cell_type": "code",
   "execution_count": null,
   "id": "963548ac",
   "metadata": {},
   "outputs": [],
   "source": [
    "1. Create an assert statement that throws an AssertionError if the variable spam is a negative\n",
    "integer."
   ]
  },
  {
   "cell_type": "code",
   "execution_count": 5,
   "id": "2d6e1f49",
   "metadata": {},
   "outputs": [
    {
     "name": "stdout",
     "output_type": "stream",
     "text": [
      "enter the value: -5\n"
     ]
    }
   ],
   "source": [
    "a=int(input(\"enter the value: \"))\n",
    "assert a<0,'your input is negative!'"
   ]
  },
  {
   "cell_type": "code",
   "execution_count": null,
   "id": "a5e0a2d1",
   "metadata": {},
   "outputs": [],
   "source": [
    "2. Write an assert statement that triggers an AssertionError if the variables eggs and bacon contain\n",
    "strings that are the same as each other, even if their cases are different (that is, &#39;hello&#39; and &#39;hello&#39; are\n",
    "considered the same, and &#39;goodbye&#39; and &#39;GOODbye&#39; are also considered the same)."
   ]
  },
  {
   "cell_type": "code",
   "execution_count": 6,
   "id": "4bea10c5",
   "metadata": {},
   "outputs": [],
   "source": [
    "eggs='hello'\n",
    "bacon='good bye'\n",
    "assert eggs.lower()!=bacon.lower(),\"eggs and bacon are not the same\""
   ]
  },
  {
   "cell_type": "code",
   "execution_count": null,
   "id": "abe0ab2b",
   "metadata": {},
   "outputs": [],
   "source": [
    "3. Create an assert statement that throws an AssertionError every time."
   ]
  },
  {
   "cell_type": "code",
   "execution_count": 7,
   "id": "8134fb64",
   "metadata": {},
   "outputs": [],
   "source": [
    "assert True,'always triggers assertion'"
   ]
  },
  {
   "cell_type": "code",
   "execution_count": null,
   "id": "20ac73e9",
   "metadata": {},
   "outputs": [],
   "source": [
    "4. What are the two lines that must be present in your software in order to call logging.debug()?"
   ]
  },
  {
   "cell_type": "code",
   "execution_count": null,
   "id": "78c9912c",
   "metadata": {},
   "outputs": [],
   "source": [
    "logging.debug(\"message\")"
   ]
  },
  {
   "cell_type": "code",
   "execution_count": null,
   "id": "e326620f",
   "metadata": {},
   "outputs": [],
   "source": [
    "5. What are the two lines that your program must have in order to have logging.debug() send a\n",
    "logging message to a file named programLog.txt?"
   ]
  },
  {
   "cell_type": "code",
   "execution_count": null,
   "id": "2efe3c9b",
   "metadata": {},
   "outputs": [],
   "source": [
    "import logging\n",
    "logging.basicConfigb(filename=\"programLog.txt\",level=logging.debug,format=%(asctime)s-%(levelname)s-%(message))"
   ]
  },
  {
   "cell_type": "code",
   "execution_count": null,
   "id": "c22d113b",
   "metadata": {},
   "outputs": [],
   "source": [
    "6. What are the five levels of logging?"
   ]
  },
  {
   "cell_type": "code",
   "execution_count": null,
   "id": "855f1518",
   "metadata": {},
   "outputs": [],
   "source": [
    "logging.info()\n",
    "logging.debug()\n",
    "logging.error()\n",
    "logging.warning()\n",
    "logging.critical()"
   ]
  },
  {
   "cell_type": "code",
   "execution_count": null,
   "id": "12a1652e",
   "metadata": {},
   "outputs": [],
   "source": [
    "7. What line of code would you add to your software to disable all logging messages?"
   ]
  },
  {
   "cell_type": "code",
   "execution_count": null,
   "id": "8ec14f30",
   "metadata": {},
   "outputs": [],
   "source": [
    "logging.disable(logging.debug)"
   ]
  },
  {
   "cell_type": "code",
   "execution_count": null,
   "id": "fb955bd6",
   "metadata": {},
   "outputs": [],
   "source": [
    "8.Why is using logging messages better than using print() to display the same message?"
   ]
  },
  {
   "cell_type": "code",
   "execution_count": null,
   "id": "4b1d3325",
   "metadata": {},
   "outputs": [],
   "source": [
    "because in logging we better ability to check based on our needs"
   ]
  },
  {
   "cell_type": "code",
   "execution_count": null,
   "id": "0cbe9db0",
   "metadata": {},
   "outputs": [],
   "source": [
    "9. What are the differences between the Step Over, Step In, and Step Out buttons in the debugger?"
   ]
  },
  {
   "cell_type": "code",
   "execution_count": null,
   "id": "0a336a7e",
   "metadata": {},
   "outputs": [],
   "source": [
    "Step Out continues running code and suspends execution when the current function returns\n",
    " Step Over - If the current line contains a function call, Step Overruns the code, then suspends execution at the first line of code after the called function returns\n",
    "stepin-runs through all code in your project including imported librarie"
   ]
  },
  {
   "cell_type": "code",
   "execution_count": null,
   "id": "8d5890b3",
   "metadata": {},
   "outputs": [],
   "source": [
    "10.After you click Continue, when will the debugger stop ?"
   ]
  },
  {
   "cell_type": "code",
   "execution_count": null,
   "id": "3ddad511",
   "metadata": {},
   "outputs": [],
   "source": [
    "resumes the program execution until your program completes normally"
   ]
  },
  {
   "cell_type": "code",
   "execution_count": null,
   "id": "46632b93",
   "metadata": {},
   "outputs": [],
   "source": [
    "11. What is the concept of a breakpoint?"
   ]
  },
  {
   "cell_type": "code",
   "execution_count": null,
   "id": "93573649",
   "metadata": {},
   "outputs": [],
   "source": [
    "brak point it syops there and wait for the next command"
   ]
  }
 ],
 "metadata": {
  "kernelspec": {
   "display_name": "Python 3 (ipykernel)",
   "language": "python",
   "name": "python3"
  },
  "language_info": {
   "codemirror_mode": {
    "name": "ipython",
    "version": 3
   },
   "file_extension": ".py",
   "mimetype": "text/x-python",
   "name": "python",
   "nbconvert_exporter": "python",
   "pygments_lexer": "ipython3",
   "version": "3.9.12"
  }
 },
 "nbformat": 4,
 "nbformat_minor": 5
}
