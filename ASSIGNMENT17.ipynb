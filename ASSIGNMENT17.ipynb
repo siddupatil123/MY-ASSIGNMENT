{
  "nbformat": 4,
  "nbformat_minor": 0,
  "metadata": {
    "colab": {
      "provenance": []
    },
    "kernelspec": {
      "name": "python3",
      "display_name": "Python 3"
    },
    "language_info": {
      "name": "python"
    }
  },
  "cells": [
    {
      "cell_type": "markdown",
      "source": [
        "1. Assign the value 7 to the variable guess_me. Then, write the conditional tests (if, else, and elif) to\n",
        "print the string &#39;too low&#39; if guess_me is less than 7, &#39;too high&#39; if greater than 7, and &#39;just right&#39; if equal\n",
        "to 7.\n",
        "\n"
      ],
      "metadata": {
        "id": "ssRZ_8YriImY"
      }
    },
    {
      "cell_type": "code",
      "execution_count": 1,
      "metadata": {
        "colab": {
          "base_uri": "https://localhost:8080/"
        },
        "id": "k1-G9ztMh_fd",
        "outputId": "82e1363c-2281-4808-9baf-af1a258dbf94"
      },
      "outputs": [
        {
          "output_type": "stream",
          "name": "stdout",
          "text": [
            "just right\n"
          ]
        }
      ],
      "source": [
        "guess_me=7\n",
        "if guess_me<7:\n",
        "  print(\"too low\")\n",
        "elif guess_me>7:\n",
        "  print(\"too high\")\n",
        "elif guess_me==7:\n",
        "  print(\"just right\")\n",
        "else:\n",
        "  print(\"enter the correct value\")"
      ]
    },
    {
      "cell_type": "markdown",
      "source": [
        "2. Assign the value 7 to the variable guess_me and the value 1 to the variable start. Write a while\n",
        "loop that compares start with guess_me. Print too low if start is less than guess me. If start equals\n",
        "guess_me, print &#39;found it!&#39; and exit the loop. If start is greater than guess_me, print &#39;oops&#39; and exit\n",
        "the loop. Increment start at the end of the loop."
      ],
      "metadata": {
        "id": "XSd-HqL4jE_b"
      }
    },
    {
      "cell_type": "code",
      "source": [
        "guess_me=7\n",
        "start=1\n",
        "while start>0:\n",
        "  if start==guess_me:\n",
        "    print(\"found it\")\n",
        "  elif start<guess_me:\n",
        "    print(\"too low\")\n",
        "    break\n",
        "    start=start+1\n",
        "    \n",
        "else:\n",
        "  print(\"oops\")\n",
        "  "
      ],
      "metadata": {
        "colab": {
          "base_uri": "https://localhost:8080/"
        },
        "id": "vb-c3sFVi8Hy",
        "outputId": "25c704bd-638e-46c1-9789-df8b454b2509"
      },
      "execution_count": null,
      "outputs": [
        {
          "output_type": "stream",
          "name": "stdout",
          "text": [
            "too low\n"
          ]
        }
      ]
    },
    {
      "cell_type": "markdown",
      "source": [
        "3. Print the following values of the list [3, 2, 1, 0] using a for loop."
      ],
      "metadata": {
        "id": "lfmFPeKimHek"
      }
    },
    {
      "cell_type": "code",
      "source": [
        "l=[3,2,1,0]\n",
        "for i in l:\n",
        "  print(i)"
      ],
      "metadata": {
        "colab": {
          "base_uri": "https://localhost:8080/"
        },
        "id": "mxZlSFuTkCen",
        "outputId": "bd5bc2ff-43a4-4dff-fcbf-0655f577f15f"
      },
      "execution_count": null,
      "outputs": [
        {
          "output_type": "stream",
          "name": "stdout",
          "text": [
            "3\n",
            "2\n",
            "1\n",
            "0\n"
          ]
        }
      ]
    },
    {
      "cell_type": "markdown",
      "source": [
        "4. Use a list comprehension to make a list of the even numbers in range(10)"
      ],
      "metadata": {
        "id": "urRI2IoOmV7w"
      }
    },
    {
      "cell_type": "code",
      "source": [
        "l=[print(i) for i in range(10) if i%2==0]"
      ],
      "metadata": {
        "colab": {
          "base_uri": "https://localhost:8080/"
        },
        "id": "4ZqnvoejmO7s",
        "outputId": "1168e2d5-51b6-4205-ceaf-7c2c500b53df"
      },
      "execution_count": null,
      "outputs": [
        {
          "output_type": "stream",
          "name": "stdout",
          "text": [
            "0\n",
            "2\n",
            "4\n",
            "6\n",
            "8\n"
          ]
        }
      ]
    },
    {
      "cell_type": "markdown",
      "source": [
        "5. Use a dictionary comprehension to create the dictionary squares. Use range(10) to return the\n",
        "keys, and use the square of each key as its value."
      ],
      "metadata": {
        "id": "DCu8bcZKmwmo"
      }
    },
    {
      "cell_type": "code",
      "source": [
        "d={print(i,i**2) for i in range(10)}"
      ],
      "metadata": {
        "colab": {
          "base_uri": "https://localhost:8080/"
        },
        "id": "KmIiJ0t7mqsz",
        "outputId": "a18f86d8-cb94-41f3-fc28-9ea24012a343"
      },
      "execution_count": null,
      "outputs": [
        {
          "output_type": "stream",
          "name": "stdout",
          "text": [
            "0 0\n",
            "1 1\n",
            "2 4\n",
            "3 9\n",
            "4 16\n",
            "5 25\n",
            "6 36\n",
            "7 49\n",
            "8 64\n",
            "9 81\n"
          ]
        }
      ]
    },
    {
      "cell_type": "markdown",
      "source": [
        "6. Construct the set odd from the odd numbers in the range using a set comprehension (10)."
      ],
      "metadata": {
        "id": "hM4eV0BRnK8C"
      }
    },
    {
      "cell_type": "code",
      "source": [
        "s={print(i) for i in range(10)if i%2!=0}"
      ],
      "metadata": {
        "colab": {
          "base_uri": "https://localhost:8080/"
        },
        "id": "1-UIehCknBzp",
        "outputId": "3c20228d-ae1b-495d-a528-21a086ecca6f"
      },
      "execution_count": null,
      "outputs": [
        {
          "output_type": "stream",
          "name": "stdout",
          "text": [
            "1\n",
            "3\n",
            "5\n",
            "7\n",
            "9\n"
          ]
        }
      ]
    },
    {
      "cell_type": "markdown",
      "source": [
        "7. Use a generator comprehension to return the string &#39;Got &#39; and a number for the numbers in\n",
        "range(10). Iterate through this by using a for loop."
      ],
      "metadata": {
        "id": "B98Yt4nrnrRV"
      }
    },
    {
      "cell_type": "code",
      "source": [
        "gen=[ \"got\"+str(i )for i in range(10)]\n",
        "for item in gen:\n",
        "  print(item)\n"
      ],
      "metadata": {
        "colab": {
          "base_uri": "https://localhost:8080/"
        },
        "id": "DVhB8LITw4DB",
        "outputId": "3440c12c-061c-4787-f538-cdfb8ea97132"
      },
      "execution_count": 18,
      "outputs": [
        {
          "output_type": "stream",
          "name": "stdout",
          "text": [
            "got0\n",
            "got1\n",
            "got2\n",
            "got3\n",
            "got4\n",
            "got5\n",
            "got6\n",
            "got7\n",
            "got8\n",
            "got9\n"
          ]
        }
      ]
    },
    {
      "cell_type": "markdown",
      "source": [
        "8. Define a function called good that returns the list [&#39;Harry&#39;, &#39;Ron&#39;, &#39;Hermione&#39;]."
      ],
      "metadata": {
        "id": "oEt_pGYjn7-5"
      }
    },
    {
      "cell_type": "code",
      "source": [
        "l=['Harry', 'Ron', 'Hermione']\n",
        "def good(l):\n",
        "  l1=[]\n",
        "  for i in l:\n",
        "    l1.append(i)\n",
        "  return l1"
      ],
      "metadata": {
        "id": "HJcOoJYpoyyR"
      },
      "execution_count": null,
      "outputs": []
    },
    {
      "cell_type": "code",
      "source": [
        "good(l)"
      ],
      "metadata": {
        "colab": {
          "base_uri": "https://localhost:8080/"
        },
        "id": "JBZivaL1pHOA",
        "outputId": "16a0cf40-099c-412b-a0cd-0de63787d855"
      },
      "execution_count": null,
      "outputs": [
        {
          "output_type": "execute_result",
          "data": {
            "text/plain": [
              "['Harry', 'Ron', 'Hermione']"
            ]
          },
          "metadata": {},
          "execution_count": 33
        }
      ]
    },
    {
      "cell_type": "markdown",
      "source": [
        "9. Define a generator function called get_odds that returns the odd numbers from range(10). Use a\n",
        "for loop to find and print the third value returned."
      ],
      "metadata": {
        "id": "9JjMr2Tdpj1B"
      }
    },
    {
      "cell_type": "code",
      "source": [
        "def get_odds(n):\n",
        "  for i in range(10):\n",
        "    if i%2!=0:\n",
        "      yield i"
      ],
      "metadata": {
        "id": "71cbjfmIpNJN"
      },
      "execution_count": null,
      "outputs": []
    },
    {
      "cell_type": "code",
      "source": [
        "for i in get_odds(10):\n",
        "  if i==3:\n",
        "    print(f\"the third number is:{i}\")\n",
        "  print(i)  "
      ],
      "metadata": {
        "colab": {
          "base_uri": "https://localhost:8080/"
        },
        "id": "X9YBymCQqfi3",
        "outputId": "0c1697dd-0039-4c0e-df0c-57d1742983a8"
      },
      "execution_count": null,
      "outputs": [
        {
          "output_type": "stream",
          "name": "stdout",
          "text": [
            "1\n",
            "the third number is:3\n",
            "3\n",
            "5\n",
            "7\n",
            "9\n"
          ]
        }
      ]
    },
    {
      "cell_type": "markdown",
      "source": [
        "10. Define an exception called OopsException. Raise this exception to see what happens. Then write\n",
        "the code to catch this exception and print &#39;Caught an oops&#39;."
      ],
      "metadata": {
        "id": "1csMBtdb5JI2"
      }
    },
    {
      "cell_type": "markdown",
      "source": [
        "it is an mechanism to handle the error occured during the excution of the program"
      ],
      "metadata": {
        "id": "eRtgNeJC5Zgp"
      }
    },
    {
      "cell_type": "code",
      "source": [
        "a=4\n",
        "try:\n",
        "  a/0\n",
        "  raise(\"Caught an oops\")\n",
        "  \n",
        "except:\n",
        "  print(\"error\")"
      ],
      "metadata": {
        "colab": {
          "base_uri": "https://localhost:8080/"
        },
        "id": "6tzXSeZM5KyH",
        "outputId": "f0bbc332-a99e-47c1-fdb1-6ec89d0187b1"
      },
      "execution_count": 4,
      "outputs": [
        {
          "output_type": "stream",
          "name": "stdout",
          "text": [
            "error\n"
          ]
        }
      ]
    },
    {
      "cell_type": "markdown",
      "source": [
        "11. Use zip() to make a dictionary called movies that pairs these lists: titles = [&#39;Creature of Habit&#39;,\n",
        "&#39;Crewel Fate&#39;] and plots = [&#39;A nun turns into a monster&#39;, &#39;A haunted yarn shop&#39;]."
      ],
      "metadata": {
        "id": "PbKxZsIUtqTa"
      }
    },
    {
      "cell_type": "code",
      "source": [
        "titles=['Creature of Habit', 'Crewel Fate']\n",
        "plots=['A nun turns into a monster', 'A haunted yarn shop']\n",
        "k={}\n",
        "for i,j in zip(titles,plots):\n",
        "  k[i]=j\n",
        "  print(k)"
      ],
      "metadata": {
        "colab": {
          "base_uri": "https://localhost:8080/"
        },
        "id": "bQpj2vXxreQO",
        "outputId": "055acb79-be6c-4b34-dcb0-0f80ce3225f1"
      },
      "execution_count": null,
      "outputs": [
        {
          "output_type": "stream",
          "name": "stdout",
          "text": [
            "{'Creature of Habit': 'A nun turns into a monster'}\n",
            "{'Creature of Habit': 'A nun turns into a monster', 'Crewel Fate': 'A haunted yarn shop'}\n"
          ]
        }
      ]
    },
    {
      "cell_type": "code",
      "source": [],
      "metadata": {
        "id": "eftqAHnxuqj6"
      },
      "execution_count": null,
      "outputs": []
    }
  ]
}