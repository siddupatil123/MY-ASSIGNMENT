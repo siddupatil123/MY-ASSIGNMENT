{
 "cells": [
  {
   "cell_type": "code",
   "execution_count": null,
   "id": "37c12bce",
   "metadata": {},
   "outputs": [],
   "source": [
    "1. In what modes should the PdfFileReader() and PdfFileWriter() File objects will be opened?"
   ]
  },
  {
   "cell_type": "code",
   "execution_count": null,
   "id": "c738e646",
   "metadata": {},
   "outputs": [],
   "source": [
    "pdffilereader() means it opens the file into reading mode\n",
    "pdffilewriter()means it opens the file into writing mode"
   ]
  },
  {
   "cell_type": "code",
   "execution_count": null,
   "id": "d1de9cc6",
   "metadata": {},
   "outputs": [],
   "source": [
    "2. From a PdfFileReader object, how do you get a Page object for page 5?"
   ]
  },
  {
   "cell_type": "code",
   "execution_count": null,
   "id": "4b1b4fbb",
   "metadata": {},
   "outputs": [],
   "source": [
    "by calling getpage()method and passing page number"
   ]
  },
  {
   "cell_type": "code",
   "execution_count": null,
   "id": "18850bb1",
   "metadata": {},
   "outputs": [],
   "source": [
    "3. What PdfFileReader variable stores the number of pages in the PDF document?"
   ]
  },
  {
   "cell_type": "code",
   "execution_count": null,
   "id": "4bede2ca",
   "metadata": {},
   "outputs": [],
   "source": [
    "numpages variable"
   ]
  },
  {
   "cell_type": "code",
   "execution_count": null,
   "id": "aba07712",
   "metadata": {},
   "outputs": [],
   "source": [
    "4. If a PdfFileReader object’s PDF is encrypted with the password swordfish, what must you do\n",
    "before you can obtain Page objects from it?"
   ]
  },
  {
   "cell_type": "code",
   "execution_count": null,
   "id": "9debf10c",
   "metadata": {},
   "outputs": [],
   "source": [
    "you have enter with password swordfish"
   ]
  },
  {
   "cell_type": "code",
   "execution_count": null,
   "id": "424d0fb8",
   "metadata": {},
   "outputs": [],
   "source": [
    "5. What methods do you use to rotate a page?"
   ]
  },
  {
   "cell_type": "code",
   "execution_count": null,
   "id": "18c8d9df",
   "metadata": {},
   "outputs": [],
   "source": [
    "Right-click the selected page or individual pages, and choose the \"Rotate Page\" option. "
   ]
  },
  {
   "cell_type": "code",
   "execution_count": null,
   "id": "e05c311b",
   "metadata": {},
   "outputs": [],
   "source": [
    "6. What is the difference between a Run object and a Paragraph object?"
   ]
  },
  {
   "cell_type": "code",
   "execution_count": null,
   "id": "e87c051e",
   "metadata": {},
   "outputs": [],
   "source": [
    "paragraph objects helps to edit in the same paragraph\n",
    " run objectdemarcates a region of text within the paragraph"
   ]
  },
  {
   "cell_type": "code",
   "execution_count": null,
   "id": "ab2896e2",
   "metadata": {},
   "outputs": [],
   "source": [
    "7. How do you obtain a list of Paragraph objects for a Document object that’s stored in a variable\n",
    "named doc?"
   ]
  },
  {
   "cell_type": "code",
   "execution_count": null,
   "id": "0117c14d",
   "metadata": {},
   "outputs": [],
   "source": [
    "doc.paragraph"
   ]
  },
  {
   "cell_type": "code",
   "execution_count": null,
   "id": "bb56da76",
   "metadata": {},
   "outputs": [],
   "source": [
    "8. What type of object has bold, underline, italic, strike, and outline variables?"
   ]
  },
  {
   "cell_type": "code",
   "execution_count": null,
   "id": "afc970a0",
   "metadata": {},
   "outputs": [],
   "source": [
    "run object has all these"
   ]
  },
  {
   "cell_type": "code",
   "execution_count": null,
   "id": "a651b016",
   "metadata": {},
   "outputs": [],
   "source": [
    "9. What is the difference between False, True, and None for the bold variable?"
   ]
  },
  {
   "cell_type": "code",
   "execution_count": null,
   "id": "6f97a7ab",
   "metadata": {},
   "outputs": [],
   "source": [
    "false-it always diabled\n",
    "true-makes run object bolded\n",
    "none uses always style bolding"
   ]
  },
  {
   "cell_type": "code",
   "execution_count": null,
   "id": "0c3f97cd",
   "metadata": {},
   "outputs": [],
   "source": [
    "10. How do you create a Document object for a new Word document?"
   ]
  },
  {
   "cell_type": "code",
   "execution_count": null,
   "id": "9b187af6",
   "metadata": {},
   "outputs": [],
   "source": [
    "by calling doc.document()function"
   ]
  },
  {
   "cell_type": "code",
   "execution_count": null,
   "id": "34f1a134",
   "metadata": {},
   "outputs": [],
   "source": [
    "11. How do you add a paragraph with the text &#39;Hello, there!&#39; to a Document object stored in a\n",
    "variable named doc?"
   ]
  },
  {
   "cell_type": "code",
   "execution_count": null,
   "id": "529c629a",
   "metadata": {},
   "outputs": [],
   "source": [
    "doc.add_paragraph(\"\")\n",
    "doc.save"
   ]
  },
  {
   "cell_type": "code",
   "execution_count": null,
   "id": "ebd2320a",
   "metadata": {},
   "outputs": [],
   "source": [
    "12. What integers represent the levels of headings available in Word documents?"
   ]
  },
  {
   "cell_type": "code",
   "execution_count": null,
   "id": "dad398a1",
   "metadata": {},
   "outputs": [],
   "source": [
    "0 to 4"
   ]
  }
 ],
 "metadata": {
  "kernelspec": {
   "display_name": "Python 3 (ipykernel)",
   "language": "python",
   "name": "python3"
  },
  "language_info": {
   "codemirror_mode": {
    "name": "ipython",
    "version": 3
   },
   "file_extension": ".py",
   "mimetype": "text/x-python",
   "name": "python",
   "nbconvert_exporter": "python",
   "pygments_lexer": "ipython3",
   "version": "3.9.12"
  }
 },
 "nbformat": 4,
 "nbformat_minor": 5
}
