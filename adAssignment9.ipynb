{
 "cells": [
  {
   "cell_type": "code",
   "execution_count": null,
   "id": "49d7ea96",
   "metadata": {},
   "outputs": [],
   "source": [
    "Q1. In Python 3.X, what are the names and functions of string object types?"
   ]
  },
  {
   "cell_type": "code",
   "execution_count": null,
   "id": "0b1e4d2a",
   "metadata": {},
   "outputs": [],
   "source": [
    "isupper() it checks the uppercase of the letter\n",
    "lower() it cahnges letters into lower case\n",
    "islower() it also checks the letters are in lower case or not...etc"
   ]
  },
  {
   "cell_type": "code",
   "execution_count": null,
   "id": "f19d7c20",
   "metadata": {},
   "outputs": [],
   "source": [
    "Q2. How do the string forms in Python 3.X vary in terms of operations?"
   ]
  },
  {
   "cell_type": "code",
   "execution_count": null,
   "id": "29abc7f7",
   "metadata": {},
   "outputs": [],
   "source": [
    "lower(): Converts a string to the lowercase letter. upper(): Converts a string to the uppercase letter. \n",
    "islower() andisupper(): Checks if the whole string is in lower case or upper case and returns bool value respectively."
   ]
  },
  {
   "cell_type": "code",
   "execution_count": null,
   "id": "5882b1e9",
   "metadata": {},
   "outputs": [],
   "source": [
    "Q3. In 3.X, how do you put non-ASCII Unicode characters in a string?"
   ]
  },
  {
   "cell_type": "code",
   "execution_count": null,
   "id": "6281396e",
   "metadata": {},
   "outputs": [],
   "source": [
    "by coverting into ascii code through encoding and decoding"
   ]
  },
  {
   "cell_type": "code",
   "execution_count": null,
   "id": "8635a8aa",
   "metadata": {},
   "outputs": [],
   "source": [
    "Q4. In Python 3.X, what are the key differences between text-mode and binary-mode files?"
   ]
  },
  {
   "cell_type": "code",
   "execution_count": null,
   "id": "f561c235",
   "metadata": {},
   "outputs": [],
   "source": [
    "in text mode the code written in the text format whereas in binary mode it can be written in either 0/1 format"
   ]
  },
  {
   "cell_type": "code",
   "execution_count": null,
   "id": "92d74520",
   "metadata": {},
   "outputs": [],
   "source": [
    "Q5. How can you interpret a Unicode text file containing text encoded in a different encoding than\n",
    "your platform&#39;s default?"
   ]
  },
  {
   "cell_type": "code",
   "execution_count": null,
   "id": "154f9752",
   "metadata": {},
   "outputs": [],
   "source": [
    "then change the file and decode it then read the file"
   ]
  },
  {
   "cell_type": "code",
   "execution_count": null,
   "id": "587e91ec",
   "metadata": {},
   "outputs": [],
   "source": [
    "Q6. What is the best way to make a Unicode text file in a particular encoding format?"
   ]
  },
  {
   "cell_type": "code",
   "execution_count": null,
   "id": "4aa729e9",
   "metadata": {},
   "outputs": [],
   "source": [
    "by using normal open() the encode ourself or by using codecs() method"
   ]
  },
  {
   "cell_type": "code",
   "execution_count": null,
   "id": "0b4cb14c",
   "metadata": {},
   "outputs": [],
   "source": [
    "Q7. What qualifies ASCII text as a form of Unicode text?"
   ]
  },
  {
   "cell_type": "code",
   "execution_count": null,
   "id": "4830e85c",
   "metadata": {},
   "outputs": [],
   "source": [
    "ascii code takes symbols,text, digits and also the unicode text contains same "
   ]
  },
  {
   "cell_type": "code",
   "execution_count": null,
   "id": "07c68275",
   "metadata": {},
   "outputs": [],
   "source": [
    "Q8. How much of an effect does the change in string types in Python 3.X have on your code?"
   ]
  },
  {
   "cell_type": "code",
   "execution_count": null,
   "id": "67dabd92",
   "metadata": {},
   "outputs": [],
   "source": [
    "string is immutable and string value cannot be changed"
   ]
  }
 ],
 "metadata": {
  "kernelspec": {
   "display_name": "Python 3 (ipykernel)",
   "language": "python",
   "name": "python3"
  },
  "language_info": {
   "codemirror_mode": {
    "name": "ipython",
    "version": 3
   },
   "file_extension": ".py",
   "mimetype": "text/x-python",
   "name": "python",
   "nbconvert_exporter": "python",
   "pygments_lexer": "ipython3",
   "version": "3.9.12"
  }
 },
 "nbformat": 4,
 "nbformat_minor": 5
}
