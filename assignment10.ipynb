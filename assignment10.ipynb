{
 "cells": [
  {
   "cell_type": "code",
   "execution_count": null,
   "id": "97244be1",
   "metadata": {},
   "outputs": [],
   "source": [
    "1. How do you distinguish between shutil.copy() and shutil.copytree()?"
   ]
  },
  {
   "cell_type": "code",
   "execution_count": null,
   "id": "bc2d099b",
   "metadata": {},
   "outputs": [],
   "source": [
    "ANSWER: shutil.copy() will copy only single file whreas shutil.copytree() will copy entire folder"
   ]
  },
  {
   "cell_type": "code",
   "execution_count": null,
   "id": "b710651e",
   "metadata": {},
   "outputs": [],
   "source": [
    "2. What function is used to rename files??"
   ]
  },
  {
   "cell_type": "code",
   "execution_count": null,
   "id": "b79b76e7",
   "metadata": {},
   "outputs": [],
   "source": [
    "ANSWER:we use filename.rename() to rename the file"
   ]
  },
  {
   "cell_type": "code",
   "execution_count": null,
   "id": "7b9b66f7",
   "metadata": {},
   "outputs": [],
   "source": [
    "3. What is the difference between the delete functions in the send2trash and shutil modules?"
   ]
  },
  {
   "cell_type": "code",
   "execution_count": null,
   "id": "634589b4",
   "metadata": {},
   "outputs": [],
   "source": [
    "ANSWER:send2trash will move the file to the recycle bin whreas shutil will permentaly delete the file "
   ]
  },
  {
   "cell_type": "code",
   "execution_count": null,
   "id": "1bdcc182",
   "metadata": {},
   "outputs": [],
   "source": [
    "4.ZipFile objects have a close() method just like File objects’ close() method. What ZipFile method is\n",
    "equivalent to File objects’ open() method?"
   ]
  },
  {
   "cell_type": "code",
   "execution_count": null,
   "id": "47fa1ad8",
   "metadata": {},
   "outputs": [],
   "source": [
    "ANSWER:zipfilename.zipfile()is same as open()in file method"
   ]
  },
  {
   "cell_type": "code",
   "execution_count": null,
   "id": "aab244d6",
   "metadata": {},
   "outputs": [],
   "source": []
  }
 ],
 "metadata": {
  "kernelspec": {
   "display_name": "Python 3 (ipykernel)",
   "language": "python",
   "name": "python3"
  },
  "language_info": {
   "codemirror_mode": {
    "name": "ipython",
    "version": 3
   },
   "file_extension": ".py",
   "mimetype": "text/x-python",
   "name": "python",
   "nbconvert_exporter": "python",
   "pygments_lexer": "ipython3",
   "version": "3.9.12"
  }
 },
 "nbformat": 4,
 "nbformat_minor": 5
}
