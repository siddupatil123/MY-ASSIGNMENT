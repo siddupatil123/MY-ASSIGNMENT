{
 "cells": [
  {
   "cell_type": "code",
   "execution_count": null,
   "id": "5d548c90",
   "metadata": {},
   "outputs": [],
   "source": [
    "Q1. What is the distinction between a numpy array and a pandas data frame? Is there a way to\n",
    "convert between the two if there is?"
   ]
  },
  {
   "cell_type": "code",
   "execution_count": null,
   "id": "794f1882",
   "metadata": {},
   "outputs": [],
   "source": [
    "The Pandas module mainly works with the tabular data, whereas the NumPy module works with the numerical data."
   ]
  },
  {
   "cell_type": "code",
   "execution_count": null,
   "id": "6179e7b0",
   "metadata": {},
   "outputs": [],
   "source": [
    "Q2. What can go wrong when an user enters in a stock-ticker symbol, and how do you handle it?"
   ]
  },
  {
   "cell_type": "code",
   "execution_count": null,
   "id": "349ae082",
   "metadata": {},
   "outputs": [],
   "source": [
    "stock ticker symbol does not affect it helps us to know the identification of a comapny"
   ]
  },
  {
   "cell_type": "code",
   "execution_count": null,
   "id": "a6fcb0ce",
   "metadata": {},
   "outputs": [],
   "source": [
    "Q3. Identify some of the plotting techniques that are used to produce a stock-market chart."
   ]
  },
  {
   "cell_type": "code",
   "execution_count": null,
   "id": "73d28da7",
   "metadata": {},
   "outputs": [],
   "source": [
    "line chart ,bar chart,pie chart etc"
   ]
  },
  {
   "cell_type": "code",
   "execution_count": null,
   "id": "70a33da5",
   "metadata": {},
   "outputs": [],
   "source": [
    "Q4. Why is it essential to print a legend on a stock market chart?"
   ]
  },
  {
   "cell_type": "code",
   "execution_count": null,
   "id": "d5047c8e",
   "metadata": {},
   "outputs": [],
   "source": [
    "the legend displays information about the points that are currently hovered over or, \n",
    "if none are hovered over, about the last points shown on the plot."
   ]
  },
  {
   "cell_type": "code",
   "execution_count": null,
   "id": "e8439e3a",
   "metadata": {},
   "outputs": [],
   "source": [
    "Q5. What is the best way to limit the length of a pandas data frame to less than a year?"
   ]
  },
  {
   "cell_type": "code",
   "execution_count": null,
   "id": "40f3a22c",
   "metadata": {},
   "outputs": [],
   "source": [
    "by using smaller numeric methods"
   ]
  },
  {
   "cell_type": "code",
   "execution_count": null,
   "id": "793afd3b",
   "metadata": {},
   "outputs": [],
   "source": [
    "Q6. What is the definition of a 180-day moving average?"
   ]
  },
  {
   "cell_type": "code",
   "execution_count": null,
   "id": "488e876e",
   "metadata": {},
   "outputs": [],
   "source": [
    "it is a technical analysis indicator that helps level price action by filtering out the noise from random price fluctuations."
   ]
  }
 ],
 "metadata": {
  "kernelspec": {
   "display_name": "Python 3 (ipykernel)",
   "language": "python",
   "name": "python3"
  },
  "language_info": {
   "codemirror_mode": {
    "name": "ipython",
    "version": 3
   },
   "file_extension": ".py",
   "mimetype": "text/x-python",
   "name": "python",
   "nbconvert_exporter": "python",
   "pygments_lexer": "ipython3",
   "version": "3.9.12"
  }
 },
 "nbformat": 4,
 "nbformat_minor": 5
}
