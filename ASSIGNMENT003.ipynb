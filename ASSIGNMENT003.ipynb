{
  "nbformat": 4,
  "nbformat_minor": 0,
  "metadata": {
    "colab": {
      "provenance": []
    },
    "kernelspec": {
      "name": "python3",
      "display_name": "Python 3"
    },
    "language_info": {
      "name": "python"
    }
  },
  "cells": [
    {
      "cell_type": "markdown",
      "source": [
        "1. Why are functions advantageous to have in your programs?"
      ],
      "metadata": {
        "id": "4H07Tgea553n"
      }
    },
    {
      "cell_type": "markdown",
      "source": [
        "ANSWER: it reduces the creating of the same code for another time"
      ],
      "metadata": {
        "id": "dvAMBA6O6DG1"
      }
    },
    {
      "cell_type": "markdown",
      "source": [
        "2. When does the code in a function run: when it&#39;s specified or when it&#39;s called?"
      ],
      "metadata": {
        "id": "VGs5Ygw66M1e"
      }
    },
    {
      "cell_type": "markdown",
      "source": [
        "ANSWER: the code in a function run when the function is called "
      ],
      "metadata": {
        "id": "ffFh2ckI6aKz"
      }
    },
    {
      "cell_type": "markdown",
      "source": [
        "3. What statement creates a function?"
      ],
      "metadata": {
        "id": "4Bdo51OK6pul"
      }
    },
    {
      "cell_type": "markdown",
      "source": [
        "ANSWER: def keyword is the statement to create a function"
      ],
      "metadata": {
        "id": "D84bMb0Q7DwW"
      }
    },
    {
      "cell_type": "markdown",
      "source": [
        "4. What is the difference between a function and a function call?"
      ],
      "metadata": {
        "id": "KHIathSV7PM-"
      }
    },
    {
      "cell_type": "markdown",
      "source": [
        "ANSWER:\n",
        "\n",
        "\n",
        "function is a set codes which is used to perform some operation and give result\n",
        "\n",
        "\n",
        "function call is the code used to control the function"
      ],
      "metadata": {
        "id": "so1qRe5C7cAe"
      }
    },
    {
      "cell_type": "markdown",
      "source": [
        "5. How many global scopes are there in a Python program? How many local scopes?"
      ],
      "metadata": {
        "id": "S9GuEGSj71Hf"
      }
    },
    {
      "cell_type": "markdown",
      "source": [
        "ANSWER:2,4"
      ],
      "metadata": {
        "id": "-2INoi9RD3Zn"
      }
    },
    {
      "cell_type": "markdown",
      "source": [
        "6. What happens to variables in a local scope when the function call returns?"
      ],
      "metadata": {
        "id": "bk1y5evj9zPO"
      }
    },
    {
      "cell_type": "markdown",
      "source": [
        "ANSWER: when function returns yhe local variable will disappears"
      ],
      "metadata": {
        "id": "QOKwYkI19-Is"
      }
    },
    {
      "cell_type": "markdown",
      "source": [
        "7. What is the concept of a return value? Is it possible to have a return value in an expression?"
      ],
      "metadata": {
        "id": "c6_JLkJu-NSo"
      }
    },
    {
      "cell_type": "markdown",
      "source": [
        "ANSWER: return value gives the enclosed output after the program execution\n",
        "\n",
        "\n",
        " yes it is possible"
      ],
      "metadata": {
        "id": "SqPGRwCN-eDc"
      }
    },
    {
      "cell_type": "markdown",
      "source": [
        "8. If a function does not have a return statement, what is the return value of a call to that function?"
      ],
      "metadata": {
        "id": "paoo_bra_CKn"
      }
    },
    {
      "cell_type": "markdown",
      "source": [
        "AMSWER:it does not give any output it simply returns none\n",
        "\n"
      ],
      "metadata": {
        "id": "wBpuWIxV_OZ4"
      }
    },
    {
      "cell_type": "markdown",
      "source": [
        "9. How do you make a function variable refer to the global variable?"
      ],
      "metadata": {
        "id": "O_LabHNZBEKx"
      }
    },
    {
      "cell_type": "markdown",
      "source": [
        "ANSWER: by using global keyword inside the function"
      ],
      "metadata": {
        "id": "y5fFCknPBjrU"
      }
    },
    {
      "cell_type": "markdown",
      "source": [
        "10. What is the data type of None?"
      ],
      "metadata": {
        "id": "_J5Fm28BB1jv"
      }
    },
    {
      "cell_type": "markdown",
      "source": [
        "ANSWER: it is no value or null"
      ],
      "metadata": {
        "id": "yfFd5yAeB3Af"
      }
    },
    {
      "cell_type": "markdown",
      "source": [
        "11. What does the sentence import areallyourpetsnamederic do?"
      ],
      "metadata": {
        "id": "z-u80K9TCQ5v"
      }
    },
    {
      "cell_type": "markdown",
      "source": [
        "ANSWER: it imports the  the module areallyourpetsnamederic"
      ],
      "metadata": {
        "id": "TurtTYtpCV5j"
      }
    },
    {
      "cell_type": "markdown",
      "source": [
        "12. If you had a bacon() feature in a spam module, what would you call it after importing spam?"
      ],
      "metadata": {
        "id": "pwWDRGIzCtZe"
      }
    },
    {
      "cell_type": "markdown",
      "source": [
        "ANSWER: spam.bacon()"
      ],
      "metadata": {
        "id": "fWIJq-5yCvAb"
      }
    },
    {
      "cell_type": "markdown",
      "source": [
        "13. What can you do to save a programme from crashing if it encounters an error?"
      ],
      "metadata": {
        "id": "akIahjxbETej"
      }
    },
    {
      "cell_type": "markdown",
      "source": [
        "ANSWER: we use try an except statements"
      ],
      "metadata": {
        "id": "g5H3YmioEVHV"
      }
    },
    {
      "cell_type": "markdown",
      "source": [
        "14. What is the purpose of the try clause? What is the purpose of the except clause?\n"
      ],
      "metadata": {
        "id": "2MWnB1asDHSY"
      }
    },
    {
      "cell_type": "markdown",
      "source": [
        "ANSWER: except clause handels the error\n",
        "\n",
        "try block tests the block of code for errors"
      ],
      "metadata": {
        "id": "W8aJlBwvDI72"
      }
    },
    {
      "cell_type": "code",
      "source": [],
      "metadata": {
        "id": "l7RSljhj93pT"
      },
      "execution_count": null,
      "outputs": []
    }
  ]
}